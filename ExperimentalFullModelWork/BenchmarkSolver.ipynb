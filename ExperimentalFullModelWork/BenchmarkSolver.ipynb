{
 "cells": [
  {
   "cell_type": "markdown",
   "metadata": {},
   "source": [
    "This file has the results of testing the effects of tolerance on my adaptive solver in order to see how the algorithm can be sped up without negative effects."
   ]
  },
  {
   "cell_type": "code",
   "execution_count": 4,
   "metadata": {},
   "outputs": [
    {
     "name": "stderr",
     "output_type": "stream",
     "text": [
      "WARNING: redefinition of constant fullrn. This may fail, cause incorrect answers, or produce other errors.\n",
      "WARNING: redefinition of constant prob. This may fail, cause incorrect answers, or produce other errors.\n"
     ]
    },
    {
     "data": {
      "text/plain": [
       "900"
      ]
     },
     "metadata": {},
     "output_type": "display_data"
    }
   ],
   "source": [
    "using BenchmarkTools\n",
    "using CSV\n",
    "using DataFrames\n",
    "using Random\n",
    "using Distributions\n",
    "using Plots\n",
    "include(\"EvaluationFunctions.jl\")\n",
    "include(\"Constants.jl\")"
   ]
  },
  {
   "cell_type": "code",
   "execution_count": 32,
   "metadata": {},
   "outputs": [
    {
     "data": {
      "text/plain": [
       "16-element Vector{Float64}:\n",
       " 0.0\n",
       " 0.5133355009762635\n",
       " 0.820348\n",
       " 2.6596837508207485\n",
       " 0.0\n",
       " 0.0\n",
       " 0.0\n",
       " 0.0\n",
       " 0.0\n",
       " 0.0\n",
       " 0.0\n",
       " 0.0\n",
       " 0.0\n",
       " 0.0\n",
       " 0.0\n",
       " 0.0"
      ]
     },
     "metadata": {},
     "output_type": "display_data"
    }
   ],
   "source": [
    "psym = [:ka1 => 0.009433439939827041, :kb1 => 2.3550169939427845, :kcat1 => 832.7213093872278, :ka2 => 12.993995997539924, :kb2 => 6.150972501791291,\n",
    "        :ka3 => 1.3481451097940793, :kb3 => 0.006201726090609513, :ka4 => 0.006277294665474662, :kb4 => 0.9250191811994848, :ka7 => 57.36471615394549, \n",
    "        :kb7 => 0.04411989797898752, :kcat7 => 42.288085868394326, :y => 3631.050539219606]\n",
    "p = [x[2] for x in psym]\n",
    "    \n",
    "#initial condition list\n",
    "usym = [:L => 0, :K => 10^-0.2895987, :P => 0.820348, :A => 10^0.42483, :Lp => 0.0, :LpA => 0.0, :LK => 0.0, \n",
    "        :LpP => 0.0, :LpAK => 0.0, :LpAP => 0.0, :LpAKL => 0.0, :LpAPLp => 0.0, :AK => 0.0, :AP => 0.0, \n",
    "        :AKL => 0.0, :APLp => 0.0]\n",
    "u0 = [x[2] for x in usym]"
   ]
  },
  {
   "cell_type": "markdown",
   "metadata": {},
   "source": [
    "Below is some modified code from when I was testing the adaptive solver as a classifier. It is useful for iterating the adaptive solver over many  different initial concentrations and generating output that cna then be analyzed to ensure that the number of numerical errors is not increasing."
   ]
  },
  {
   "cell_type": "code",
   "execution_count": 33,
   "metadata": {},
   "outputs": [
    {
     "data": {
      "text/plain": [
       "testClassifier (generic function with 1 method)"
      ]
     },
     "metadata": {},
     "output_type": "display_data"
    }
   ],
   "source": [
    "function testClassifier(numIterations; saveCSV = true, outputdirectory = \"/Users/ezragreenberg/Julia/Someplots/\",filename=\"mytest1.csv\", abstol=1e-8, reltol=1e-12)\n",
    "    #df = DataFrame(u0=Vector{Float64}[], p=Vector{Float64}[], retcode=Float64[], per=Float64[], amp=Float64[])\n",
    "    #CSV of array gets read in as string, will have to generalize this later\n",
    "    df = DataFrame(L=Float64[],K=Float64[],P=Float64[],A=Float64[], retcode=Float64[], per=Float64[], amp=Float64[])\n",
    "    for i in 1:numIterations\n",
    "        u0[1] = rand(Random.seed!(i),Distributions.LogUniform(0.01, 100)) #Lp #1 for L, 2 for Lp\n",
    "        u0[2] = rand(Random.seed!(numIterations + i),Distributions.LogUniform(0.001, 100)) #K\n",
    "        u0[3] = rand(Random.seed!(2 * numIterations + i),Distributions.LogUniform(0.01, 100)) #P\n",
    "        u0[4] = rand(Random.seed!(3 * numIterations + i),Distributions.LogUniform(0.001, 100)) #A\n",
    "        retcode = adaptiveSolve(prob, u0, shortSpan, longSpan, p; abstol = abstol, reltol = reltol)\n",
    "        push!(df, Dict(:L=>u0[1],:K=>u0[2],:P=>u0[3],:A=>u0[4], :retcode => retcode[1], :per => retcode[2], :amp =>retcode[3]))\n",
    "    end\n",
    "    if saveCSV\n",
    "        CSV.write(outputdirectory*filename, df)\n",
    "    end\n",
    "    return df\n",
    "end"
   ]
  },
  {
   "cell_type": "markdown",
   "metadata": {},
   "source": [
    "I first will test it with the tolerances I have set so far: reltol of 1e-12 and abstol of 1e-8"
   ]
  },
  {
   "cell_type": "code",
   "execution_count": 34,
   "metadata": {},
   "outputs": [
    {
     "name": "stdout",
     "output_type": "stream",
     "text": [
      "  12.556 s (5247777 allocations: 1.27 GiB)\n"
     ]
    },
    {
     "data": {
      "text/html": [
       "<div><div style = \"float: left;\"><span>10000×7 DataFrame</span></div><div style = \"float: right;\"><span style = \"font-style: italic;\">9975 rows omitted</span></div><div style = \"clear: both;\"></div></div><div class = \"data-frame\" style = \"overflow-x: scroll;\"><table class = \"data-frame\" style = \"margin-bottom: 6px;\"><thead><tr class = \"header\"><th class = \"rowNumber\" style = \"font-weight: bold; text-align: right;\">Row</th><th style = \"text-align: left;\">L</th><th style = \"text-align: left;\">K</th><th style = \"text-align: left;\">P</th><th style = \"text-align: left;\">A</th><th style = \"text-align: left;\">retcode</th><th style = \"text-align: left;\">per</th><th style = \"text-align: left;\">amp</th></tr><tr class = \"subheader headerLastRow\"><th class = \"rowNumber\" style = \"font-weight: bold; text-align: right;\"></th><th title = \"Float64\" style = \"text-align: left;\">Float64</th><th title = \"Float64\" style = \"text-align: left;\">Float64</th><th title = \"Float64\" style = \"text-align: left;\">Float64</th><th title = \"Float64\" style = \"text-align: left;\">Float64</th><th title = \"Float64\" style = \"text-align: left;\">Float64</th><th title = \"Float64\" style = \"text-align: left;\">Float64</th><th title = \"Float64\" style = \"text-align: left;\">Float64</th></tr></thead><tbody><tr><td class = \"rowNumber\" style = \"font-weight: bold; text-align: right;\">1</td><td style = \"text-align: right;\">0.0196547</td><td style = \"text-align: right;\">0.302516</td><td style = \"text-align: right;\">48.8004</td><td style = \"text-align: right;\">0.104239</td><td style = \"text-align: right;\">1.1</td><td style = \"text-align: right;\">0.0</td><td style = \"text-align: right;\">0.0</td></tr><tr><td class = \"rowNumber\" style = \"font-weight: bold; text-align: right;\">2</td><td style = \"text-align: right;\">0.0102095</td><td style = \"text-align: right;\">0.00388036</td><td style = \"text-align: right;\">0.564983</td><td style = \"text-align: right;\">0.00240571</td><td style = \"text-align: right;\">2.0</td><td style = \"text-align: right;\">0.0</td><td style = \"text-align: right;\">0.0</td></tr><tr><td class = \"rowNumber\" style = \"font-weight: bold; text-align: right;\">3</td><td style = \"text-align: right;\">0.228528</td><td style = \"text-align: right;\">6.19631</td><td style = \"text-align: right;\">28.7427</td><td style = \"text-align: right;\">4.61154</td><td style = \"text-align: right;\">1.1</td><td style = \"text-align: right;\">0.0</td><td style = \"text-align: right;\">0.0</td></tr><tr><td class = \"rowNumber\" style = \"font-weight: bold; text-align: right;\">4</td><td style = \"text-align: right;\">26.1779</td><td style = \"text-align: right;\">0.222948</td><td style = \"text-align: right;\">0.765262</td><td style = \"text-align: right;\">9.06722</td><td style = \"text-align: right;\">1.1</td><td style = \"text-align: right;\">0.0</td><td style = \"text-align: right;\">0.0</td></tr><tr><td class = \"rowNumber\" style = \"font-weight: bold; text-align: right;\">5</td><td style = \"text-align: right;\">81.3937</td><td style = \"text-align: right;\">0.0146195</td><td style = \"text-align: right;\">0.511188</td><td style = \"text-align: right;\">0.0429213</td><td style = \"text-align: right;\">2.0</td><td style = \"text-align: right;\">0.0</td><td style = \"text-align: right;\">0.0</td></tr><tr><td class = \"rowNumber\" style = \"font-weight: bold; text-align: right;\">6</td><td style = \"text-align: right;\">21.876</td><td style = \"text-align: right;\">0.592596</td><td style = \"text-align: right;\">0.0215943</td><td style = \"text-align: right;\">0.0856965</td><td style = \"text-align: right;\">1.1</td><td style = \"text-align: right;\">0.0</td><td style = \"text-align: right;\">0.0</td></tr><tr><td class = \"rowNumber\" style = \"font-weight: bold; text-align: right;\">7</td><td style = \"text-align: right;\">0.0944455</td><td style = \"text-align: right;\">0.00169754</td><td style = \"text-align: right;\">0.540428</td><td style = \"text-align: right;\">0.0316907</td><td style = \"text-align: right;\">2.0</td><td style = \"text-align: right;\">0.0</td><td style = \"text-align: right;\">0.0</td></tr><tr><td class = \"rowNumber\" style = \"font-weight: bold; text-align: right;\">8</td><td style = \"text-align: right;\">0.485438</td><td style = \"text-align: right;\">1.4489</td><td style = \"text-align: right;\">0.0901489</td><td style = \"text-align: right;\">0.202443</td><td style = \"text-align: right;\">1.1</td><td style = \"text-align: right;\">0.0</td><td style = \"text-align: right;\">0.0</td></tr><tr><td class = \"rowNumber\" style = \"font-weight: bold; text-align: right;\">9</td><td style = \"text-align: right;\">0.195302</td><td style = \"text-align: right;\">0.700483</td><td style = \"text-align: right;\">2.5215</td><td style = \"text-align: right;\">0.0150069</td><td style = \"text-align: right;\">1.1</td><td style = \"text-align: right;\">0.0</td><td style = \"text-align: right;\">0.0</td></tr><tr><td class = \"rowNumber\" style = \"font-weight: bold; text-align: right;\">10</td><td style = \"text-align: right;\">0.160022</td><td style = \"text-align: right;\">95.328</td><td style = \"text-align: right;\">1.55556</td><td style = \"text-align: right;\">0.00112746</td><td style = \"text-align: right;\">1.1</td><td style = \"text-align: right;\">0.0</td><td style = \"text-align: right;\">0.0</td></tr><tr><td class = \"rowNumber\" style = \"font-weight: bold; text-align: right;\">11</td><td style = \"text-align: right;\">2.09913</td><td style = \"text-align: right;\">0.00292811</td><td style = \"text-align: right;\">2.00092</td><td style = \"text-align: right;\">0.418634</td><td style = \"text-align: right;\">1.1</td><td style = \"text-align: right;\">0.0</td><td style = \"text-align: right;\">0.0</td></tr><tr><td class = \"rowNumber\" style = \"font-weight: bold; text-align: right;\">12</td><td style = \"text-align: right;\">0.190867</td><td style = \"text-align: right;\">99.7636</td><td style = \"text-align: right;\">0.0984292</td><td style = \"text-align: right;\">11.217</td><td style = \"text-align: right;\">1.1</td><td style = \"text-align: right;\">0.0</td><td style = \"text-align: right;\">0.0</td></tr><tr><td class = \"rowNumber\" style = \"font-weight: bold; text-align: right;\">13</td><td style = \"text-align: right;\">0.0403366</td><td style = \"text-align: right;\">0.1094</td><td style = \"text-align: right;\">0.0118241</td><td style = \"text-align: right;\">0.0103897</td><td style = \"text-align: right;\">1.1</td><td style = \"text-align: right;\">0.0</td><td style = \"text-align: right;\">0.0</td></tr><tr><td style = \"text-align: right;\">&vellip;</td><td style = \"text-align: right;\">&vellip;</td><td style = \"text-align: right;\">&vellip;</td><td style = \"text-align: right;\">&vellip;</td><td style = \"text-align: right;\">&vellip;</td><td style = \"text-align: right;\">&vellip;</td><td style = \"text-align: right;\">&vellip;</td><td style = \"text-align: right;\">&vellip;</td></tr><tr><td class = \"rowNumber\" style = \"font-weight: bold; text-align: right;\">9989</td><td style = \"text-align: right;\">0.019961</td><td style = \"text-align: right;\">20.384</td><td style = \"text-align: right;\">15.5194</td><td style = \"text-align: right;\">0.0665744</td><td style = \"text-align: right;\">1.1</td><td style = \"text-align: right;\">0.0</td><td style = \"text-align: right;\">0.0</td></tr><tr><td class = \"rowNumber\" style = \"font-weight: bold; text-align: right;\">9990</td><td style = \"text-align: right;\">0.0300246</td><td style = \"text-align: right;\">1.42885</td><td style = \"text-align: right;\">10.6908</td><td style = \"text-align: right;\">69.2182</td><td style = \"text-align: right;\">1.1</td><td style = \"text-align: right;\">0.0</td><td style = \"text-align: right;\">0.0</td></tr><tr><td class = \"rowNumber\" style = \"font-weight: bold; text-align: right;\">9991</td><td style = \"text-align: right;\">51.4214</td><td style = \"text-align: right;\">0.0252568</td><td style = \"text-align: right;\">53.1754</td><td style = \"text-align: right;\">0.00631581</td><td style = \"text-align: right;\">2.0</td><td style = \"text-align: right;\">0.0</td><td style = \"text-align: right;\">0.0</td></tr><tr><td class = \"rowNumber\" style = \"font-weight: bold; text-align: right;\">9992</td><td style = \"text-align: right;\">0.0463049</td><td style = \"text-align: right;\">0.00214467</td><td style = \"text-align: right;\">0.422708</td><td style = \"text-align: right;\">0.00232608</td><td style = \"text-align: right;\">2.0</td><td style = \"text-align: right;\">0.0</td><td style = \"text-align: right;\">0.0</td></tr><tr><td class = \"rowNumber\" style = \"font-weight: bold; text-align: right;\">9993</td><td style = \"text-align: right;\">3.90439</td><td style = \"text-align: right;\">9.75595</td><td style = \"text-align: right;\">0.129582</td><td style = \"text-align: right;\">77.4511</td><td style = \"text-align: right;\">1.1</td><td style = \"text-align: right;\">0.0</td><td style = \"text-align: right;\">0.0</td></tr><tr><td class = \"rowNumber\" style = \"font-weight: bold; text-align: right;\">9994</td><td style = \"text-align: right;\">92.5956</td><td style = \"text-align: right;\">0.515188</td><td style = \"text-align: right;\">0.174252</td><td style = \"text-align: right;\">0.00106495</td><td style = \"text-align: right;\">1.1</td><td style = \"text-align: right;\">0.0</td><td style = \"text-align: right;\">0.0</td></tr><tr><td class = \"rowNumber\" style = \"font-weight: bold; text-align: right;\">9995</td><td style = \"text-align: right;\">0.434564</td><td style = \"text-align: right;\">2.02272</td><td style = \"text-align: right;\">0.268893</td><td style = \"text-align: right;\">0.00203618</td><td style = \"text-align: right;\">1.1</td><td style = \"text-align: right;\">0.0</td><td style = \"text-align: right;\">0.0</td></tr><tr><td class = \"rowNumber\" style = \"font-weight: bold; text-align: right;\">9996</td><td style = \"text-align: right;\">0.0200032</td><td style = \"text-align: right;\">0.0602324</td><td style = \"text-align: right;\">16.1142</td><td style = \"text-align: right;\">16.2085</td><td style = \"text-align: right;\">1.1</td><td style = \"text-align: right;\">0.0</td><td style = \"text-align: right;\">0.0</td></tr><tr><td class = \"rowNumber\" style = \"font-weight: bold; text-align: right;\">9997</td><td style = \"text-align: right;\">6.23388</td><td style = \"text-align: right;\">0.00239091</td><td style = \"text-align: right;\">1.2764</td><td style = \"text-align: right;\">35.967</td><td style = \"text-align: right;\">1.1</td><td style = \"text-align: right;\">0.0</td><td style = \"text-align: right;\">0.0</td></tr><tr><td class = \"rowNumber\" style = \"font-weight: bold; text-align: right;\">9998</td><td style = \"text-align: right;\">3.44491</td><td style = \"text-align: right;\">0.0501479</td><td style = \"text-align: right;\">2.06706</td><td style = \"text-align: right;\">0.108802</td><td style = \"text-align: right;\">2.0</td><td style = \"text-align: right;\">0.0</td><td style = \"text-align: right;\">0.0</td></tr><tr><td class = \"rowNumber\" style = \"font-weight: bold; text-align: right;\">9999</td><td style = \"text-align: right;\">0.358607</td><td style = \"text-align: right;\">0.0251252</td><td style = \"text-align: right;\">0.274985</td><td style = \"text-align: right;\">0.00525337</td><td style = \"text-align: right;\">2.0</td><td style = \"text-align: right;\">0.0</td><td style = \"text-align: right;\">0.0</td></tr><tr><td class = \"rowNumber\" style = \"font-weight: bold; text-align: right;\">10000</td><td style = \"text-align: right;\">24.1694</td><td style = \"text-align: right;\">0.00861932</td><td style = \"text-align: right;\">0.335293</td><td style = \"text-align: right;\">1.69783</td><td style = \"text-align: right;\">1.1</td><td style = \"text-align: right;\">0.0</td><td style = \"text-align: right;\">0.0</td></tr></tbody></table></div>"
      ],
      "text/latex": [
       "\\begin{tabular}{r|ccccccc}\n",
       "\t& L & K & P & A & retcode & per & amp\\\\\n",
       "\t\\hline\n",
       "\t& Float64 & Float64 & Float64 & Float64 & Float64 & Float64 & Float64\\\\\n",
       "\t\\hline\n",
       "\t1 & 0.0196547 & 0.302516 & 48.8004 & 0.104239 & 1.1 & 0.0 & 0.0 \\\\\n",
       "\t2 & 0.0102095 & 0.00388036 & 0.564983 & 0.00240571 & 2.0 & 0.0 & 0.0 \\\\\n",
       "\t3 & 0.228528 & 6.19631 & 28.7427 & 4.61154 & 1.1 & 0.0 & 0.0 \\\\\n",
       "\t4 & 26.1779 & 0.222948 & 0.765262 & 9.06722 & 1.1 & 0.0 & 0.0 \\\\\n",
       "\t5 & 81.3937 & 0.0146195 & 0.511188 & 0.0429213 & 2.0 & 0.0 & 0.0 \\\\\n",
       "\t6 & 21.876 & 0.592596 & 0.0215943 & 0.0856965 & 1.1 & 0.0 & 0.0 \\\\\n",
       "\t7 & 0.0944455 & 0.00169754 & 0.540428 & 0.0316907 & 2.0 & 0.0 & 0.0 \\\\\n",
       "\t8 & 0.485438 & 1.4489 & 0.0901489 & 0.202443 & 1.1 & 0.0 & 0.0 \\\\\n",
       "\t9 & 0.195302 & 0.700483 & 2.5215 & 0.0150069 & 1.1 & 0.0 & 0.0 \\\\\n",
       "\t10 & 0.160022 & 95.328 & 1.55556 & 0.00112746 & 1.1 & 0.0 & 0.0 \\\\\n",
       "\t11 & 2.09913 & 0.00292811 & 2.00092 & 0.418634 & 1.1 & 0.0 & 0.0 \\\\\n",
       "\t12 & 0.190867 & 99.7636 & 0.0984292 & 11.217 & 1.1 & 0.0 & 0.0 \\\\\n",
       "\t13 & 0.0403366 & 0.1094 & 0.0118241 & 0.0103897 & 1.1 & 0.0 & 0.0 \\\\\n",
       "\t14 & 18.84 & 0.00327254 & 0.108319 & 0.052724 & 2.0 & 0.0 & 0.0 \\\\\n",
       "\t15 & 0.193918 & 0.407892 & 0.0415015 & 0.00685647 & 1.1 & 0.0 & 0.0 \\\\\n",
       "\t16 & 1.16885 & 31.7266 & 0.140166 & 56.6151 & 1.1 & 0.0 & 0.0 \\\\\n",
       "\t17 & 23.9811 & 0.00286468 & 12.5191 & 0.0943627 & 1.1 & 0.0 & 0.0 \\\\\n",
       "\t18 & 0.0287026 & 0.575986 & 0.78374 & 1.18165 & 1.1 & 0.0 & 0.0 \\\\\n",
       "\t19 & 78.1514 & 0.107729 & 50.5758 & 0.332276 & 1.1 & 0.0 & 0.0 \\\\\n",
       "\t20 & 0.132278 & 0.00471035 & 2.34176 & 13.4752 & 1.1 & 0.0 & 0.0 \\\\\n",
       "\t21 & 0.0298024 & 0.387644 & 0.0208814 & 11.8128 & 2.0 & 0.0 & 0.0 \\\\\n",
       "\t22 & 0.0119101 & 1.97176 & 0.0186769 & 6.05919 & 2.0 & 0.0 & 0.0 \\\\\n",
       "\t23 & 2.94612 & 0.0960212 & 0.617041 & 0.065358 & 2.0 & 0.0 & 0.0 \\\\\n",
       "\t24 & 0.0996916 & 0.763442 & 0.0126955 & 0.0154997 & 1.1 & 0.0 & 0.0 \\\\\n",
       "\t$\\dots$ & $\\dots$ & $\\dots$ & $\\dots$ & $\\dots$ & $\\dots$ & $\\dots$ & $\\dots$ \\\\\n",
       "\\end{tabular}\n"
      ],
      "text/plain": [
       "\u001b[1m10000×7 DataFrame\u001b[0m\n",
       "\u001b[1m   Row \u001b[0m│\u001b[1m L          \u001b[0m\u001b[1m K           \u001b[0m\u001b[1m P          \u001b[0m\u001b[1m A           \u001b[0m\u001b[1m retcode \u001b[0m\u001b[1m per     \u001b[0m\u001b[1m a\u001b[0m ⋯\n",
       "       │\u001b[90m Float64    \u001b[0m\u001b[90m Float64     \u001b[0m\u001b[90m Float64    \u001b[0m\u001b[90m Float64     \u001b[0m\u001b[90m Float64 \u001b[0m\u001b[90m Float64 \u001b[0m\u001b[90m F\u001b[0m ⋯\n",
       "───────┼────────────────────────────────────────────────────────────────────────\n",
       "     1 │  0.0196547   0.302516    48.8004      0.104239        1.1      0.0    ⋯\n",
       "     2 │  0.0102095   0.00388036   0.564983    0.00240571      2.0      0.0\n",
       "     3 │  0.228528    6.19631     28.7427      4.61154         1.1      0.0\n",
       "     4 │ 26.1779      0.222948     0.765262    9.06722         1.1      0.0\n",
       "     5 │ 81.3937      0.0146195    0.511188    0.0429213       2.0      0.0    ⋯\n",
       "     6 │ 21.876       0.592596     0.0215943   0.0856965       1.1      0.0\n",
       "     7 │  0.0944455   0.00169754   0.540428    0.0316907       2.0      0.0\n",
       "     8 │  0.485438    1.4489       0.0901489   0.202443        1.1      0.0\n",
       "   ⋮   │     ⋮            ⋮           ⋮            ⋮          ⋮        ⋮       ⋱\n",
       "  9994 │ 92.5956      0.515188     0.174252    0.00106495      1.1      0.0    ⋯\n",
       "  9995 │  0.434564    2.02272      0.268893    0.00203618      1.1      0.0\n",
       "  9996 │  0.0200032   0.0602324   16.1142     16.2085          1.1      0.0\n",
       "  9997 │  6.23388     0.00239091   1.2764     35.967           1.1      0.0\n",
       "  9998 │  3.44491     0.0501479    2.06706     0.108802        2.0      0.0    ⋯\n",
       "  9999 │  0.358607    0.0251252    0.274985    0.00525337      2.0      0.0\n",
       " 10000 │ 24.1694      0.00861932   0.335293    1.69783         1.1      0.0\n",
       "\u001b[36m                                                  1 column and 9985 rows omitted\u001b[0m"
      ]
     },
     "metadata": {},
     "output_type": "display_data"
    }
   ],
   "source": [
    "@btime(testClassifier(10000; outputdirectory = \"/Users/ezragreenberg/Julia/ExperimentalFullModelWork/BenchmarkCsv/\", filename = \"DefaultTolerance.csv\"))"
   ]
  },
  {
   "cell_type": "markdown",
   "metadata": {},
   "source": [
    "Below we look at the number of numerical errors by looking at the number of outputs with a return code of 1.5 (indicating mass conservation failed) or 1.0 (indicating some other numerical failure)."
   ]
  },
  {
   "cell_type": "code",
   "execution_count": 35,
   "metadata": {},
   "outputs": [
    {
     "data": {
      "text/html": [
       "<div><div style = \"float: left;\"><span>0×7 DataFrame</span></div><div style = \"clear: both;\"></div></div><div class = \"data-frame\" style = \"overflow-x: scroll;\"><table class = \"data-frame\" style = \"margin-bottom: 6px;\"><thead><tr class = \"header\"><th class = \"rowNumber\" style = \"font-weight: bold; text-align: right;\">Row</th><th style = \"text-align: left;\">L</th><th style = \"text-align: left;\">K</th><th style = \"text-align: left;\">P</th><th style = \"text-align: left;\">A</th><th style = \"text-align: left;\">retcode</th><th style = \"text-align: left;\">per</th><th style = \"text-align: left;\">amp</th></tr><tr class = \"subheader headerLastRow\"><th class = \"rowNumber\" style = \"font-weight: bold; text-align: right;\"></th><th title = \"Float64\" style = \"text-align: left;\">Float64</th><th title = \"Float64\" style = \"text-align: left;\">Float64</th><th title = \"Float64\" style = \"text-align: left;\">Float64</th><th title = \"Float64\" style = \"text-align: left;\">Float64</th><th title = \"Float64\" style = \"text-align: left;\">Float64</th><th title = \"Float64\" style = \"text-align: left;\">Float64</th><th title = \"Float64\" style = \"text-align: left;\">Float64</th></tr></thead><tbody></tbody></table></div>"
      ],
      "text/latex": [
       "\\begin{tabular}{r|ccccccc}\n",
       "\t& L & K & P & A & retcode & per & amp\\\\\n",
       "\t\\hline\n",
       "\t& Float64 & Float64 & Float64 & Float64 & Float64 & Float64 & Float64\\\\\n",
       "\t\\hline\n",
       "\\end{tabular}\n"
      ],
      "text/plain": [
       "\u001b[1m0×7 DataFrame\u001b[0m\n",
       "\u001b[1m Row \u001b[0m│\u001b[1m L       \u001b[0m\u001b[1m K       \u001b[0m\u001b[1m P       \u001b[0m\u001b[1m A       \u001b[0m\u001b[1m retcode \u001b[0m\u001b[1m per     \u001b[0m\u001b[1m amp     \u001b[0m\n",
       "     │\u001b[90m Float64 \u001b[0m\u001b[90m Float64 \u001b[0m\u001b[90m Float64 \u001b[0m\u001b[90m Float64 \u001b[0m\u001b[90m Float64 \u001b[0m\u001b[90m Float64 \u001b[0m\u001b[90m Float64 \u001b[0m\n",
       "─────┴───────────────────────────────────────────────────────────────"
      ]
     },
     "metadata": {},
     "output_type": "display_data"
    }
   ],
   "source": [
    "mydf1 = DataFrame(CSV.File(\"/Users/ezragreenberg/Julia/ExperimentalFullModelWork/BenchmarkCsv/DefaultTolerance.csv\"))\n",
    "mass_not_conserved1 = mydf1[mydf1.retcode.==1.5,:]"
   ]
  },
  {
   "cell_type": "code",
   "execution_count": 36,
   "metadata": {},
   "outputs": [
    {
     "data": {
      "text/html": [
       "<div><div style = \"float: left;\"><span>0×7 DataFrame</span></div><div style = \"clear: both;\"></div></div><div class = \"data-frame\" style = \"overflow-x: scroll;\"><table class = \"data-frame\" style = \"margin-bottom: 6px;\"><thead><tr class = \"header\"><th class = \"rowNumber\" style = \"font-weight: bold; text-align: right;\">Row</th><th style = \"text-align: left;\">L</th><th style = \"text-align: left;\">K</th><th style = \"text-align: left;\">P</th><th style = \"text-align: left;\">A</th><th style = \"text-align: left;\">retcode</th><th style = \"text-align: left;\">per</th><th style = \"text-align: left;\">amp</th></tr><tr class = \"subheader headerLastRow\"><th class = \"rowNumber\" style = \"font-weight: bold; text-align: right;\"></th><th title = \"Float64\" style = \"text-align: left;\">Float64</th><th title = \"Float64\" style = \"text-align: left;\">Float64</th><th title = \"Float64\" style = \"text-align: left;\">Float64</th><th title = \"Float64\" style = \"text-align: left;\">Float64</th><th title = \"Float64\" style = \"text-align: left;\">Float64</th><th title = \"Float64\" style = \"text-align: left;\">Float64</th><th title = \"Float64\" style = \"text-align: left;\">Float64</th></tr></thead><tbody></tbody></table></div>"
      ],
      "text/latex": [
       "\\begin{tabular}{r|ccccccc}\n",
       "\t& L & K & P & A & retcode & per & amp\\\\\n",
       "\t\\hline\n",
       "\t& Float64 & Float64 & Float64 & Float64 & Float64 & Float64 & Float64\\\\\n",
       "\t\\hline\n",
       "\\end{tabular}\n"
      ],
      "text/plain": [
       "\u001b[1m0×7 DataFrame\u001b[0m\n",
       "\u001b[1m Row \u001b[0m│\u001b[1m L       \u001b[0m\u001b[1m K       \u001b[0m\u001b[1m P       \u001b[0m\u001b[1m A       \u001b[0m\u001b[1m retcode \u001b[0m\u001b[1m per     \u001b[0m\u001b[1m amp     \u001b[0m\n",
       "     │\u001b[90m Float64 \u001b[0m\u001b[90m Float64 \u001b[0m\u001b[90m Float64 \u001b[0m\u001b[90m Float64 \u001b[0m\u001b[90m Float64 \u001b[0m\u001b[90m Float64 \u001b[0m\u001b[90m Float64 \u001b[0m\n",
       "─────┴───────────────────────────────────────────────────────────────"
      ]
     },
     "metadata": {},
     "output_type": "display_data"
    }
   ],
   "source": [
    "other_failures1 = mydf1[mydf1.retcode.==1.0,:]"
   ]
  },
  {
   "cell_type": "markdown",
   "metadata": {},
   "source": [
    "And below we look at some oscillatory solutions"
   ]
  },
  {
   "cell_type": "code",
   "execution_count": 37,
   "metadata": {},
   "outputs": [
    {
     "data": {
      "text/html": [
       "<div><div style = \"float: left;\"><span>50×7 DataFrame</span></div><div style = \"float: right;\"><span style = \"font-style: italic;\">25 rows omitted</span></div><div style = \"clear: both;\"></div></div><div class = \"data-frame\" style = \"overflow-x: scroll;\"><table class = \"data-frame\" style = \"margin-bottom: 6px;\"><thead><tr class = \"header\"><th class = \"rowNumber\" style = \"font-weight: bold; text-align: right;\">Row</th><th style = \"text-align: left;\">L</th><th style = \"text-align: left;\">K</th><th style = \"text-align: left;\">P</th><th style = \"text-align: left;\">A</th><th style = \"text-align: left;\">retcode</th><th style = \"text-align: left;\">per</th><th style = \"text-align: left;\">amp</th></tr><tr class = \"subheader headerLastRow\"><th class = \"rowNumber\" style = \"font-weight: bold; text-align: right;\"></th><th title = \"Float64\" style = \"text-align: left;\">Float64</th><th title = \"Float64\" style = \"text-align: left;\">Float64</th><th title = \"Float64\" style = \"text-align: left;\">Float64</th><th title = \"Float64\" style = \"text-align: left;\">Float64</th><th title = \"Float64\" style = \"text-align: left;\">Float64</th><th title = \"Float64\" style = \"text-align: left;\">Float64</th><th title = \"Float64\" style = \"text-align: left;\">Float64</th></tr></thead><tbody><tr><td class = \"rowNumber\" style = \"font-weight: bold; text-align: right;\">1</td><td style = \"text-align: right;\">13.8915</td><td style = \"text-align: right;\">0.588267</td><td style = \"text-align: right;\">4.96728</td><td style = \"text-align: right;\">2.0392</td><td style = \"text-align: right;\">-100.0</td><td style = \"text-align: right;\">2.9871</td><td style = \"text-align: right;\">0.387939</td></tr><tr><td class = \"rowNumber\" style = \"font-weight: bold; text-align: right;\">2</td><td style = \"text-align: right;\">8.60709</td><td style = \"text-align: right;\">3.13347</td><td style = \"text-align: right;\">1.35597</td><td style = \"text-align: right;\">72.6048</td><td style = \"text-align: right;\">-100.0</td><td style = \"text-align: right;\">1.906</td><td style = \"text-align: right;\">1.80404</td></tr><tr><td class = \"rowNumber\" style = \"font-weight: bold; text-align: right;\">3</td><td style = \"text-align: right;\">7.44909</td><td style = \"text-align: right;\">0.0471053</td><td style = \"text-align: right;\">0.17936</td><td style = \"text-align: right;\">1.06195</td><td style = \"text-align: right;\">-100.0</td><td style = \"text-align: right;\">4.58</td><td style = \"text-align: right;\">0.115861</td></tr><tr><td class = \"rowNumber\" style = \"font-weight: bold; text-align: right;\">4</td><td style = \"text-align: right;\">32.3703</td><td style = \"text-align: right;\">0.48104</td><td style = \"text-align: right;\">4.20911</td><td style = \"text-align: right;\">6.12865</td><td style = \"text-align: right;\">-100.0</td><td style = \"text-align: right;\">1.87451</td><td style = \"text-align: right;\">0.971606</td></tr><tr><td class = \"rowNumber\" style = \"font-weight: bold; text-align: right;\">5</td><td style = \"text-align: right;\">53.1952</td><td style = \"text-align: right;\">5.4238</td><td style = \"text-align: right;\">35.4178</td><td style = \"text-align: right;\">31.112</td><td style = \"text-align: right;\">-1.0</td><td style = \"text-align: right;\">1.43333</td><td style = \"text-align: right;\">12.1741</td></tr><tr><td class = \"rowNumber\" style = \"font-weight: bold; text-align: right;\">6</td><td style = \"text-align: right;\">22.7287</td><td style = \"text-align: right;\">2.30622</td><td style = \"text-align: right;\">13.678</td><td style = \"text-align: right;\">11.0956</td><td style = \"text-align: right;\">-1.0</td><td style = \"text-align: right;\">1.67805</td><td style = \"text-align: right;\">2.2754</td></tr><tr><td class = \"rowNumber\" style = \"font-weight: bold; text-align: right;\">7</td><td style = \"text-align: right;\">21.4898</td><td style = \"text-align: right;\">2.94398</td><td style = \"text-align: right;\">42.6278</td><td style = \"text-align: right;\">5.81731</td><td style = \"text-align: right;\">-100.0</td><td style = \"text-align: right;\">3.05161</td><td style = \"text-align: right;\">0.412924</td></tr><tr><td class = \"rowNumber\" style = \"font-weight: bold; text-align: right;\">8</td><td style = \"text-align: right;\">25.9791</td><td style = \"text-align: right;\">2.08729</td><td style = \"text-align: right;\">24.8918</td><td style = \"text-align: right;\">8.50543</td><td style = \"text-align: right;\">-100.0</td><td style = \"text-align: right;\">1.97917</td><td style = \"text-align: right;\">0.878368</td></tr><tr><td class = \"rowNumber\" style = \"font-weight: bold; text-align: right;\">9</td><td style = \"text-align: right;\">4.42054</td><td style = \"text-align: right;\">2.44321</td><td style = \"text-align: right;\">0.877612</td><td style = \"text-align: right;\">26.4603</td><td style = \"text-align: right;\">-100.0</td><td style = \"text-align: right;\">1.89216</td><td style = \"text-align: right;\">0.942524</td></tr><tr><td class = \"rowNumber\" style = \"font-weight: bold; text-align: right;\">10</td><td style = \"text-align: right;\">2.98015</td><td style = \"text-align: right;\">1.65648</td><td style = \"text-align: right;\">1.16099</td><td style = \"text-align: right;\">12.7925</td><td style = \"text-align: right;\">-100.0</td><td style = \"text-align: right;\">1.96531</td><td style = \"text-align: right;\">0.22119</td></tr><tr><td class = \"rowNumber\" style = \"font-weight: bold; text-align: right;\">11</td><td style = \"text-align: right;\">5.76828</td><td style = \"text-align: right;\">2.52703</td><td style = \"text-align: right;\">5.6136</td><td style = \"text-align: right;\">7.23367</td><td style = \"text-align: right;\">-100.0</td><td style = \"text-align: right;\">1.80189</td><td style = \"text-align: right;\">0.485083</td></tr><tr><td class = \"rowNumber\" style = \"font-weight: bold; text-align: right;\">12</td><td style = \"text-align: right;\">7.10207</td><td style = \"text-align: right;\">8.02426</td><td style = \"text-align: right;\">1.97087</td><td style = \"text-align: right;\">45.5328</td><td style = \"text-align: right;\">-1.0</td><td style = \"text-align: right;\">1.48857</td><td style = \"text-align: right;\">2.01424</td></tr><tr><td class = \"rowNumber\" style = \"font-weight: bold; text-align: right;\">13</td><td style = \"text-align: right;\">18.3238</td><td style = \"text-align: right;\">24.4809</td><td style = \"text-align: right;\">76.4742</td><td style = \"text-align: right;\">42.0286</td><td style = \"text-align: right;\">-1.0</td><td style = \"text-align: right;\">1.19286</td><td style = \"text-align: right;\">2.98589</td></tr><tr><td style = \"text-align: right;\">&vellip;</td><td style = \"text-align: right;\">&vellip;</td><td style = \"text-align: right;\">&vellip;</td><td style = \"text-align: right;\">&vellip;</td><td style = \"text-align: right;\">&vellip;</td><td style = \"text-align: right;\">&vellip;</td><td style = \"text-align: right;\">&vellip;</td><td style = \"text-align: right;\">&vellip;</td></tr><tr><td class = \"rowNumber\" style = \"font-weight: bold; text-align: right;\">39</td><td style = \"text-align: right;\">7.89685</td><td style = \"text-align: right;\">0.139638</td><td style = \"text-align: right;\">0.655577</td><td style = \"text-align: right;\">0.57365</td><td style = \"text-align: right;\">-100.0</td><td style = \"text-align: right;\">4.14545</td><td style = \"text-align: right;\">0.271992</td></tr><tr><td class = \"rowNumber\" style = \"font-weight: bold; text-align: right;\">40</td><td style = \"text-align: right;\">12.366</td><td style = \"text-align: right;\">6.77872</td><td style = \"text-align: right;\">6.69069</td><td style = \"text-align: right;\">46.8701</td><td style = \"text-align: right;\">-1.0</td><td style = \"text-align: right;\">1.13056</td><td style = \"text-align: right;\">2.6342</td></tr><tr><td class = \"rowNumber\" style = \"font-weight: bold; text-align: right;\">41</td><td style = \"text-align: right;\">45.4814</td><td style = \"text-align: right;\">0.0998593</td><td style = \"text-align: right;\">1.13158</td><td style = \"text-align: right;\">2.27035</td><td style = \"text-align: right;\">-100.0</td><td style = \"text-align: right;\">2.63889</td><td style = \"text-align: right;\">0.768686</td></tr><tr><td class = \"rowNumber\" style = \"font-weight: bold; text-align: right;\">42</td><td style = \"text-align: right;\">31.2089</td><td style = \"text-align: right;\">0.322491</td><td style = \"text-align: right;\">0.902447</td><td style = \"text-align: right;\">41.3914</td><td style = \"text-align: right;\">-100.0</td><td style = \"text-align: right;\">2.49474</td><td style = \"text-align: right;\">1.19348</td></tr><tr><td class = \"rowNumber\" style = \"font-weight: bold; text-align: right;\">43</td><td style = \"text-align: right;\">1.46119</td><td style = \"text-align: right;\">0.509402</td><td style = \"text-align: right;\">0.239654</td><td style = \"text-align: right;\">2.03407</td><td style = \"text-align: right;\">-100.0</td><td style = \"text-align: right;\">3.35</td><td style = \"text-align: right;\">0.217137</td></tr><tr><td class = \"rowNumber\" style = \"font-weight: bold; text-align: right;\">44</td><td style = \"text-align: right;\">25.2082</td><td style = \"text-align: right;\">3.56719</td><td style = \"text-align: right;\">17.8872</td><td style = \"text-align: right;\">24.3005</td><td style = \"text-align: right;\">-1.0</td><td style = \"text-align: right;\">1.304</td><td style = \"text-align: right;\">1.99323</td></tr><tr><td class = \"rowNumber\" style = \"font-weight: bold; text-align: right;\">45</td><td style = \"text-align: right;\">11.842</td><td style = \"text-align: right;\">0.573167</td><td style = \"text-align: right;\">0.371642</td><td style = \"text-align: right;\">53.1522</td><td style = \"text-align: right;\">-100.0</td><td style = \"text-align: right;\">4.39048</td><td style = \"text-align: right;\">1.55847</td></tr><tr><td class = \"rowNumber\" style = \"font-weight: bold; text-align: right;\">46</td><td style = \"text-align: right;\">11.9444</td><td style = \"text-align: right;\">1.14604</td><td style = \"text-align: right;\">5.72431</td><td style = \"text-align: right;\">2.99115</td><td style = \"text-align: right;\">-100.0</td><td style = \"text-align: right;\">2.74</td><td style = \"text-align: right;\">1.41149</td></tr><tr><td class = \"rowNumber\" style = \"font-weight: bold; text-align: right;\">47</td><td style = \"text-align: right;\">21.6913</td><td style = \"text-align: right;\">0.0653768</td><td style = \"text-align: right;\">0.169286</td><td style = \"text-align: right;\">11.8262</td><td style = \"text-align: right;\">-100.0</td><td style = \"text-align: right;\">5.18824</td><td style = \"text-align: right;\">0.723723</td></tr><tr><td class = \"rowNumber\" style = \"font-weight: bold; text-align: right;\">48</td><td style = \"text-align: right;\">75.0721</td><td style = \"text-align: right;\">3.70468</td><td style = \"text-align: right;\">32.294</td><td style = \"text-align: right;\">81.6538</td><td style = \"text-align: right;\">-1.0</td><td style = \"text-align: right;\">1.475</td><td style = \"text-align: right;\">2.8483</td></tr><tr><td class = \"rowNumber\" style = \"font-weight: bold; text-align: right;\">49</td><td style = \"text-align: right;\">51.1368</td><td style = \"text-align: right;\">2.73588</td><td style = \"text-align: right;\">18.7717</td><td style = \"text-align: right;\">23.5222</td><td style = \"text-align: right;\">-1.0</td><td style = \"text-align: right;\">1.48148</td><td style = \"text-align: right;\">6.92444</td></tr><tr><td class = \"rowNumber\" style = \"font-weight: bold; text-align: right;\">50</td><td style = \"text-align: right;\">7.14355</td><td style = \"text-align: right;\">0.94775</td><td style = \"text-align: right;\">1.66769</td><td style = \"text-align: right;\">2.67955</td><td style = \"text-align: right;\">-1.0</td><td style = \"text-align: right;\">2.64074</td><td style = \"text-align: right;\">1.84001</td></tr></tbody></table></div>"
      ],
      "text/latex": [
       "\\begin{tabular}{r|ccccccc}\n",
       "\t& L & K & P & A & retcode & per & amp\\\\\n",
       "\t\\hline\n",
       "\t& Float64 & Float64 & Float64 & Float64 & Float64 & Float64 & Float64\\\\\n",
       "\t\\hline\n",
       "\t1 & 13.8915 & 0.588267 & 4.96728 & 2.0392 & -100.0 & 2.9871 & 0.387939 \\\\\n",
       "\t2 & 8.60709 & 3.13347 & 1.35597 & 72.6048 & -100.0 & 1.906 & 1.80404 \\\\\n",
       "\t3 & 7.44909 & 0.0471053 & 0.17936 & 1.06195 & -100.0 & 4.58 & 0.115861 \\\\\n",
       "\t4 & 32.3703 & 0.48104 & 4.20911 & 6.12865 & -100.0 & 1.87451 & 0.971606 \\\\\n",
       "\t5 & 53.1952 & 5.4238 & 35.4178 & 31.112 & -1.0 & 1.43333 & 12.1741 \\\\\n",
       "\t6 & 22.7287 & 2.30622 & 13.678 & 11.0956 & -1.0 & 1.67805 & 2.2754 \\\\\n",
       "\t7 & 21.4898 & 2.94398 & 42.6278 & 5.81731 & -100.0 & 3.05161 & 0.412924 \\\\\n",
       "\t8 & 25.9791 & 2.08729 & 24.8918 & 8.50543 & -100.0 & 1.97917 & 0.878368 \\\\\n",
       "\t9 & 4.42054 & 2.44321 & 0.877612 & 26.4603 & -100.0 & 1.89216 & 0.942524 \\\\\n",
       "\t10 & 2.98015 & 1.65648 & 1.16099 & 12.7925 & -100.0 & 1.96531 & 0.22119 \\\\\n",
       "\t11 & 5.76828 & 2.52703 & 5.6136 & 7.23367 & -100.0 & 1.80189 & 0.485083 \\\\\n",
       "\t12 & 7.10207 & 8.02426 & 1.97087 & 45.5328 & -1.0 & 1.48857 & 2.01424 \\\\\n",
       "\t13 & 18.3238 & 24.4809 & 76.4742 & 42.0286 & -1.0 & 1.19286 & 2.98589 \\\\\n",
       "\t14 & 21.5895 & 6.60395 & 19.6291 & 31.1909 & -1.0 & 1.18788 & 3.73449 \\\\\n",
       "\t15 & 17.0174 & 4.69484 & 3.36563 & 58.8892 & -1.0 & 1.472 & 5.73024 \\\\\n",
       "\t16 & 1.87188 & 0.552923 & 0.152272 & 5.14144 & -100.0 & 3.676 & 0.381517 \\\\\n",
       "\t17 & 9.61006 & 0.238314 & 0.895823 & 4.05627 & -100.0 & 2.45128 & 0.192517 \\\\\n",
       "\t18 & 2.46838 & 0.161181 & 0.199727 & 0.653989 & -100.0 & 4.565 & 0.200541 \\\\\n",
       "\t19 & 1.72891 & 1.67226 & 0.332622 & 10.2971 & -100.0 & 2.61389 & 0.339533 \\\\\n",
       "\t20 & 3.97352 & 3.7307 & 1.0145 & 37.5433 & -100.0 & 1.81321 & 0.707073 \\\\\n",
       "\t21 & 47.2608 & 0.276529 & 2.27048 & 12.7163 & -100.0 & 1.72321 & 0.835192 \\\\\n",
       "\t22 & 1.15031 & 2.17025 & 0.530025 & 4.86162 & -100.0 & 2.50789 & 0.265512 \\\\\n",
       "\t23 & 27.8875 & 37.4641 & 38.813 & 88.7229 & -1.0 & 22.825 & 4.51303 \\\\\n",
       "\t24 & 34.9063 & 0.878917 & 4.85665 & 12.3883 & -1.0 & 1.67632 & 2.39437 \\\\\n",
       "\t$\\dots$ & $\\dots$ & $\\dots$ & $\\dots$ & $\\dots$ & $\\dots$ & $\\dots$ & $\\dots$ \\\\\n",
       "\\end{tabular}\n"
      ],
      "text/plain": [
       "\u001b[1m50×7 DataFrame\u001b[0m\n",
       "\u001b[1m Row \u001b[0m│\u001b[1m L        \u001b[0m\u001b[1m K         \u001b[0m\u001b[1m P         \u001b[0m\u001b[1m A        \u001b[0m\u001b[1m retcode \u001b[0m\u001b[1m per     \u001b[0m\u001b[1m amp       \u001b[0m\n",
       "     │\u001b[90m Float64  \u001b[0m\u001b[90m Float64   \u001b[0m\u001b[90m Float64   \u001b[0m\u001b[90m Float64  \u001b[0m\u001b[90m Float64 \u001b[0m\u001b[90m Float64 \u001b[0m\u001b[90m Float64   \u001b[0m\n",
       "─────┼───────────────────────────────────────────────────────────────────────\n",
       "   1 │ 13.8915   0.588267    4.96728    2.0392    -100.0  2.9871    0.387939\n",
       "   2 │  8.60709  3.13347     1.35597   72.6048    -100.0  1.906     1.80404\n",
       "   3 │  7.44909  0.0471053   0.17936    1.06195   -100.0  4.58      0.115861\n",
       "   4 │ 32.3703   0.48104     4.20911    6.12865   -100.0  1.87451   0.971606\n",
       "   5 │ 53.1952   5.4238     35.4178    31.112       -1.0  1.43333  12.1741\n",
       "   6 │ 22.7287   2.30622    13.678     11.0956      -1.0  1.67805   2.2754\n",
       "   7 │ 21.4898   2.94398    42.6278     5.81731   -100.0  3.05161   0.412924\n",
       "   8 │ 25.9791   2.08729    24.8918     8.50543   -100.0  1.97917   0.878368\n",
       "  ⋮  │    ⋮          ⋮          ⋮         ⋮         ⋮        ⋮         ⋮\n",
       "  44 │ 25.2082   3.56719    17.8872    24.3005      -1.0  1.304     1.99323\n",
       "  45 │ 11.842    0.573167    0.371642  53.1522    -100.0  4.39048   1.55847\n",
       "  46 │ 11.9444   1.14604     5.72431    2.99115   -100.0  2.74      1.41149\n",
       "  47 │ 21.6913   0.0653768   0.169286  11.8262    -100.0  5.18824   0.723723\n",
       "  48 │ 75.0721   3.70468    32.294     81.6538      -1.0  1.475     2.8483\n",
       "  49 │ 51.1368   2.73588    18.7717    23.5222      -1.0  1.48148   6.92444\n",
       "  50 │  7.14355  0.94775     1.66769    2.67955     -1.0  2.64074   1.84001\n",
       "\u001b[36m                                                              35 rows omitted\u001b[0m"
      ]
     },
     "metadata": {},
     "output_type": "display_data"
    }
   ],
   "source": [
    "osc_df1  = mydf1[mydf1.retcode.<1.0,:]"
   ]
  },
  {
   "cell_type": "code",
   "execution_count": 40,
   "metadata": {},
   "outputs": [
    {
     "data": {
      "text/plain": [
       "PlotSolutions (generic function with 2 methods)"
      ]
     },
     "metadata": {},
     "output_type": "display_data"
    }
   ],
   "source": [
    "function entryToSol(df, row)\n",
    "    currow = df[row,:]\n",
    "    u0[1] = currow[:L]\n",
    "    u0[2] = currow[:K]\n",
    "    u0[3] = currow[:P]\n",
    "    u0[4] = currow[:A]\n",
    "    return solve(remake(prob, u0=u0, tspan=(0,longSpan), p=p), RadauIIA5(), abstol=1e-8, reltol=1e-12, saveat=0.1, save_idxs=1, maxiters=10000, verbose=false)\n",
    "end\n",
    "\n",
    "function PlotSolutions(osc_df, numsols = size(osc_df)[1])\n",
    "    for i in 1:numsols\n",
    "        cursol = entryToSol(osc_df, i)\n",
    "        plot(cursol, title=\"L vs t\")\n",
    "        savefig(\"/Users/ezragreenberg/Julia/ExperimentalFullModelWork/BenchmarkCsv/Someplots/$i.png\")\n",
    "    end\n",
    "end"
   ]
  },
  {
   "cell_type": "code",
   "execution_count": 41,
   "metadata": {},
   "outputs": [],
   "source": [
    "PlotSolutions(osc_df1)"
   ]
  },
  {
   "cell_type": "markdown",
   "metadata": {},
   "source": [
    "All 50 solutions that are pulled out are oscillatory. We had no numerical errors (other than reaching max iterations). Let's now try with the default tolerance of Julia, 1e-8 for reltol and 1e-6 for abstol"
   ]
  },
  {
   "cell_type": "code",
   "execution_count": 44,
   "metadata": {},
   "outputs": [
    {
     "name": "stdout",
     "output_type": "stream",
     "text": [
      "  8.243 s (4112921 allocations: 1.06 GiB)\n"
     ]
    },
    {
     "data": {
      "text/html": [
       "<div><div style = \"float: left;\"><span>10000×7 DataFrame</span></div><div style = \"float: right;\"><span style = \"font-style: italic;\">9975 rows omitted</span></div><div style = \"clear: both;\"></div></div><div class = \"data-frame\" style = \"overflow-x: scroll;\"><table class = \"data-frame\" style = \"margin-bottom: 6px;\"><thead><tr class = \"header\"><th class = \"rowNumber\" style = \"font-weight: bold; text-align: right;\">Row</th><th style = \"text-align: left;\">L</th><th style = \"text-align: left;\">K</th><th style = \"text-align: left;\">P</th><th style = \"text-align: left;\">A</th><th style = \"text-align: left;\">retcode</th><th style = \"text-align: left;\">per</th><th style = \"text-align: left;\">amp</th></tr><tr class = \"subheader headerLastRow\"><th class = \"rowNumber\" style = \"font-weight: bold; text-align: right;\"></th><th title = \"Float64\" style = \"text-align: left;\">Float64</th><th title = \"Float64\" style = \"text-align: left;\">Float64</th><th title = \"Float64\" style = \"text-align: left;\">Float64</th><th title = \"Float64\" style = \"text-align: left;\">Float64</th><th title = \"Float64\" style = \"text-align: left;\">Float64</th><th title = \"Float64\" style = \"text-align: left;\">Float64</th><th title = \"Float64\" style = \"text-align: left;\">Float64</th></tr></thead><tbody><tr><td class = \"rowNumber\" style = \"font-weight: bold; text-align: right;\">1</td><td style = \"text-align: right;\">0.0196547</td><td style = \"text-align: right;\">0.302516</td><td style = \"text-align: right;\">48.8004</td><td style = \"text-align: right;\">0.104239</td><td style = \"text-align: right;\">1.1</td><td style = \"text-align: right;\">0.0</td><td style = \"text-align: right;\">0.0</td></tr><tr><td class = \"rowNumber\" style = \"font-weight: bold; text-align: right;\">2</td><td style = \"text-align: right;\">0.0102095</td><td style = \"text-align: right;\">0.00388036</td><td style = \"text-align: right;\">0.564983</td><td style = \"text-align: right;\">0.00240571</td><td style = \"text-align: right;\">2.0</td><td style = \"text-align: right;\">0.0</td><td style = \"text-align: right;\">0.0</td></tr><tr><td class = \"rowNumber\" style = \"font-weight: bold; text-align: right;\">3</td><td style = \"text-align: right;\">0.228528</td><td style = \"text-align: right;\">6.19631</td><td style = \"text-align: right;\">28.7427</td><td style = \"text-align: right;\">4.61154</td><td style = \"text-align: right;\">1.1</td><td style = \"text-align: right;\">0.0</td><td style = \"text-align: right;\">0.0</td></tr><tr><td class = \"rowNumber\" style = \"font-weight: bold; text-align: right;\">4</td><td style = \"text-align: right;\">26.1779</td><td style = \"text-align: right;\">0.222948</td><td style = \"text-align: right;\">0.765262</td><td style = \"text-align: right;\">9.06722</td><td style = \"text-align: right;\">1.1</td><td style = \"text-align: right;\">0.0</td><td style = \"text-align: right;\">0.0</td></tr><tr><td class = \"rowNumber\" style = \"font-weight: bold; text-align: right;\">5</td><td style = \"text-align: right;\">81.3937</td><td style = \"text-align: right;\">0.0146195</td><td style = \"text-align: right;\">0.511188</td><td style = \"text-align: right;\">0.0429213</td><td style = \"text-align: right;\">2.0</td><td style = \"text-align: right;\">0.0</td><td style = \"text-align: right;\">0.0</td></tr><tr><td class = \"rowNumber\" style = \"font-weight: bold; text-align: right;\">6</td><td style = \"text-align: right;\">21.876</td><td style = \"text-align: right;\">0.592596</td><td style = \"text-align: right;\">0.0215943</td><td style = \"text-align: right;\">0.0856965</td><td style = \"text-align: right;\">1.1</td><td style = \"text-align: right;\">0.0</td><td style = \"text-align: right;\">0.0</td></tr><tr><td class = \"rowNumber\" style = \"font-weight: bold; text-align: right;\">7</td><td style = \"text-align: right;\">0.0944455</td><td style = \"text-align: right;\">0.00169754</td><td style = \"text-align: right;\">0.540428</td><td style = \"text-align: right;\">0.0316907</td><td style = \"text-align: right;\">2.0</td><td style = \"text-align: right;\">0.0</td><td style = \"text-align: right;\">0.0</td></tr><tr><td class = \"rowNumber\" style = \"font-weight: bold; text-align: right;\">8</td><td style = \"text-align: right;\">0.485438</td><td style = \"text-align: right;\">1.4489</td><td style = \"text-align: right;\">0.0901489</td><td style = \"text-align: right;\">0.202443</td><td style = \"text-align: right;\">1.1</td><td style = \"text-align: right;\">0.0</td><td style = \"text-align: right;\">0.0</td></tr><tr><td class = \"rowNumber\" style = \"font-weight: bold; text-align: right;\">9</td><td style = \"text-align: right;\">0.195302</td><td style = \"text-align: right;\">0.700483</td><td style = \"text-align: right;\">2.5215</td><td style = \"text-align: right;\">0.0150069</td><td style = \"text-align: right;\">1.1</td><td style = \"text-align: right;\">0.0</td><td style = \"text-align: right;\">0.0</td></tr><tr><td class = \"rowNumber\" style = \"font-weight: bold; text-align: right;\">10</td><td style = \"text-align: right;\">0.160022</td><td style = \"text-align: right;\">95.328</td><td style = \"text-align: right;\">1.55556</td><td style = \"text-align: right;\">0.00112746</td><td style = \"text-align: right;\">1.1</td><td style = \"text-align: right;\">0.0</td><td style = \"text-align: right;\">0.0</td></tr><tr><td class = \"rowNumber\" style = \"font-weight: bold; text-align: right;\">11</td><td style = \"text-align: right;\">2.09913</td><td style = \"text-align: right;\">0.00292811</td><td style = \"text-align: right;\">2.00092</td><td style = \"text-align: right;\">0.418634</td><td style = \"text-align: right;\">1.1</td><td style = \"text-align: right;\">0.0</td><td style = \"text-align: right;\">0.0</td></tr><tr><td class = \"rowNumber\" style = \"font-weight: bold; text-align: right;\">12</td><td style = \"text-align: right;\">0.190867</td><td style = \"text-align: right;\">99.7636</td><td style = \"text-align: right;\">0.0984292</td><td style = \"text-align: right;\">11.217</td><td style = \"text-align: right;\">1.1</td><td style = \"text-align: right;\">0.0</td><td style = \"text-align: right;\">0.0</td></tr><tr><td class = \"rowNumber\" style = \"font-weight: bold; text-align: right;\">13</td><td style = \"text-align: right;\">0.0403366</td><td style = \"text-align: right;\">0.1094</td><td style = \"text-align: right;\">0.0118241</td><td style = \"text-align: right;\">0.0103897</td><td style = \"text-align: right;\">1.1</td><td style = \"text-align: right;\">0.0</td><td style = \"text-align: right;\">0.0</td></tr><tr><td style = \"text-align: right;\">&vellip;</td><td style = \"text-align: right;\">&vellip;</td><td style = \"text-align: right;\">&vellip;</td><td style = \"text-align: right;\">&vellip;</td><td style = \"text-align: right;\">&vellip;</td><td style = \"text-align: right;\">&vellip;</td><td style = \"text-align: right;\">&vellip;</td><td style = \"text-align: right;\">&vellip;</td></tr><tr><td class = \"rowNumber\" style = \"font-weight: bold; text-align: right;\">9989</td><td style = \"text-align: right;\">0.019961</td><td style = \"text-align: right;\">20.384</td><td style = \"text-align: right;\">15.5194</td><td style = \"text-align: right;\">0.0665744</td><td style = \"text-align: right;\">1.1</td><td style = \"text-align: right;\">0.0</td><td style = \"text-align: right;\">0.0</td></tr><tr><td class = \"rowNumber\" style = \"font-weight: bold; text-align: right;\">9990</td><td style = \"text-align: right;\">0.0300246</td><td style = \"text-align: right;\">1.42885</td><td style = \"text-align: right;\">10.6908</td><td style = \"text-align: right;\">69.2182</td><td style = \"text-align: right;\">1.1</td><td style = \"text-align: right;\">0.0</td><td style = \"text-align: right;\">0.0</td></tr><tr><td class = \"rowNumber\" style = \"font-weight: bold; text-align: right;\">9991</td><td style = \"text-align: right;\">51.4214</td><td style = \"text-align: right;\">0.0252568</td><td style = \"text-align: right;\">53.1754</td><td style = \"text-align: right;\">0.00631581</td><td style = \"text-align: right;\">2.0</td><td style = \"text-align: right;\">0.0</td><td style = \"text-align: right;\">0.0</td></tr><tr><td class = \"rowNumber\" style = \"font-weight: bold; text-align: right;\">9992</td><td style = \"text-align: right;\">0.0463049</td><td style = \"text-align: right;\">0.00214467</td><td style = \"text-align: right;\">0.422708</td><td style = \"text-align: right;\">0.00232608</td><td style = \"text-align: right;\">2.0</td><td style = \"text-align: right;\">0.0</td><td style = \"text-align: right;\">0.0</td></tr><tr><td class = \"rowNumber\" style = \"font-weight: bold; text-align: right;\">9993</td><td style = \"text-align: right;\">3.90439</td><td style = \"text-align: right;\">9.75595</td><td style = \"text-align: right;\">0.129582</td><td style = \"text-align: right;\">77.4511</td><td style = \"text-align: right;\">1.1</td><td style = \"text-align: right;\">0.0</td><td style = \"text-align: right;\">0.0</td></tr><tr><td class = \"rowNumber\" style = \"font-weight: bold; text-align: right;\">9994</td><td style = \"text-align: right;\">92.5956</td><td style = \"text-align: right;\">0.515188</td><td style = \"text-align: right;\">0.174252</td><td style = \"text-align: right;\">0.00106495</td><td style = \"text-align: right;\">1.1</td><td style = \"text-align: right;\">0.0</td><td style = \"text-align: right;\">0.0</td></tr><tr><td class = \"rowNumber\" style = \"font-weight: bold; text-align: right;\">9995</td><td style = \"text-align: right;\">0.434564</td><td style = \"text-align: right;\">2.02272</td><td style = \"text-align: right;\">0.268893</td><td style = \"text-align: right;\">0.00203618</td><td style = \"text-align: right;\">1.1</td><td style = \"text-align: right;\">0.0</td><td style = \"text-align: right;\">0.0</td></tr><tr><td class = \"rowNumber\" style = \"font-weight: bold; text-align: right;\">9996</td><td style = \"text-align: right;\">0.0200032</td><td style = \"text-align: right;\">0.0602324</td><td style = \"text-align: right;\">16.1142</td><td style = \"text-align: right;\">16.2085</td><td style = \"text-align: right;\">1.1</td><td style = \"text-align: right;\">0.0</td><td style = \"text-align: right;\">0.0</td></tr><tr><td class = \"rowNumber\" style = \"font-weight: bold; text-align: right;\">9997</td><td style = \"text-align: right;\">6.23388</td><td style = \"text-align: right;\">0.00239091</td><td style = \"text-align: right;\">1.2764</td><td style = \"text-align: right;\">35.967</td><td style = \"text-align: right;\">1.1</td><td style = \"text-align: right;\">0.0</td><td style = \"text-align: right;\">0.0</td></tr><tr><td class = \"rowNumber\" style = \"font-weight: bold; text-align: right;\">9998</td><td style = \"text-align: right;\">3.44491</td><td style = \"text-align: right;\">0.0501479</td><td style = \"text-align: right;\">2.06706</td><td style = \"text-align: right;\">0.108802</td><td style = \"text-align: right;\">2.0</td><td style = \"text-align: right;\">0.0</td><td style = \"text-align: right;\">0.0</td></tr><tr><td class = \"rowNumber\" style = \"font-weight: bold; text-align: right;\">9999</td><td style = \"text-align: right;\">0.358607</td><td style = \"text-align: right;\">0.0251252</td><td style = \"text-align: right;\">0.274985</td><td style = \"text-align: right;\">0.00525337</td><td style = \"text-align: right;\">2.0</td><td style = \"text-align: right;\">0.0</td><td style = \"text-align: right;\">0.0</td></tr><tr><td class = \"rowNumber\" style = \"font-weight: bold; text-align: right;\">10000</td><td style = \"text-align: right;\">24.1694</td><td style = \"text-align: right;\">0.00861932</td><td style = \"text-align: right;\">0.335293</td><td style = \"text-align: right;\">1.69783</td><td style = \"text-align: right;\">1.1</td><td style = \"text-align: right;\">0.0</td><td style = \"text-align: right;\">0.0</td></tr></tbody></table></div>"
      ],
      "text/latex": [
       "\\begin{tabular}{r|ccccccc}\n",
       "\t& L & K & P & A & retcode & per & amp\\\\\n",
       "\t\\hline\n",
       "\t& Float64 & Float64 & Float64 & Float64 & Float64 & Float64 & Float64\\\\\n",
       "\t\\hline\n",
       "\t1 & 0.0196547 & 0.302516 & 48.8004 & 0.104239 & 1.1 & 0.0 & 0.0 \\\\\n",
       "\t2 & 0.0102095 & 0.00388036 & 0.564983 & 0.00240571 & 2.0 & 0.0 & 0.0 \\\\\n",
       "\t3 & 0.228528 & 6.19631 & 28.7427 & 4.61154 & 1.1 & 0.0 & 0.0 \\\\\n",
       "\t4 & 26.1779 & 0.222948 & 0.765262 & 9.06722 & 1.1 & 0.0 & 0.0 \\\\\n",
       "\t5 & 81.3937 & 0.0146195 & 0.511188 & 0.0429213 & 2.0 & 0.0 & 0.0 \\\\\n",
       "\t6 & 21.876 & 0.592596 & 0.0215943 & 0.0856965 & 1.1 & 0.0 & 0.0 \\\\\n",
       "\t7 & 0.0944455 & 0.00169754 & 0.540428 & 0.0316907 & 2.0 & 0.0 & 0.0 \\\\\n",
       "\t8 & 0.485438 & 1.4489 & 0.0901489 & 0.202443 & 1.1 & 0.0 & 0.0 \\\\\n",
       "\t9 & 0.195302 & 0.700483 & 2.5215 & 0.0150069 & 1.1 & 0.0 & 0.0 \\\\\n",
       "\t10 & 0.160022 & 95.328 & 1.55556 & 0.00112746 & 1.1 & 0.0 & 0.0 \\\\\n",
       "\t11 & 2.09913 & 0.00292811 & 2.00092 & 0.418634 & 1.1 & 0.0 & 0.0 \\\\\n",
       "\t12 & 0.190867 & 99.7636 & 0.0984292 & 11.217 & 1.1 & 0.0 & 0.0 \\\\\n",
       "\t13 & 0.0403366 & 0.1094 & 0.0118241 & 0.0103897 & 1.1 & 0.0 & 0.0 \\\\\n",
       "\t14 & 18.84 & 0.00327254 & 0.108319 & 0.052724 & 2.0 & 0.0 & 0.0 \\\\\n",
       "\t15 & 0.193918 & 0.407892 & 0.0415015 & 0.00685647 & 1.1 & 0.0 & 0.0 \\\\\n",
       "\t16 & 1.16885 & 31.7266 & 0.140166 & 56.6151 & 1.1 & 0.0 & 0.0 \\\\\n",
       "\t17 & 23.9811 & 0.00286468 & 12.5191 & 0.0943627 & 1.1 & 0.0 & 0.0 \\\\\n",
       "\t18 & 0.0287026 & 0.575986 & 0.78374 & 1.18165 & 1.1 & 0.0 & 0.0 \\\\\n",
       "\t19 & 78.1514 & 0.107729 & 50.5758 & 0.332276 & 1.1 & 0.0 & 0.0 \\\\\n",
       "\t20 & 0.132278 & 0.00471035 & 2.34176 & 13.4752 & 1.1 & 0.0 & 0.0 \\\\\n",
       "\t21 & 0.0298024 & 0.387644 & 0.0208814 & 11.8128 & 2.0 & 0.0 & 0.0 \\\\\n",
       "\t22 & 0.0119101 & 1.97176 & 0.0186769 & 6.05919 & 2.0 & 0.0 & 0.0 \\\\\n",
       "\t23 & 2.94612 & 0.0960212 & 0.617041 & 0.065358 & 2.0 & 0.0 & 0.0 \\\\\n",
       "\t24 & 0.0996916 & 0.763442 & 0.0126955 & 0.0154997 & 1.1 & 0.0 & 0.0 \\\\\n",
       "\t$\\dots$ & $\\dots$ & $\\dots$ & $\\dots$ & $\\dots$ & $\\dots$ & $\\dots$ & $\\dots$ \\\\\n",
       "\\end{tabular}\n"
      ],
      "text/plain": [
       "\u001b[1m10000×7 DataFrame\u001b[0m\n",
       "\u001b[1m   Row \u001b[0m│\u001b[1m L          \u001b[0m\u001b[1m K           \u001b[0m\u001b[1m P          \u001b[0m\u001b[1m A           \u001b[0m\u001b[1m retcode \u001b[0m\u001b[1m per     \u001b[0m\u001b[1m a\u001b[0m ⋯\n",
       "       │\u001b[90m Float64    \u001b[0m\u001b[90m Float64     \u001b[0m\u001b[90m Float64    \u001b[0m\u001b[90m Float64     \u001b[0m\u001b[90m Float64 \u001b[0m\u001b[90m Float64 \u001b[0m\u001b[90m F\u001b[0m ⋯\n",
       "───────┼────────────────────────────────────────────────────────────────────────\n",
       "     1 │  0.0196547   0.302516    48.8004      0.104239        1.1      0.0    ⋯\n",
       "     2 │  0.0102095   0.00388036   0.564983    0.00240571      2.0      0.0\n",
       "     3 │  0.228528    6.19631     28.7427      4.61154         1.1      0.0\n",
       "     4 │ 26.1779      0.222948     0.765262    9.06722         1.1      0.0\n",
       "     5 │ 81.3937      0.0146195    0.511188    0.0429213       2.0      0.0    ⋯\n",
       "     6 │ 21.876       0.592596     0.0215943   0.0856965       1.1      0.0\n",
       "     7 │  0.0944455   0.00169754   0.540428    0.0316907       2.0      0.0\n",
       "     8 │  0.485438    1.4489       0.0901489   0.202443        1.1      0.0\n",
       "   ⋮   │     ⋮            ⋮           ⋮            ⋮          ⋮        ⋮       ⋱\n",
       "  9994 │ 92.5956      0.515188     0.174252    0.00106495      1.1      0.0    ⋯\n",
       "  9995 │  0.434564    2.02272      0.268893    0.00203618      1.1      0.0\n",
       "  9996 │  0.0200032   0.0602324   16.1142     16.2085          1.1      0.0\n",
       "  9997 │  6.23388     0.00239091   1.2764     35.967           1.1      0.0\n",
       "  9998 │  3.44491     0.0501479    2.06706     0.108802        2.0      0.0    ⋯\n",
       "  9999 │  0.358607    0.0251252    0.274985    0.00525337      2.0      0.0\n",
       " 10000 │ 24.1694      0.00861932   0.335293    1.69783         1.1      0.0\n",
       "\u001b[36m                                                  1 column and 9985 rows omitted\u001b[0m"
      ]
     },
     "metadata": {},
     "output_type": "display_data"
    }
   ],
   "source": [
    "@btime(testClassifier(10000; outputdirectory = \"/Users/ezragreenberg/Julia/ExperimentalFullModelWork/BenchmarkCsv/\", filename = \"LowerTolerance.csv\", reltol=1e-6, abstol=1e-8))"
   ]
  },
  {
   "cell_type": "code",
   "execution_count": 46,
   "metadata": {},
   "outputs": [
    {
     "data": {
      "text/html": [
       "<div><div style = \"float: left;\"><span>0×7 DataFrame</span></div><div style = \"clear: both;\"></div></div><div class = \"data-frame\" style = \"overflow-x: scroll;\"><table class = \"data-frame\" style = \"margin-bottom: 6px;\"><thead><tr class = \"header\"><th class = \"rowNumber\" style = \"font-weight: bold; text-align: right;\">Row</th><th style = \"text-align: left;\">L</th><th style = \"text-align: left;\">K</th><th style = \"text-align: left;\">P</th><th style = \"text-align: left;\">A</th><th style = \"text-align: left;\">retcode</th><th style = \"text-align: left;\">per</th><th style = \"text-align: left;\">amp</th></tr><tr class = \"subheader headerLastRow\"><th class = \"rowNumber\" style = \"font-weight: bold; text-align: right;\"></th><th title = \"Float64\" style = \"text-align: left;\">Float64</th><th title = \"Float64\" style = \"text-align: left;\">Float64</th><th title = \"Float64\" style = \"text-align: left;\">Float64</th><th title = \"Float64\" style = \"text-align: left;\">Float64</th><th title = \"Float64\" style = \"text-align: left;\">Float64</th><th title = \"Float64\" style = \"text-align: left;\">Float64</th><th title = \"Float64\" style = \"text-align: left;\">Float64</th></tr></thead><tbody></tbody></table></div>"
      ],
      "text/latex": [
       "\\begin{tabular}{r|ccccccc}\n",
       "\t& L & K & P & A & retcode & per & amp\\\\\n",
       "\t\\hline\n",
       "\t& Float64 & Float64 & Float64 & Float64 & Float64 & Float64 & Float64\\\\\n",
       "\t\\hline\n",
       "\\end{tabular}\n"
      ],
      "text/plain": [
       "\u001b[1m0×7 DataFrame\u001b[0m\n",
       "\u001b[1m Row \u001b[0m│\u001b[1m L       \u001b[0m\u001b[1m K       \u001b[0m\u001b[1m P       \u001b[0m\u001b[1m A       \u001b[0m\u001b[1m retcode \u001b[0m\u001b[1m per     \u001b[0m\u001b[1m amp     \u001b[0m\n",
       "     │\u001b[90m Float64 \u001b[0m\u001b[90m Float64 \u001b[0m\u001b[90m Float64 \u001b[0m\u001b[90m Float64 \u001b[0m\u001b[90m Float64 \u001b[0m\u001b[90m Float64 \u001b[0m\u001b[90m Float64 \u001b[0m\n",
       "─────┴───────────────────────────────────────────────────────────────"
      ]
     },
     "metadata": {},
     "output_type": "display_data"
    }
   ],
   "source": [
    "mydf2 = DataFrame(CSV.File(\"/Users/ezragreenberg/Julia/ExperimentalFullModelWork/BenchmarkCsv/LowerTolerance.csv\"))\n",
    "mass_not_conserved2 = mydf1[mydf1.retcode.==1.5,:]"
   ]
  },
  {
   "cell_type": "code",
   "execution_count": 47,
   "metadata": {},
   "outputs": [
    {
     "data": {
      "text/html": [
       "<div><div style = \"float: left;\"><span>0×7 DataFrame</span></div><div style = \"clear: both;\"></div></div><div class = \"data-frame\" style = \"overflow-x: scroll;\"><table class = \"data-frame\" style = \"margin-bottom: 6px;\"><thead><tr class = \"header\"><th class = \"rowNumber\" style = \"font-weight: bold; text-align: right;\">Row</th><th style = \"text-align: left;\">L</th><th style = \"text-align: left;\">K</th><th style = \"text-align: left;\">P</th><th style = \"text-align: left;\">A</th><th style = \"text-align: left;\">retcode</th><th style = \"text-align: left;\">per</th><th style = \"text-align: left;\">amp</th></tr><tr class = \"subheader headerLastRow\"><th class = \"rowNumber\" style = \"font-weight: bold; text-align: right;\"></th><th title = \"Float64\" style = \"text-align: left;\">Float64</th><th title = \"Float64\" style = \"text-align: left;\">Float64</th><th title = \"Float64\" style = \"text-align: left;\">Float64</th><th title = \"Float64\" style = \"text-align: left;\">Float64</th><th title = \"Float64\" style = \"text-align: left;\">Float64</th><th title = \"Float64\" style = \"text-align: left;\">Float64</th><th title = \"Float64\" style = \"text-align: left;\">Float64</th></tr></thead><tbody></tbody></table></div>"
      ],
      "text/latex": [
       "\\begin{tabular}{r|ccccccc}\n",
       "\t& L & K & P & A & retcode & per & amp\\\\\n",
       "\t\\hline\n",
       "\t& Float64 & Float64 & Float64 & Float64 & Float64 & Float64 & Float64\\\\\n",
       "\t\\hline\n",
       "\\end{tabular}\n"
      ],
      "text/plain": [
       "\u001b[1m0×7 DataFrame\u001b[0m\n",
       "\u001b[1m Row \u001b[0m│\u001b[1m L       \u001b[0m\u001b[1m K       \u001b[0m\u001b[1m P       \u001b[0m\u001b[1m A       \u001b[0m\u001b[1m retcode \u001b[0m\u001b[1m per     \u001b[0m\u001b[1m amp     \u001b[0m\n",
       "     │\u001b[90m Float64 \u001b[0m\u001b[90m Float64 \u001b[0m\u001b[90m Float64 \u001b[0m\u001b[90m Float64 \u001b[0m\u001b[90m Float64 \u001b[0m\u001b[90m Float64 \u001b[0m\u001b[90m Float64 \u001b[0m\n",
       "─────┴───────────────────────────────────────────────────────────────"
      ]
     },
     "metadata": {},
     "output_type": "display_data"
    }
   ],
   "source": [
    "other_failures2 = mydf1[mydf1.retcode.==1.0,:]"
   ]
  },
  {
   "cell_type": "code",
   "execution_count": 48,
   "metadata": {},
   "outputs": [
    {
     "data": {
      "text/html": [
       "<div><div style = \"float: left;\"><span>50×7 DataFrame</span></div><div style = \"float: right;\"><span style = \"font-style: italic;\">25 rows omitted</span></div><div style = \"clear: both;\"></div></div><div class = \"data-frame\" style = \"overflow-x: scroll;\"><table class = \"data-frame\" style = \"margin-bottom: 6px;\"><thead><tr class = \"header\"><th class = \"rowNumber\" style = \"font-weight: bold; text-align: right;\">Row</th><th style = \"text-align: left;\">L</th><th style = \"text-align: left;\">K</th><th style = \"text-align: left;\">P</th><th style = \"text-align: left;\">A</th><th style = \"text-align: left;\">retcode</th><th style = \"text-align: left;\">per</th><th style = \"text-align: left;\">amp</th></tr><tr class = \"subheader headerLastRow\"><th class = \"rowNumber\" style = \"font-weight: bold; text-align: right;\"></th><th title = \"Float64\" style = \"text-align: left;\">Float64</th><th title = \"Float64\" style = \"text-align: left;\">Float64</th><th title = \"Float64\" style = \"text-align: left;\">Float64</th><th title = \"Float64\" style = \"text-align: left;\">Float64</th><th title = \"Float64\" style = \"text-align: left;\">Float64</th><th title = \"Float64\" style = \"text-align: left;\">Float64</th><th title = \"Float64\" style = \"text-align: left;\">Float64</th></tr></thead><tbody><tr><td class = \"rowNumber\" style = \"font-weight: bold; text-align: right;\">1</td><td style = \"text-align: right;\">13.8915</td><td style = \"text-align: right;\">0.588267</td><td style = \"text-align: right;\">4.96728</td><td style = \"text-align: right;\">2.0392</td><td style = \"text-align: right;\">-100.0</td><td style = \"text-align: right;\">2.9871</td><td style = \"text-align: right;\">0.387939</td></tr><tr><td class = \"rowNumber\" style = \"font-weight: bold; text-align: right;\">2</td><td style = \"text-align: right;\">8.60709</td><td style = \"text-align: right;\">3.13347</td><td style = \"text-align: right;\">1.35597</td><td style = \"text-align: right;\">72.6048</td><td style = \"text-align: right;\">-100.0</td><td style = \"text-align: right;\">1.906</td><td style = \"text-align: right;\">1.80404</td></tr><tr><td class = \"rowNumber\" style = \"font-weight: bold; text-align: right;\">3</td><td style = \"text-align: right;\">7.44909</td><td style = \"text-align: right;\">0.0471053</td><td style = \"text-align: right;\">0.17936</td><td style = \"text-align: right;\">1.06195</td><td style = \"text-align: right;\">-100.0</td><td style = \"text-align: right;\">4.58</td><td style = \"text-align: right;\">0.115861</td></tr><tr><td class = \"rowNumber\" style = \"font-weight: bold; text-align: right;\">4</td><td style = \"text-align: right;\">32.3703</td><td style = \"text-align: right;\">0.48104</td><td style = \"text-align: right;\">4.20911</td><td style = \"text-align: right;\">6.12865</td><td style = \"text-align: right;\">-100.0</td><td style = \"text-align: right;\">1.87451</td><td style = \"text-align: right;\">0.971606</td></tr><tr><td class = \"rowNumber\" style = \"font-weight: bold; text-align: right;\">5</td><td style = \"text-align: right;\">53.1952</td><td style = \"text-align: right;\">5.4238</td><td style = \"text-align: right;\">35.4178</td><td style = \"text-align: right;\">31.112</td><td style = \"text-align: right;\">-1.0</td><td style = \"text-align: right;\">1.43019</td><td style = \"text-align: right;\">12.0376</td></tr><tr><td class = \"rowNumber\" style = \"font-weight: bold; text-align: right;\">6</td><td style = \"text-align: right;\">22.7287</td><td style = \"text-align: right;\">2.30622</td><td style = \"text-align: right;\">13.678</td><td style = \"text-align: right;\">11.0956</td><td style = \"text-align: right;\">-100.0</td><td style = \"text-align: right;\">1.67719</td><td style = \"text-align: right;\">2.26789</td></tr><tr><td class = \"rowNumber\" style = \"font-weight: bold; text-align: right;\">7</td><td style = \"text-align: right;\">21.4898</td><td style = \"text-align: right;\">2.94398</td><td style = \"text-align: right;\">42.6278</td><td style = \"text-align: right;\">5.81731</td><td style = \"text-align: right;\">-100.0</td><td style = \"text-align: right;\">3.05161</td><td style = \"text-align: right;\">0.412925</td></tr><tr><td class = \"rowNumber\" style = \"font-weight: bold; text-align: right;\">8</td><td style = \"text-align: right;\">25.9791</td><td style = \"text-align: right;\">2.08729</td><td style = \"text-align: right;\">24.8918</td><td style = \"text-align: right;\">8.50543</td><td style = \"text-align: right;\">-100.0</td><td style = \"text-align: right;\">1.97917</td><td style = \"text-align: right;\">0.878367</td></tr><tr><td class = \"rowNumber\" style = \"font-weight: bold; text-align: right;\">9</td><td style = \"text-align: right;\">4.42054</td><td style = \"text-align: right;\">2.44321</td><td style = \"text-align: right;\">0.877612</td><td style = \"text-align: right;\">26.4603</td><td style = \"text-align: right;\">-100.0</td><td style = \"text-align: right;\">1.89216</td><td style = \"text-align: right;\">0.942524</td></tr><tr><td class = \"rowNumber\" style = \"font-weight: bold; text-align: right;\">10</td><td style = \"text-align: right;\">2.98015</td><td style = \"text-align: right;\">1.65648</td><td style = \"text-align: right;\">1.16099</td><td style = \"text-align: right;\">12.7925</td><td style = \"text-align: right;\">-100.0</td><td style = \"text-align: right;\">1.96531</td><td style = \"text-align: right;\">0.22119</td></tr><tr><td class = \"rowNumber\" style = \"font-weight: bold; text-align: right;\">11</td><td style = \"text-align: right;\">5.76828</td><td style = \"text-align: right;\">2.52703</td><td style = \"text-align: right;\">5.6136</td><td style = \"text-align: right;\">7.23367</td><td style = \"text-align: right;\">-100.0</td><td style = \"text-align: right;\">1.80189</td><td style = \"text-align: right;\">0.485083</td></tr><tr><td class = \"rowNumber\" style = \"font-weight: bold; text-align: right;\">12</td><td style = \"text-align: right;\">7.10207</td><td style = \"text-align: right;\">8.02426</td><td style = \"text-align: right;\">1.97087</td><td style = \"text-align: right;\">45.5328</td><td style = \"text-align: right;\">-100.0</td><td style = \"text-align: right;\">1.48923</td><td style = \"text-align: right;\">2.01439</td></tr><tr><td class = \"rowNumber\" style = \"font-weight: bold; text-align: right;\">13</td><td style = \"text-align: right;\">18.3238</td><td style = \"text-align: right;\">24.4809</td><td style = \"text-align: right;\">76.4742</td><td style = \"text-align: right;\">42.0286</td><td style = \"text-align: right;\">-100.0</td><td style = \"text-align: right;\">1.19383</td><td style = \"text-align: right;\">2.94377</td></tr><tr><td style = \"text-align: right;\">&vellip;</td><td style = \"text-align: right;\">&vellip;</td><td style = \"text-align: right;\">&vellip;</td><td style = \"text-align: right;\">&vellip;</td><td style = \"text-align: right;\">&vellip;</td><td style = \"text-align: right;\">&vellip;</td><td style = \"text-align: right;\">&vellip;</td><td style = \"text-align: right;\">&vellip;</td></tr><tr><td class = \"rowNumber\" style = \"font-weight: bold; text-align: right;\">39</td><td style = \"text-align: right;\">7.89685</td><td style = \"text-align: right;\">0.139638</td><td style = \"text-align: right;\">0.655577</td><td style = \"text-align: right;\">0.57365</td><td style = \"text-align: right;\">-100.0</td><td style = \"text-align: right;\">4.14545</td><td style = \"text-align: right;\">0.271992</td></tr><tr><td class = \"rowNumber\" style = \"font-weight: bold; text-align: right;\">40</td><td style = \"text-align: right;\">12.366</td><td style = \"text-align: right;\">6.77872</td><td style = \"text-align: right;\">6.69069</td><td style = \"text-align: right;\">46.8701</td><td style = \"text-align: right;\">-1.0</td><td style = \"text-align: right;\">1.13056</td><td style = \"text-align: right;\">2.62411</td></tr><tr><td class = \"rowNumber\" style = \"font-weight: bold; text-align: right;\">41</td><td style = \"text-align: right;\">45.4814</td><td style = \"text-align: right;\">0.0998593</td><td style = \"text-align: right;\">1.13158</td><td style = \"text-align: right;\">2.27035</td><td style = \"text-align: right;\">-100.0</td><td style = \"text-align: right;\">2.63889</td><td style = \"text-align: right;\">0.768686</td></tr><tr><td class = \"rowNumber\" style = \"font-weight: bold; text-align: right;\">42</td><td style = \"text-align: right;\">31.2089</td><td style = \"text-align: right;\">0.322491</td><td style = \"text-align: right;\">0.902447</td><td style = \"text-align: right;\">41.3914</td><td style = \"text-align: right;\">-100.0</td><td style = \"text-align: right;\">2.49474</td><td style = \"text-align: right;\">1.19348</td></tr><tr><td class = \"rowNumber\" style = \"font-weight: bold; text-align: right;\">43</td><td style = \"text-align: right;\">1.46119</td><td style = \"text-align: right;\">0.509402</td><td style = \"text-align: right;\">0.239654</td><td style = \"text-align: right;\">2.03407</td><td style = \"text-align: right;\">-100.0</td><td style = \"text-align: right;\">3.35</td><td style = \"text-align: right;\">0.217137</td></tr><tr><td class = \"rowNumber\" style = \"font-weight: bold; text-align: right;\">44</td><td style = \"text-align: right;\">25.2082</td><td style = \"text-align: right;\">3.56719</td><td style = \"text-align: right;\">17.8872</td><td style = \"text-align: right;\">24.3005</td><td style = \"text-align: right;\">-100.0</td><td style = \"text-align: right;\">1.30541</td><td style = \"text-align: right;\">1.98022</td></tr><tr><td class = \"rowNumber\" style = \"font-weight: bold; text-align: right;\">45</td><td style = \"text-align: right;\">11.842</td><td style = \"text-align: right;\">0.573167</td><td style = \"text-align: right;\">0.371642</td><td style = \"text-align: right;\">53.1522</td><td style = \"text-align: right;\">-100.0</td><td style = \"text-align: right;\">4.39048</td><td style = \"text-align: right;\">1.55847</td></tr><tr><td class = \"rowNumber\" style = \"font-weight: bold; text-align: right;\">46</td><td style = \"text-align: right;\">11.9444</td><td style = \"text-align: right;\">1.14604</td><td style = \"text-align: right;\">5.72431</td><td style = \"text-align: right;\">2.99115</td><td style = \"text-align: right;\">-100.0</td><td style = \"text-align: right;\">2.74</td><td style = \"text-align: right;\">1.41149</td></tr><tr><td class = \"rowNumber\" style = \"font-weight: bold; text-align: right;\">47</td><td style = \"text-align: right;\">21.6913</td><td style = \"text-align: right;\">0.0653768</td><td style = \"text-align: right;\">0.169286</td><td style = \"text-align: right;\">11.8262</td><td style = \"text-align: right;\">-100.0</td><td style = \"text-align: right;\">5.18824</td><td style = \"text-align: right;\">0.723723</td></tr><tr><td class = \"rowNumber\" style = \"font-weight: bold; text-align: right;\">48</td><td style = \"text-align: right;\">75.0721</td><td style = \"text-align: right;\">3.70468</td><td style = \"text-align: right;\">32.294</td><td style = \"text-align: right;\">81.6538</td><td style = \"text-align: right;\">-100.0</td><td style = \"text-align: right;\">1.46923</td><td style = \"text-align: right;\">2.80509</td></tr><tr><td class = \"rowNumber\" style = \"font-weight: bold; text-align: right;\">49</td><td style = \"text-align: right;\">51.1368</td><td style = \"text-align: right;\">2.73588</td><td style = \"text-align: right;\">18.7717</td><td style = \"text-align: right;\">23.5222</td><td style = \"text-align: right;\">-1.0</td><td style = \"text-align: right;\">1.48125</td><td style = \"text-align: right;\">6.85546</td></tr><tr><td class = \"rowNumber\" style = \"font-weight: bold; text-align: right;\">50</td><td style = \"text-align: right;\">7.14355</td><td style = \"text-align: right;\">0.94775</td><td style = \"text-align: right;\">1.66769</td><td style = \"text-align: right;\">2.67955</td><td style = \"text-align: right;\">-100.0</td><td style = \"text-align: right;\">2.64167</td><td style = \"text-align: right;\">1.84161</td></tr></tbody></table></div>"
      ],
      "text/latex": [
       "\\begin{tabular}{r|ccccccc}\n",
       "\t& L & K & P & A & retcode & per & amp\\\\\n",
       "\t\\hline\n",
       "\t& Float64 & Float64 & Float64 & Float64 & Float64 & Float64 & Float64\\\\\n",
       "\t\\hline\n",
       "\t1 & 13.8915 & 0.588267 & 4.96728 & 2.0392 & -100.0 & 2.9871 & 0.387939 \\\\\n",
       "\t2 & 8.60709 & 3.13347 & 1.35597 & 72.6048 & -100.0 & 1.906 & 1.80404 \\\\\n",
       "\t3 & 7.44909 & 0.0471053 & 0.17936 & 1.06195 & -100.0 & 4.58 & 0.115861 \\\\\n",
       "\t4 & 32.3703 & 0.48104 & 4.20911 & 6.12865 & -100.0 & 1.87451 & 0.971606 \\\\\n",
       "\t5 & 53.1952 & 5.4238 & 35.4178 & 31.112 & -1.0 & 1.43019 & 12.0376 \\\\\n",
       "\t6 & 22.7287 & 2.30622 & 13.678 & 11.0956 & -100.0 & 1.67719 & 2.26789 \\\\\n",
       "\t7 & 21.4898 & 2.94398 & 42.6278 & 5.81731 & -100.0 & 3.05161 & 0.412925 \\\\\n",
       "\t8 & 25.9791 & 2.08729 & 24.8918 & 8.50543 & -100.0 & 1.97917 & 0.878367 \\\\\n",
       "\t9 & 4.42054 & 2.44321 & 0.877612 & 26.4603 & -100.0 & 1.89216 & 0.942524 \\\\\n",
       "\t10 & 2.98015 & 1.65648 & 1.16099 & 12.7925 & -100.0 & 1.96531 & 0.22119 \\\\\n",
       "\t11 & 5.76828 & 2.52703 & 5.6136 & 7.23367 & -100.0 & 1.80189 & 0.485083 \\\\\n",
       "\t12 & 7.10207 & 8.02426 & 1.97087 & 45.5328 & -100.0 & 1.48923 & 2.01439 \\\\\n",
       "\t13 & 18.3238 & 24.4809 & 76.4742 & 42.0286 & -100.0 & 1.19383 & 2.94377 \\\\\n",
       "\t14 & 21.5895 & 6.60395 & 19.6291 & 31.1909 & -1.0 & 1.1875 & 3.70341 \\\\\n",
       "\t15 & 17.0174 & 4.69484 & 3.36563 & 58.8892 & -1.0 & 1.47358 & 5.72102 \\\\\n",
       "\t16 & 1.87188 & 0.552923 & 0.152272 & 5.14144 & -100.0 & 3.676 & 0.381517 \\\\\n",
       "\t17 & 9.61006 & 0.238314 & 0.895823 & 4.05627 & -100.0 & 2.45128 & 0.192517 \\\\\n",
       "\t18 & 2.46838 & 0.161181 & 0.199727 & 0.653989 & -100.0 & 4.565 & 0.200541 \\\\\n",
       "\t19 & 1.72891 & 1.67226 & 0.332622 & 10.2971 & -100.0 & 2.61389 & 0.339534 \\\\\n",
       "\t20 & 3.97352 & 3.7307 & 1.0145 & 37.5433 & -100.0 & 1.81321 & 0.707074 \\\\\n",
       "\t21 & 47.2608 & 0.276529 & 2.27048 & 12.7163 & -100.0 & 1.72321 & 0.835192 \\\\\n",
       "\t22 & 1.15031 & 2.17025 & 0.530025 & 4.86162 & -100.0 & 2.50789 & 0.265512 \\\\\n",
       "\t23 & 27.8875 & 37.4641 & 38.813 & 88.7229 & -1.0 & 22.6733 & 4.13682 \\\\\n",
       "\t24 & 34.9063 & 0.878917 & 4.85665 & 12.3883 & -100.0 & 1.67586 & 2.38456 \\\\\n",
       "\t$\\dots$ & $\\dots$ & $\\dots$ & $\\dots$ & $\\dots$ & $\\dots$ & $\\dots$ & $\\dots$ \\\\\n",
       "\\end{tabular}\n"
      ],
      "text/plain": [
       "\u001b[1m50×7 DataFrame\u001b[0m\n",
       "\u001b[1m Row \u001b[0m│\u001b[1m L        \u001b[0m\u001b[1m K         \u001b[0m\u001b[1m P         \u001b[0m\u001b[1m A        \u001b[0m\u001b[1m retcode \u001b[0m\u001b[1m per     \u001b[0m\u001b[1m amp       \u001b[0m\n",
       "     │\u001b[90m Float64  \u001b[0m\u001b[90m Float64   \u001b[0m\u001b[90m Float64   \u001b[0m\u001b[90m Float64  \u001b[0m\u001b[90m Float64 \u001b[0m\u001b[90m Float64 \u001b[0m\u001b[90m Float64   \u001b[0m\n",
       "─────┼───────────────────────────────────────────────────────────────────────\n",
       "   1 │ 13.8915   0.588267    4.96728    2.0392    -100.0  2.9871    0.387939\n",
       "   2 │  8.60709  3.13347     1.35597   72.6048    -100.0  1.906     1.80404\n",
       "   3 │  7.44909  0.0471053   0.17936    1.06195   -100.0  4.58      0.115861\n",
       "   4 │ 32.3703   0.48104     4.20911    6.12865   -100.0  1.87451   0.971606\n",
       "   5 │ 53.1952   5.4238     35.4178    31.112       -1.0  1.43019  12.0376\n",
       "   6 │ 22.7287   2.30622    13.678     11.0956    -100.0  1.67719   2.26789\n",
       "   7 │ 21.4898   2.94398    42.6278     5.81731   -100.0  3.05161   0.412925\n",
       "   8 │ 25.9791   2.08729    24.8918     8.50543   -100.0  1.97917   0.878367\n",
       "  ⋮  │    ⋮          ⋮          ⋮         ⋮         ⋮        ⋮         ⋮\n",
       "  44 │ 25.2082   3.56719    17.8872    24.3005    -100.0  1.30541   1.98022\n",
       "  45 │ 11.842    0.573167    0.371642  53.1522    -100.0  4.39048   1.55847\n",
       "  46 │ 11.9444   1.14604     5.72431    2.99115   -100.0  2.74      1.41149\n",
       "  47 │ 21.6913   0.0653768   0.169286  11.8262    -100.0  5.18824   0.723723\n",
       "  48 │ 75.0721   3.70468    32.294     81.6538    -100.0  1.46923   2.80509\n",
       "  49 │ 51.1368   2.73588    18.7717    23.5222      -1.0  1.48125   6.85546\n",
       "  50 │  7.14355  0.94775     1.66769    2.67955   -100.0  2.64167   1.84161\n",
       "\u001b[36m                                                              35 rows omitted\u001b[0m"
      ]
     },
     "metadata": {},
     "output_type": "display_data"
    }
   ],
   "source": [
    "osc_df2  = mydf2[mydf2.retcode.<1.0,:]"
   ]
  },
  {
   "cell_type": "code",
   "execution_count": 49,
   "metadata": {},
   "outputs": [],
   "source": [
    "PlotSolutions(osc_df2)"
   ]
  },
  {
   "cell_type": "markdown",
   "metadata": {},
   "source": [
    "So we got the same results in this situation it appears. This should be explored further in the case of parameters that have been issues in the past; storing these values is a to do. Note however that there was a ~30% decrease in the time it took. Let's finish off by timing what happens if we do -8 and -8 as Dr. Johnson has suggested in the past."
   ]
  },
  {
   "cell_type": "code",
   "execution_count": 50,
   "metadata": {},
   "outputs": [
    {
     "name": "stdout",
     "output_type": "stream",
     "text": [
      "  11.075 s (4883714 allocations: 1.20 GiB)\n"
     ]
    },
    {
     "data": {
      "text/html": [
       "<div><div style = \"float: left;\"><span>10000×7 DataFrame</span></div><div style = \"float: right;\"><span style = \"font-style: italic;\">9975 rows omitted</span></div><div style = \"clear: both;\"></div></div><div class = \"data-frame\" style = \"overflow-x: scroll;\"><table class = \"data-frame\" style = \"margin-bottom: 6px;\"><thead><tr class = \"header\"><th class = \"rowNumber\" style = \"font-weight: bold; text-align: right;\">Row</th><th style = \"text-align: left;\">L</th><th style = \"text-align: left;\">K</th><th style = \"text-align: left;\">P</th><th style = \"text-align: left;\">A</th><th style = \"text-align: left;\">retcode</th><th style = \"text-align: left;\">per</th><th style = \"text-align: left;\">amp</th></tr><tr class = \"subheader headerLastRow\"><th class = \"rowNumber\" style = \"font-weight: bold; text-align: right;\"></th><th title = \"Float64\" style = \"text-align: left;\">Float64</th><th title = \"Float64\" style = \"text-align: left;\">Float64</th><th title = \"Float64\" style = \"text-align: left;\">Float64</th><th title = \"Float64\" style = \"text-align: left;\">Float64</th><th title = \"Float64\" style = \"text-align: left;\">Float64</th><th title = \"Float64\" style = \"text-align: left;\">Float64</th><th title = \"Float64\" style = \"text-align: left;\">Float64</th></tr></thead><tbody><tr><td class = \"rowNumber\" style = \"font-weight: bold; text-align: right;\">1</td><td style = \"text-align: right;\">0.0196547</td><td style = \"text-align: right;\">0.302516</td><td style = \"text-align: right;\">48.8004</td><td style = \"text-align: right;\">0.104239</td><td style = \"text-align: right;\">1.1</td><td style = \"text-align: right;\">0.0</td><td style = \"text-align: right;\">0.0</td></tr><tr><td class = \"rowNumber\" style = \"font-weight: bold; text-align: right;\">2</td><td style = \"text-align: right;\">0.0102095</td><td style = \"text-align: right;\">0.00388036</td><td style = \"text-align: right;\">0.564983</td><td style = \"text-align: right;\">0.00240571</td><td style = \"text-align: right;\">2.0</td><td style = \"text-align: right;\">0.0</td><td style = \"text-align: right;\">0.0</td></tr><tr><td class = \"rowNumber\" style = \"font-weight: bold; text-align: right;\">3</td><td style = \"text-align: right;\">0.228528</td><td style = \"text-align: right;\">6.19631</td><td style = \"text-align: right;\">28.7427</td><td style = \"text-align: right;\">4.61154</td><td style = \"text-align: right;\">1.1</td><td style = \"text-align: right;\">0.0</td><td style = \"text-align: right;\">0.0</td></tr><tr><td class = \"rowNumber\" style = \"font-weight: bold; text-align: right;\">4</td><td style = \"text-align: right;\">26.1779</td><td style = \"text-align: right;\">0.222948</td><td style = \"text-align: right;\">0.765262</td><td style = \"text-align: right;\">9.06722</td><td style = \"text-align: right;\">1.1</td><td style = \"text-align: right;\">0.0</td><td style = \"text-align: right;\">0.0</td></tr><tr><td class = \"rowNumber\" style = \"font-weight: bold; text-align: right;\">5</td><td style = \"text-align: right;\">81.3937</td><td style = \"text-align: right;\">0.0146195</td><td style = \"text-align: right;\">0.511188</td><td style = \"text-align: right;\">0.0429213</td><td style = \"text-align: right;\">2.0</td><td style = \"text-align: right;\">0.0</td><td style = \"text-align: right;\">0.0</td></tr><tr><td class = \"rowNumber\" style = \"font-weight: bold; text-align: right;\">6</td><td style = \"text-align: right;\">21.876</td><td style = \"text-align: right;\">0.592596</td><td style = \"text-align: right;\">0.0215943</td><td style = \"text-align: right;\">0.0856965</td><td style = \"text-align: right;\">1.1</td><td style = \"text-align: right;\">0.0</td><td style = \"text-align: right;\">0.0</td></tr><tr><td class = \"rowNumber\" style = \"font-weight: bold; text-align: right;\">7</td><td style = \"text-align: right;\">0.0944455</td><td style = \"text-align: right;\">0.00169754</td><td style = \"text-align: right;\">0.540428</td><td style = \"text-align: right;\">0.0316907</td><td style = \"text-align: right;\">2.0</td><td style = \"text-align: right;\">0.0</td><td style = \"text-align: right;\">0.0</td></tr><tr><td class = \"rowNumber\" style = \"font-weight: bold; text-align: right;\">8</td><td style = \"text-align: right;\">0.485438</td><td style = \"text-align: right;\">1.4489</td><td style = \"text-align: right;\">0.0901489</td><td style = \"text-align: right;\">0.202443</td><td style = \"text-align: right;\">1.1</td><td style = \"text-align: right;\">0.0</td><td style = \"text-align: right;\">0.0</td></tr><tr><td class = \"rowNumber\" style = \"font-weight: bold; text-align: right;\">9</td><td style = \"text-align: right;\">0.195302</td><td style = \"text-align: right;\">0.700483</td><td style = \"text-align: right;\">2.5215</td><td style = \"text-align: right;\">0.0150069</td><td style = \"text-align: right;\">1.1</td><td style = \"text-align: right;\">0.0</td><td style = \"text-align: right;\">0.0</td></tr><tr><td class = \"rowNumber\" style = \"font-weight: bold; text-align: right;\">10</td><td style = \"text-align: right;\">0.160022</td><td style = \"text-align: right;\">95.328</td><td style = \"text-align: right;\">1.55556</td><td style = \"text-align: right;\">0.00112746</td><td style = \"text-align: right;\">1.1</td><td style = \"text-align: right;\">0.0</td><td style = \"text-align: right;\">0.0</td></tr><tr><td class = \"rowNumber\" style = \"font-weight: bold; text-align: right;\">11</td><td style = \"text-align: right;\">2.09913</td><td style = \"text-align: right;\">0.00292811</td><td style = \"text-align: right;\">2.00092</td><td style = \"text-align: right;\">0.418634</td><td style = \"text-align: right;\">1.1</td><td style = \"text-align: right;\">0.0</td><td style = \"text-align: right;\">0.0</td></tr><tr><td class = \"rowNumber\" style = \"font-weight: bold; text-align: right;\">12</td><td style = \"text-align: right;\">0.190867</td><td style = \"text-align: right;\">99.7636</td><td style = \"text-align: right;\">0.0984292</td><td style = \"text-align: right;\">11.217</td><td style = \"text-align: right;\">1.1</td><td style = \"text-align: right;\">0.0</td><td style = \"text-align: right;\">0.0</td></tr><tr><td class = \"rowNumber\" style = \"font-weight: bold; text-align: right;\">13</td><td style = \"text-align: right;\">0.0403366</td><td style = \"text-align: right;\">0.1094</td><td style = \"text-align: right;\">0.0118241</td><td style = \"text-align: right;\">0.0103897</td><td style = \"text-align: right;\">1.1</td><td style = \"text-align: right;\">0.0</td><td style = \"text-align: right;\">0.0</td></tr><tr><td style = \"text-align: right;\">&vellip;</td><td style = \"text-align: right;\">&vellip;</td><td style = \"text-align: right;\">&vellip;</td><td style = \"text-align: right;\">&vellip;</td><td style = \"text-align: right;\">&vellip;</td><td style = \"text-align: right;\">&vellip;</td><td style = \"text-align: right;\">&vellip;</td><td style = \"text-align: right;\">&vellip;</td></tr><tr><td class = \"rowNumber\" style = \"font-weight: bold; text-align: right;\">9989</td><td style = \"text-align: right;\">0.019961</td><td style = \"text-align: right;\">20.384</td><td style = \"text-align: right;\">15.5194</td><td style = \"text-align: right;\">0.0665744</td><td style = \"text-align: right;\">1.1</td><td style = \"text-align: right;\">0.0</td><td style = \"text-align: right;\">0.0</td></tr><tr><td class = \"rowNumber\" style = \"font-weight: bold; text-align: right;\">9990</td><td style = \"text-align: right;\">0.0300246</td><td style = \"text-align: right;\">1.42885</td><td style = \"text-align: right;\">10.6908</td><td style = \"text-align: right;\">69.2182</td><td style = \"text-align: right;\">1.1</td><td style = \"text-align: right;\">0.0</td><td style = \"text-align: right;\">0.0</td></tr><tr><td class = \"rowNumber\" style = \"font-weight: bold; text-align: right;\">9991</td><td style = \"text-align: right;\">51.4214</td><td style = \"text-align: right;\">0.0252568</td><td style = \"text-align: right;\">53.1754</td><td style = \"text-align: right;\">0.00631581</td><td style = \"text-align: right;\">2.0</td><td style = \"text-align: right;\">0.0</td><td style = \"text-align: right;\">0.0</td></tr><tr><td class = \"rowNumber\" style = \"font-weight: bold; text-align: right;\">9992</td><td style = \"text-align: right;\">0.0463049</td><td style = \"text-align: right;\">0.00214467</td><td style = \"text-align: right;\">0.422708</td><td style = \"text-align: right;\">0.00232608</td><td style = \"text-align: right;\">2.0</td><td style = \"text-align: right;\">0.0</td><td style = \"text-align: right;\">0.0</td></tr><tr><td class = \"rowNumber\" style = \"font-weight: bold; text-align: right;\">9993</td><td style = \"text-align: right;\">3.90439</td><td style = \"text-align: right;\">9.75595</td><td style = \"text-align: right;\">0.129582</td><td style = \"text-align: right;\">77.4511</td><td style = \"text-align: right;\">1.1</td><td style = \"text-align: right;\">0.0</td><td style = \"text-align: right;\">0.0</td></tr><tr><td class = \"rowNumber\" style = \"font-weight: bold; text-align: right;\">9994</td><td style = \"text-align: right;\">92.5956</td><td style = \"text-align: right;\">0.515188</td><td style = \"text-align: right;\">0.174252</td><td style = \"text-align: right;\">0.00106495</td><td style = \"text-align: right;\">1.1</td><td style = \"text-align: right;\">0.0</td><td style = \"text-align: right;\">0.0</td></tr><tr><td class = \"rowNumber\" style = \"font-weight: bold; text-align: right;\">9995</td><td style = \"text-align: right;\">0.434564</td><td style = \"text-align: right;\">2.02272</td><td style = \"text-align: right;\">0.268893</td><td style = \"text-align: right;\">0.00203618</td><td style = \"text-align: right;\">1.1</td><td style = \"text-align: right;\">0.0</td><td style = \"text-align: right;\">0.0</td></tr><tr><td class = \"rowNumber\" style = \"font-weight: bold; text-align: right;\">9996</td><td style = \"text-align: right;\">0.0200032</td><td style = \"text-align: right;\">0.0602324</td><td style = \"text-align: right;\">16.1142</td><td style = \"text-align: right;\">16.2085</td><td style = \"text-align: right;\">1.1</td><td style = \"text-align: right;\">0.0</td><td style = \"text-align: right;\">0.0</td></tr><tr><td class = \"rowNumber\" style = \"font-weight: bold; text-align: right;\">9997</td><td style = \"text-align: right;\">6.23388</td><td style = \"text-align: right;\">0.00239091</td><td style = \"text-align: right;\">1.2764</td><td style = \"text-align: right;\">35.967</td><td style = \"text-align: right;\">1.1</td><td style = \"text-align: right;\">0.0</td><td style = \"text-align: right;\">0.0</td></tr><tr><td class = \"rowNumber\" style = \"font-weight: bold; text-align: right;\">9998</td><td style = \"text-align: right;\">3.44491</td><td style = \"text-align: right;\">0.0501479</td><td style = \"text-align: right;\">2.06706</td><td style = \"text-align: right;\">0.108802</td><td style = \"text-align: right;\">2.0</td><td style = \"text-align: right;\">0.0</td><td style = \"text-align: right;\">0.0</td></tr><tr><td class = \"rowNumber\" style = \"font-weight: bold; text-align: right;\">9999</td><td style = \"text-align: right;\">0.358607</td><td style = \"text-align: right;\">0.0251252</td><td style = \"text-align: right;\">0.274985</td><td style = \"text-align: right;\">0.00525337</td><td style = \"text-align: right;\">2.0</td><td style = \"text-align: right;\">0.0</td><td style = \"text-align: right;\">0.0</td></tr><tr><td class = \"rowNumber\" style = \"font-weight: bold; text-align: right;\">10000</td><td style = \"text-align: right;\">24.1694</td><td style = \"text-align: right;\">0.00861932</td><td style = \"text-align: right;\">0.335293</td><td style = \"text-align: right;\">1.69783</td><td style = \"text-align: right;\">1.1</td><td style = \"text-align: right;\">0.0</td><td style = \"text-align: right;\">0.0</td></tr></tbody></table></div>"
      ],
      "text/latex": [
       "\\begin{tabular}{r|ccccccc}\n",
       "\t& L & K & P & A & retcode & per & amp\\\\\n",
       "\t\\hline\n",
       "\t& Float64 & Float64 & Float64 & Float64 & Float64 & Float64 & Float64\\\\\n",
       "\t\\hline\n",
       "\t1 & 0.0196547 & 0.302516 & 48.8004 & 0.104239 & 1.1 & 0.0 & 0.0 \\\\\n",
       "\t2 & 0.0102095 & 0.00388036 & 0.564983 & 0.00240571 & 2.0 & 0.0 & 0.0 \\\\\n",
       "\t3 & 0.228528 & 6.19631 & 28.7427 & 4.61154 & 1.1 & 0.0 & 0.0 \\\\\n",
       "\t4 & 26.1779 & 0.222948 & 0.765262 & 9.06722 & 1.1 & 0.0 & 0.0 \\\\\n",
       "\t5 & 81.3937 & 0.0146195 & 0.511188 & 0.0429213 & 2.0 & 0.0 & 0.0 \\\\\n",
       "\t6 & 21.876 & 0.592596 & 0.0215943 & 0.0856965 & 1.1 & 0.0 & 0.0 \\\\\n",
       "\t7 & 0.0944455 & 0.00169754 & 0.540428 & 0.0316907 & 2.0 & 0.0 & 0.0 \\\\\n",
       "\t8 & 0.485438 & 1.4489 & 0.0901489 & 0.202443 & 1.1 & 0.0 & 0.0 \\\\\n",
       "\t9 & 0.195302 & 0.700483 & 2.5215 & 0.0150069 & 1.1 & 0.0 & 0.0 \\\\\n",
       "\t10 & 0.160022 & 95.328 & 1.55556 & 0.00112746 & 1.1 & 0.0 & 0.0 \\\\\n",
       "\t11 & 2.09913 & 0.00292811 & 2.00092 & 0.418634 & 1.1 & 0.0 & 0.0 \\\\\n",
       "\t12 & 0.190867 & 99.7636 & 0.0984292 & 11.217 & 1.1 & 0.0 & 0.0 \\\\\n",
       "\t13 & 0.0403366 & 0.1094 & 0.0118241 & 0.0103897 & 1.1 & 0.0 & 0.0 \\\\\n",
       "\t14 & 18.84 & 0.00327254 & 0.108319 & 0.052724 & 2.0 & 0.0 & 0.0 \\\\\n",
       "\t15 & 0.193918 & 0.407892 & 0.0415015 & 0.00685647 & 1.1 & 0.0 & 0.0 \\\\\n",
       "\t16 & 1.16885 & 31.7266 & 0.140166 & 56.6151 & 1.1 & 0.0 & 0.0 \\\\\n",
       "\t17 & 23.9811 & 0.00286468 & 12.5191 & 0.0943627 & 1.1 & 0.0 & 0.0 \\\\\n",
       "\t18 & 0.0287026 & 0.575986 & 0.78374 & 1.18165 & 1.1 & 0.0 & 0.0 \\\\\n",
       "\t19 & 78.1514 & 0.107729 & 50.5758 & 0.332276 & 1.1 & 0.0 & 0.0 \\\\\n",
       "\t20 & 0.132278 & 0.00471035 & 2.34176 & 13.4752 & 1.1 & 0.0 & 0.0 \\\\\n",
       "\t21 & 0.0298024 & 0.387644 & 0.0208814 & 11.8128 & 2.0 & 0.0 & 0.0 \\\\\n",
       "\t22 & 0.0119101 & 1.97176 & 0.0186769 & 6.05919 & 2.0 & 0.0 & 0.0 \\\\\n",
       "\t23 & 2.94612 & 0.0960212 & 0.617041 & 0.065358 & 2.0 & 0.0 & 0.0 \\\\\n",
       "\t24 & 0.0996916 & 0.763442 & 0.0126955 & 0.0154997 & 1.1 & 0.0 & 0.0 \\\\\n",
       "\t$\\dots$ & $\\dots$ & $\\dots$ & $\\dots$ & $\\dots$ & $\\dots$ & $\\dots$ & $\\dots$ \\\\\n",
       "\\end{tabular}\n"
      ],
      "text/plain": [
       "\u001b[1m10000×7 DataFrame\u001b[0m\n",
       "\u001b[1m   Row \u001b[0m│\u001b[1m L          \u001b[0m\u001b[1m K           \u001b[0m\u001b[1m P          \u001b[0m\u001b[1m A           \u001b[0m\u001b[1m retcode \u001b[0m\u001b[1m per     \u001b[0m\u001b[1m a\u001b[0m ⋯\n",
       "       │\u001b[90m Float64    \u001b[0m\u001b[90m Float64     \u001b[0m\u001b[90m Float64    \u001b[0m\u001b[90m Float64     \u001b[0m\u001b[90m Float64 \u001b[0m\u001b[90m Float64 \u001b[0m\u001b[90m F\u001b[0m ⋯\n",
       "───────┼────────────────────────────────────────────────────────────────────────\n",
       "     1 │  0.0196547   0.302516    48.8004      0.104239        1.1      0.0    ⋯\n",
       "     2 │  0.0102095   0.00388036   0.564983    0.00240571      2.0      0.0\n",
       "     3 │  0.228528    6.19631     28.7427      4.61154         1.1      0.0\n",
       "     4 │ 26.1779      0.222948     0.765262    9.06722         1.1      0.0\n",
       "     5 │ 81.3937      0.0146195    0.511188    0.0429213       2.0      0.0    ⋯\n",
       "     6 │ 21.876       0.592596     0.0215943   0.0856965       1.1      0.0\n",
       "     7 │  0.0944455   0.00169754   0.540428    0.0316907       2.0      0.0\n",
       "     8 │  0.485438    1.4489       0.0901489   0.202443        1.1      0.0\n",
       "   ⋮   │     ⋮            ⋮           ⋮            ⋮          ⋮        ⋮       ⋱\n",
       "  9994 │ 92.5956      0.515188     0.174252    0.00106495      1.1      0.0    ⋯\n",
       "  9995 │  0.434564    2.02272      0.268893    0.00203618      1.1      0.0\n",
       "  9996 │  0.0200032   0.0602324   16.1142     16.2085          1.1      0.0\n",
       "  9997 │  6.23388     0.00239091   1.2764     35.967           1.1      0.0\n",
       "  9998 │  3.44491     0.0501479    2.06706     0.108802        2.0      0.0    ⋯\n",
       "  9999 │  0.358607    0.0251252    0.274985    0.00525337      2.0      0.0\n",
       " 10000 │ 24.1694      0.00861932   0.335293    1.69783         1.1      0.0\n",
       "\u001b[36m                                                  1 column and 9985 rows omitted\u001b[0m"
      ]
     },
     "metadata": {},
     "output_type": "display_data"
    }
   ],
   "source": [
    "@btime(testClassifier(10000; outputdirectory = \"/Users/ezragreenberg/Julia/ExperimentalFullModelWork/BenchmarkCsv/\", filename = \"MidTolerance.csv\", reltol=1e-8, abstol=1e-8))"
   ]
  },
  {
   "cell_type": "markdown",
   "metadata": {},
   "source": [
    "Ok, so this was not much of a time reduction from 1e-8 and 1e-12. So unless we can reduce to 1e-6, probably not worth doing."
   ]
  },
  {
   "cell_type": "markdown",
   "metadata": {},
   "source": []
  }
 ],
 "metadata": {
  "kernelspec": {
   "display_name": "Julia 1.9.0",
   "language": "julia",
   "name": "julia-1.9"
  },
  "language_info": {
   "file_extension": ".jl",
   "mimetype": "application/julia",
   "name": "julia",
   "version": "1.9.0"
  },
  "orig_nbformat": 4
 },
 "nbformat": 4,
 "nbformat_minor": 2
}
