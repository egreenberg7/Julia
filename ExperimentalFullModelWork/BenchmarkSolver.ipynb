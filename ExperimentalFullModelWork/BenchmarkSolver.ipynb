{
 "cells": [
  {
   "cell_type": "markdown",
   "metadata": {},
   "source": [
    "This file has the results of testing the effects of tolerance on my adaptive solver in order to see how the algorithm can be sped up without negative effects."
   ]
  },
  {
   "cell_type": "code",
   "execution_count": 1,
   "metadata": {},
   "outputs": [
    {
     "data": {
      "text/plain": [
       "900"
      ]
     },
     "metadata": {},
     "output_type": "display_data"
    }
   ],
   "source": [
    "using BenchmarkTools\n",
    "using CSV\n",
    "using DataFrames\n",
    "using Random\n",
    "using Distributions\n",
    "using Plots\n",
    "include(\"EvaluationFunctions.jl\")\n",
    "include(\"Constants.jl\")"
   ]
  },
  {
   "cell_type": "code",
   "execution_count": 2,
   "metadata": {},
   "outputs": [
    {
     "name": "stderr",
     "output_type": "stream",
     "text": [
      "WARNING: both Symbolics and ModelingToolkit export \"infimum\"; uses of it in module Catalyst must be qualified\n",
      "WARNING: both Symbolics and ModelingToolkit export \"supremum\"; uses of it in module Catalyst must be qualified\n"
     ]
    }
   ],
   "source": [
    "psym = [:ka1 => 0.009433439939827041, :kb1 => 2.3550169939427845, :kcat1 => 832.7213093872278, :ka2 => 12.993995997539924, :kb2 => 6.150972501791291,\n",
    "        :ka3 => 1.3481451097940793, :kb3 => 0.006201726090609513, :ka4 => 0.006277294665474662, :kb4 => 0.9250191811994848, :ka7 => 57.36471615394549, \n",
    "        :kb7 => 0.04411989797898752, :kcat7 => 42.288085868394326, :y => 3631.050539219606]\n",
    "p = [x[2] for x in psym]\n",
    "    \n",
    "#initial condition list\n",
    "usym = [:L => 0, :K => 10^-0.2895987, :P => 0.820348, :A => 10^0.42483, :Lp => 0.0, :LpA => 0.0, :LK => 0.0, \n",
    "        :LpP => 0.0, :LpAK => 0.0, :LpAP => 0.0, :LpAKL => 0.0, :LpAPLp => 0.0, :AK => 0.0, :AP => 0.0, \n",
    "        :AKL => 0.0, :APLp => 0.0]\n",
    "u0 = [x[2] for x in usym];"
   ]
  },
  {
   "cell_type": "markdown",
   "metadata": {},
   "source": [
    "Below is some modified code from when I was testing the adaptive solver as a classifier. It is useful for iterating the adaptive solver over many  different initial concentrations and generating output that cna then be analyzed to ensure that the number of numerical errors is not increasing."
   ]
  },
  {
   "cell_type": "code",
   "execution_count": 3,
   "metadata": {},
   "outputs": [
    {
     "data": {
      "text/plain": [
       "testClassifier (generic function with 1 method)"
      ]
     },
     "metadata": {},
     "output_type": "display_data"
    }
   ],
   "source": [
    "function testClassifier(numIterations; saveCSV = true, outputdirectory = \"/Users/ezragreenberg/Julia/Someplots/\",filename=\"mytest1.csv\", abstol=1e-8, reltol=1e-12)\n",
    "    #df = DataFrame(u0=Vector{Float64}[], p=Vector{Float64}[], retcode=Float64[], per=Float64[], amp=Float64[])\n",
    "    #CSV of array gets read in as string, will have to generalize this later\n",
    "    df = DataFrame(L=Float64[],K=Float64[],P=Float64[],A=Float64[], retcode=Float64[], per=Float64[], amp=Float64[])\n",
    "    for i in 1:numIterations\n",
    "        u0[1] = rand(Random.seed!(i),Distributions.LogUniform(0.01, 100)) #Lp #1 for L, 2 for Lp\n",
    "        u0[2] = rand(Random.seed!(numIterations + i),Distributions.LogUniform(0.001, 100)) #K\n",
    "        u0[3] = rand(Random.seed!(2 * numIterations + i),Distributions.LogUniform(0.01, 100)) #P\n",
    "        u0[4] = rand(Random.seed!(3 * numIterations + i),Distributions.LogUniform(0.001, 100)) #A\n",
    "        retcode = adaptiveSolve(prob, u0, shortSpan, longSpan, p; abstol = abstol, reltol = reltol)\n",
    "        push!(df, Dict(:L=>u0[1],:K=>u0[2],:P=>u0[3],:A=>u0[4], :retcode => retcode[1], :per => retcode[2], :amp =>retcode[3]))\n",
    "    end\n",
    "    if saveCSV\n",
    "        CSV.write(outputdirectory*filename, df)\n",
    "    end\n",
    "    return df\n",
    "end"
   ]
  },
  {
   "cell_type": "markdown",
   "metadata": {},
   "source": [
    "I first will test it with the tolerances I have set so far: reltol of 1e-12 and abstol of 1e-8"
   ]
  },
  {
   "cell_type": "code",
   "execution_count": 4,
   "metadata": {},
   "outputs": [
    {
     "data": {
      "text/plain": [
       "BenchmarkTools.Trial: 1 sample with 1 evaluation.\n",
       " Single result which took \u001b[34m12.935 s\u001b[39m (0.46% GC) to evaluate,\n",
       " with a memory estimate of \u001b[33m1.27 GiB\u001b[39m, over \u001b[33m5247777\u001b[39m allocations."
      ]
     },
     "metadata": {},
     "output_type": "display_data"
    }
   ],
   "source": [
    "@benchmark testClassifier(10000; outputdirectory = \"/Users/ezragreenberg/Julia/ExperimentalFullModelWork/BenchmarkCsv/\", filename = \"DefaultTolerance.csv\")"
   ]
  },
  {
   "cell_type": "markdown",
   "metadata": {},
   "source": [
    "Below we look at the number of numerical errors by looking at the number of outputs with a return code of 1.5 (indicating mass conservation failed) or 1.0 (indicating some other numerical failure)."
   ]
  },
  {
   "cell_type": "code",
   "execution_count": 5,
   "metadata": {},
   "outputs": [
    {
     "data": {
      "text/html": [
       "<div><div style = \"float: left;\"><span>0×7 DataFrame</span></div><div style = \"clear: both;\"></div></div><div class = \"data-frame\" style = \"overflow-x: scroll;\"><table class = \"data-frame\" style = \"margin-bottom: 6px;\"><thead><tr class = \"header\"><th class = \"rowNumber\" style = \"font-weight: bold; text-align: right;\">Row</th><th style = \"text-align: left;\">L</th><th style = \"text-align: left;\">K</th><th style = \"text-align: left;\">P</th><th style = \"text-align: left;\">A</th><th style = \"text-align: left;\">retcode</th><th style = \"text-align: left;\">per</th><th style = \"text-align: left;\">amp</th></tr><tr class = \"subheader headerLastRow\"><th class = \"rowNumber\" style = \"font-weight: bold; text-align: right;\"></th><th title = \"Float64\" style = \"text-align: left;\">Float64</th><th title = \"Float64\" style = \"text-align: left;\">Float64</th><th title = \"Float64\" style = \"text-align: left;\">Float64</th><th title = \"Float64\" style = \"text-align: left;\">Float64</th><th title = \"Float64\" style = \"text-align: left;\">Float64</th><th title = \"Float64\" style = \"text-align: left;\">Float64</th><th title = \"Float64\" style = \"text-align: left;\">Float64</th></tr></thead><tbody></tbody></table></div>"
      ],
      "text/latex": [
       "\\begin{tabular}{r|ccccccc}\n",
       "\t& L & K & P & A & retcode & per & amp\\\\\n",
       "\t\\hline\n",
       "\t& Float64 & Float64 & Float64 & Float64 & Float64 & Float64 & Float64\\\\\n",
       "\t\\hline\n",
       "\\end{tabular}\n"
      ],
      "text/plain": [
       "\u001b[1m0×7 DataFrame\u001b[0m\n",
       "\u001b[1m Row \u001b[0m│\u001b[1m L       \u001b[0m\u001b[1m K       \u001b[0m\u001b[1m P       \u001b[0m\u001b[1m A       \u001b[0m\u001b[1m retcode \u001b[0m\u001b[1m per     \u001b[0m\u001b[1m amp     \u001b[0m\n",
       "     │\u001b[90m Float64 \u001b[0m\u001b[90m Float64 \u001b[0m\u001b[90m Float64 \u001b[0m\u001b[90m Float64 \u001b[0m\u001b[90m Float64 \u001b[0m\u001b[90m Float64 \u001b[0m\u001b[90m Float64 \u001b[0m\n",
       "─────┴───────────────────────────────────────────────────────────────"
      ]
     },
     "metadata": {},
     "output_type": "display_data"
    }
   ],
   "source": [
    "mydf1 = DataFrame(CSV.File(\"/Users/ezragreenberg/Julia/ExperimentalFullModelWork/BenchmarkCsv/DefaultTolerance.csv\"))\n",
    "mass_not_conserved1 = mydf1[mydf1.retcode.==1.5,:]"
   ]
  },
  {
   "cell_type": "code",
   "execution_count": 6,
   "metadata": {},
   "outputs": [
    {
     "data": {
      "text/html": [
       "<div><div style = \"float: left;\"><span>0×7 DataFrame</span></div><div style = \"clear: both;\"></div></div><div class = \"data-frame\" style = \"overflow-x: scroll;\"><table class = \"data-frame\" style = \"margin-bottom: 6px;\"><thead><tr class = \"header\"><th class = \"rowNumber\" style = \"font-weight: bold; text-align: right;\">Row</th><th style = \"text-align: left;\">L</th><th style = \"text-align: left;\">K</th><th style = \"text-align: left;\">P</th><th style = \"text-align: left;\">A</th><th style = \"text-align: left;\">retcode</th><th style = \"text-align: left;\">per</th><th style = \"text-align: left;\">amp</th></tr><tr class = \"subheader headerLastRow\"><th class = \"rowNumber\" style = \"font-weight: bold; text-align: right;\"></th><th title = \"Float64\" style = \"text-align: left;\">Float64</th><th title = \"Float64\" style = \"text-align: left;\">Float64</th><th title = \"Float64\" style = \"text-align: left;\">Float64</th><th title = \"Float64\" style = \"text-align: left;\">Float64</th><th title = \"Float64\" style = \"text-align: left;\">Float64</th><th title = \"Float64\" style = \"text-align: left;\">Float64</th><th title = \"Float64\" style = \"text-align: left;\">Float64</th></tr></thead><tbody></tbody></table></div>"
      ],
      "text/latex": [
       "\\begin{tabular}{r|ccccccc}\n",
       "\t& L & K & P & A & retcode & per & amp\\\\\n",
       "\t\\hline\n",
       "\t& Float64 & Float64 & Float64 & Float64 & Float64 & Float64 & Float64\\\\\n",
       "\t\\hline\n",
       "\\end{tabular}\n"
      ],
      "text/plain": [
       "\u001b[1m0×7 DataFrame\u001b[0m\n",
       "\u001b[1m Row \u001b[0m│\u001b[1m L       \u001b[0m\u001b[1m K       \u001b[0m\u001b[1m P       \u001b[0m\u001b[1m A       \u001b[0m\u001b[1m retcode \u001b[0m\u001b[1m per     \u001b[0m\u001b[1m amp     \u001b[0m\n",
       "     │\u001b[90m Float64 \u001b[0m\u001b[90m Float64 \u001b[0m\u001b[90m Float64 \u001b[0m\u001b[90m Float64 \u001b[0m\u001b[90m Float64 \u001b[0m\u001b[90m Float64 \u001b[0m\u001b[90m Float64 \u001b[0m\n",
       "─────┴───────────────────────────────────────────────────────────────"
      ]
     },
     "metadata": {},
     "output_type": "display_data"
    }
   ],
   "source": [
    "other_failures1 = mydf1[mydf1.retcode.==1.0,:]"
   ]
  },
  {
   "cell_type": "markdown",
   "metadata": {},
   "source": [
    "And below we look at some oscillatory solutions"
   ]
  },
  {
   "cell_type": "code",
   "execution_count": 7,
   "metadata": {},
   "outputs": [
    {
     "data": {
      "text/html": [
       "<div><div style = \"float: left;\"><span>50×7 DataFrame</span></div><div style = \"float: right;\"><span style = \"font-style: italic;\">25 rows omitted</span></div><div style = \"clear: both;\"></div></div><div class = \"data-frame\" style = \"overflow-x: scroll;\"><table class = \"data-frame\" style = \"margin-bottom: 6px;\"><thead><tr class = \"header\"><th class = \"rowNumber\" style = \"font-weight: bold; text-align: right;\">Row</th><th style = \"text-align: left;\">L</th><th style = \"text-align: left;\">K</th><th style = \"text-align: left;\">P</th><th style = \"text-align: left;\">A</th><th style = \"text-align: left;\">retcode</th><th style = \"text-align: left;\">per</th><th style = \"text-align: left;\">amp</th></tr><tr class = \"subheader headerLastRow\"><th class = \"rowNumber\" style = \"font-weight: bold; text-align: right;\"></th><th title = \"Float64\" style = \"text-align: left;\">Float64</th><th title = \"Float64\" style = \"text-align: left;\">Float64</th><th title = \"Float64\" style = \"text-align: left;\">Float64</th><th title = \"Float64\" style = \"text-align: left;\">Float64</th><th title = \"Float64\" style = \"text-align: left;\">Float64</th><th title = \"Float64\" style = \"text-align: left;\">Float64</th><th title = \"Float64\" style = \"text-align: left;\">Float64</th></tr></thead><tbody><tr><td class = \"rowNumber\" style = \"font-weight: bold; text-align: right;\">1</td><td style = \"text-align: right;\">13.8915</td><td style = \"text-align: right;\">0.588267</td><td style = \"text-align: right;\">4.96728</td><td style = \"text-align: right;\">2.0392</td><td style = \"text-align: right;\">-100.0</td><td style = \"text-align: right;\">2.9871</td><td style = \"text-align: right;\">0.387939</td></tr><tr><td class = \"rowNumber\" style = \"font-weight: bold; text-align: right;\">2</td><td style = \"text-align: right;\">8.60709</td><td style = \"text-align: right;\">3.13347</td><td style = \"text-align: right;\">1.35597</td><td style = \"text-align: right;\">72.6048</td><td style = \"text-align: right;\">-100.0</td><td style = \"text-align: right;\">1.906</td><td style = \"text-align: right;\">1.80404</td></tr><tr><td class = \"rowNumber\" style = \"font-weight: bold; text-align: right;\">3</td><td style = \"text-align: right;\">7.44909</td><td style = \"text-align: right;\">0.0471053</td><td style = \"text-align: right;\">0.17936</td><td style = \"text-align: right;\">1.06195</td><td style = \"text-align: right;\">-100.0</td><td style = \"text-align: right;\">4.58</td><td style = \"text-align: right;\">0.115861</td></tr><tr><td class = \"rowNumber\" style = \"font-weight: bold; text-align: right;\">4</td><td style = \"text-align: right;\">32.3703</td><td style = \"text-align: right;\">0.48104</td><td style = \"text-align: right;\">4.20911</td><td style = \"text-align: right;\">6.12865</td><td style = \"text-align: right;\">-100.0</td><td style = \"text-align: right;\">1.87451</td><td style = \"text-align: right;\">0.971606</td></tr><tr><td class = \"rowNumber\" style = \"font-weight: bold; text-align: right;\">5</td><td style = \"text-align: right;\">53.1952</td><td style = \"text-align: right;\">5.4238</td><td style = \"text-align: right;\">35.4178</td><td style = \"text-align: right;\">31.112</td><td style = \"text-align: right;\">-1.0</td><td style = \"text-align: right;\">1.43333</td><td style = \"text-align: right;\">12.1741</td></tr><tr><td class = \"rowNumber\" style = \"font-weight: bold; text-align: right;\">6</td><td style = \"text-align: right;\">22.7287</td><td style = \"text-align: right;\">2.30622</td><td style = \"text-align: right;\">13.678</td><td style = \"text-align: right;\">11.0956</td><td style = \"text-align: right;\">-1.0</td><td style = \"text-align: right;\">1.67805</td><td style = \"text-align: right;\">2.2754</td></tr><tr><td class = \"rowNumber\" style = \"font-weight: bold; text-align: right;\">7</td><td style = \"text-align: right;\">21.4898</td><td style = \"text-align: right;\">2.94398</td><td style = \"text-align: right;\">42.6278</td><td style = \"text-align: right;\">5.81731</td><td style = \"text-align: right;\">-100.0</td><td style = \"text-align: right;\">3.05161</td><td style = \"text-align: right;\">0.412924</td></tr><tr><td class = \"rowNumber\" style = \"font-weight: bold; text-align: right;\">8</td><td style = \"text-align: right;\">25.9791</td><td style = \"text-align: right;\">2.08729</td><td style = \"text-align: right;\">24.8918</td><td style = \"text-align: right;\">8.50543</td><td style = \"text-align: right;\">-100.0</td><td style = \"text-align: right;\">1.97917</td><td style = \"text-align: right;\">0.878368</td></tr><tr><td class = \"rowNumber\" style = \"font-weight: bold; text-align: right;\">9</td><td style = \"text-align: right;\">4.42054</td><td style = \"text-align: right;\">2.44321</td><td style = \"text-align: right;\">0.877612</td><td style = \"text-align: right;\">26.4603</td><td style = \"text-align: right;\">-100.0</td><td style = \"text-align: right;\">1.89216</td><td style = \"text-align: right;\">0.942524</td></tr><tr><td class = \"rowNumber\" style = \"font-weight: bold; text-align: right;\">10</td><td style = \"text-align: right;\">2.98015</td><td style = \"text-align: right;\">1.65648</td><td style = \"text-align: right;\">1.16099</td><td style = \"text-align: right;\">12.7925</td><td style = \"text-align: right;\">-100.0</td><td style = \"text-align: right;\">1.96531</td><td style = \"text-align: right;\">0.22119</td></tr><tr><td class = \"rowNumber\" style = \"font-weight: bold; text-align: right;\">11</td><td style = \"text-align: right;\">5.76828</td><td style = \"text-align: right;\">2.52703</td><td style = \"text-align: right;\">5.6136</td><td style = \"text-align: right;\">7.23367</td><td style = \"text-align: right;\">-100.0</td><td style = \"text-align: right;\">1.80189</td><td style = \"text-align: right;\">0.485083</td></tr><tr><td class = \"rowNumber\" style = \"font-weight: bold; text-align: right;\">12</td><td style = \"text-align: right;\">7.10207</td><td style = \"text-align: right;\">8.02426</td><td style = \"text-align: right;\">1.97087</td><td style = \"text-align: right;\">45.5328</td><td style = \"text-align: right;\">-1.0</td><td style = \"text-align: right;\">1.48857</td><td style = \"text-align: right;\">2.01424</td></tr><tr><td class = \"rowNumber\" style = \"font-weight: bold; text-align: right;\">13</td><td style = \"text-align: right;\">18.3238</td><td style = \"text-align: right;\">24.4809</td><td style = \"text-align: right;\">76.4742</td><td style = \"text-align: right;\">42.0286</td><td style = \"text-align: right;\">-1.0</td><td style = \"text-align: right;\">1.19286</td><td style = \"text-align: right;\">2.98589</td></tr><tr><td style = \"text-align: right;\">&vellip;</td><td style = \"text-align: right;\">&vellip;</td><td style = \"text-align: right;\">&vellip;</td><td style = \"text-align: right;\">&vellip;</td><td style = \"text-align: right;\">&vellip;</td><td style = \"text-align: right;\">&vellip;</td><td style = \"text-align: right;\">&vellip;</td><td style = \"text-align: right;\">&vellip;</td></tr><tr><td class = \"rowNumber\" style = \"font-weight: bold; text-align: right;\">39</td><td style = \"text-align: right;\">7.89685</td><td style = \"text-align: right;\">0.139638</td><td style = \"text-align: right;\">0.655577</td><td style = \"text-align: right;\">0.57365</td><td style = \"text-align: right;\">-100.0</td><td style = \"text-align: right;\">4.14545</td><td style = \"text-align: right;\">0.271992</td></tr><tr><td class = \"rowNumber\" style = \"font-weight: bold; text-align: right;\">40</td><td style = \"text-align: right;\">12.366</td><td style = \"text-align: right;\">6.77872</td><td style = \"text-align: right;\">6.69069</td><td style = \"text-align: right;\">46.8701</td><td style = \"text-align: right;\">-1.0</td><td style = \"text-align: right;\">1.13056</td><td style = \"text-align: right;\">2.6342</td></tr><tr><td class = \"rowNumber\" style = \"font-weight: bold; text-align: right;\">41</td><td style = \"text-align: right;\">45.4814</td><td style = \"text-align: right;\">0.0998593</td><td style = \"text-align: right;\">1.13158</td><td style = \"text-align: right;\">2.27035</td><td style = \"text-align: right;\">-100.0</td><td style = \"text-align: right;\">2.63889</td><td style = \"text-align: right;\">0.768686</td></tr><tr><td class = \"rowNumber\" style = \"font-weight: bold; text-align: right;\">42</td><td style = \"text-align: right;\">31.2089</td><td style = \"text-align: right;\">0.322491</td><td style = \"text-align: right;\">0.902447</td><td style = \"text-align: right;\">41.3914</td><td style = \"text-align: right;\">-100.0</td><td style = \"text-align: right;\">2.49474</td><td style = \"text-align: right;\">1.19348</td></tr><tr><td class = \"rowNumber\" style = \"font-weight: bold; text-align: right;\">43</td><td style = \"text-align: right;\">1.46119</td><td style = \"text-align: right;\">0.509402</td><td style = \"text-align: right;\">0.239654</td><td style = \"text-align: right;\">2.03407</td><td style = \"text-align: right;\">-100.0</td><td style = \"text-align: right;\">3.35</td><td style = \"text-align: right;\">0.217137</td></tr><tr><td class = \"rowNumber\" style = \"font-weight: bold; text-align: right;\">44</td><td style = \"text-align: right;\">25.2082</td><td style = \"text-align: right;\">3.56719</td><td style = \"text-align: right;\">17.8872</td><td style = \"text-align: right;\">24.3005</td><td style = \"text-align: right;\">-1.0</td><td style = \"text-align: right;\">1.304</td><td style = \"text-align: right;\">1.99323</td></tr><tr><td class = \"rowNumber\" style = \"font-weight: bold; text-align: right;\">45</td><td style = \"text-align: right;\">11.842</td><td style = \"text-align: right;\">0.573167</td><td style = \"text-align: right;\">0.371642</td><td style = \"text-align: right;\">53.1522</td><td style = \"text-align: right;\">-100.0</td><td style = \"text-align: right;\">4.39048</td><td style = \"text-align: right;\">1.55847</td></tr><tr><td class = \"rowNumber\" style = \"font-weight: bold; text-align: right;\">46</td><td style = \"text-align: right;\">11.9444</td><td style = \"text-align: right;\">1.14604</td><td style = \"text-align: right;\">5.72431</td><td style = \"text-align: right;\">2.99115</td><td style = \"text-align: right;\">-100.0</td><td style = \"text-align: right;\">2.74</td><td style = \"text-align: right;\">1.41149</td></tr><tr><td class = \"rowNumber\" style = \"font-weight: bold; text-align: right;\">47</td><td style = \"text-align: right;\">21.6913</td><td style = \"text-align: right;\">0.0653768</td><td style = \"text-align: right;\">0.169286</td><td style = \"text-align: right;\">11.8262</td><td style = \"text-align: right;\">-100.0</td><td style = \"text-align: right;\">5.18824</td><td style = \"text-align: right;\">0.723723</td></tr><tr><td class = \"rowNumber\" style = \"font-weight: bold; text-align: right;\">48</td><td style = \"text-align: right;\">75.0721</td><td style = \"text-align: right;\">3.70468</td><td style = \"text-align: right;\">32.294</td><td style = \"text-align: right;\">81.6538</td><td style = \"text-align: right;\">-1.0</td><td style = \"text-align: right;\">1.475</td><td style = \"text-align: right;\">2.8483</td></tr><tr><td class = \"rowNumber\" style = \"font-weight: bold; text-align: right;\">49</td><td style = \"text-align: right;\">51.1368</td><td style = \"text-align: right;\">2.73588</td><td style = \"text-align: right;\">18.7717</td><td style = \"text-align: right;\">23.5222</td><td style = \"text-align: right;\">-1.0</td><td style = \"text-align: right;\">1.48148</td><td style = \"text-align: right;\">6.92444</td></tr><tr><td class = \"rowNumber\" style = \"font-weight: bold; text-align: right;\">50</td><td style = \"text-align: right;\">7.14355</td><td style = \"text-align: right;\">0.94775</td><td style = \"text-align: right;\">1.66769</td><td style = \"text-align: right;\">2.67955</td><td style = \"text-align: right;\">-1.0</td><td style = \"text-align: right;\">2.64074</td><td style = \"text-align: right;\">1.84001</td></tr></tbody></table></div>"
      ],
      "text/latex": [
       "\\begin{tabular}{r|ccccccc}\n",
       "\t& L & K & P & A & retcode & per & amp\\\\\n",
       "\t\\hline\n",
       "\t& Float64 & Float64 & Float64 & Float64 & Float64 & Float64 & Float64\\\\\n",
       "\t\\hline\n",
       "\t1 & 13.8915 & 0.588267 & 4.96728 & 2.0392 & -100.0 & 2.9871 & 0.387939 \\\\\n",
       "\t2 & 8.60709 & 3.13347 & 1.35597 & 72.6048 & -100.0 & 1.906 & 1.80404 \\\\\n",
       "\t3 & 7.44909 & 0.0471053 & 0.17936 & 1.06195 & -100.0 & 4.58 & 0.115861 \\\\\n",
       "\t4 & 32.3703 & 0.48104 & 4.20911 & 6.12865 & -100.0 & 1.87451 & 0.971606 \\\\\n",
       "\t5 & 53.1952 & 5.4238 & 35.4178 & 31.112 & -1.0 & 1.43333 & 12.1741 \\\\\n",
       "\t6 & 22.7287 & 2.30622 & 13.678 & 11.0956 & -1.0 & 1.67805 & 2.2754 \\\\\n",
       "\t7 & 21.4898 & 2.94398 & 42.6278 & 5.81731 & -100.0 & 3.05161 & 0.412924 \\\\\n",
       "\t8 & 25.9791 & 2.08729 & 24.8918 & 8.50543 & -100.0 & 1.97917 & 0.878368 \\\\\n",
       "\t9 & 4.42054 & 2.44321 & 0.877612 & 26.4603 & -100.0 & 1.89216 & 0.942524 \\\\\n",
       "\t10 & 2.98015 & 1.65648 & 1.16099 & 12.7925 & -100.0 & 1.96531 & 0.22119 \\\\\n",
       "\t11 & 5.76828 & 2.52703 & 5.6136 & 7.23367 & -100.0 & 1.80189 & 0.485083 \\\\\n",
       "\t12 & 7.10207 & 8.02426 & 1.97087 & 45.5328 & -1.0 & 1.48857 & 2.01424 \\\\\n",
       "\t13 & 18.3238 & 24.4809 & 76.4742 & 42.0286 & -1.0 & 1.19286 & 2.98589 \\\\\n",
       "\t14 & 21.5895 & 6.60395 & 19.6291 & 31.1909 & -1.0 & 1.18788 & 3.73449 \\\\\n",
       "\t15 & 17.0174 & 4.69484 & 3.36563 & 58.8892 & -1.0 & 1.472 & 5.73024 \\\\\n",
       "\t16 & 1.87188 & 0.552923 & 0.152272 & 5.14144 & -100.0 & 3.676 & 0.381517 \\\\\n",
       "\t17 & 9.61006 & 0.238314 & 0.895823 & 4.05627 & -100.0 & 2.45128 & 0.192517 \\\\\n",
       "\t18 & 2.46838 & 0.161181 & 0.199727 & 0.653989 & -100.0 & 4.565 & 0.200541 \\\\\n",
       "\t19 & 1.72891 & 1.67226 & 0.332622 & 10.2971 & -100.0 & 2.61389 & 0.339533 \\\\\n",
       "\t20 & 3.97352 & 3.7307 & 1.0145 & 37.5433 & -100.0 & 1.81321 & 0.707073 \\\\\n",
       "\t21 & 47.2608 & 0.276529 & 2.27048 & 12.7163 & -100.0 & 1.72321 & 0.835192 \\\\\n",
       "\t22 & 1.15031 & 2.17025 & 0.530025 & 4.86162 & -100.0 & 2.50789 & 0.265512 \\\\\n",
       "\t23 & 27.8875 & 37.4641 & 38.813 & 88.7229 & -1.0 & 22.825 & 4.51303 \\\\\n",
       "\t24 & 34.9063 & 0.878917 & 4.85665 & 12.3883 & -1.0 & 1.67632 & 2.39437 \\\\\n",
       "\t$\\dots$ & $\\dots$ & $\\dots$ & $\\dots$ & $\\dots$ & $\\dots$ & $\\dots$ & $\\dots$ \\\\\n",
       "\\end{tabular}\n"
      ],
      "text/plain": [
       "\u001b[1m50×7 DataFrame\u001b[0m\n",
       "\u001b[1m Row \u001b[0m│\u001b[1m L        \u001b[0m\u001b[1m K         \u001b[0m\u001b[1m P         \u001b[0m\u001b[1m A        \u001b[0m\u001b[1m retcode \u001b[0m\u001b[1m per     \u001b[0m\u001b[1m amp       \u001b[0m\n",
       "     │\u001b[90m Float64  \u001b[0m\u001b[90m Float64   \u001b[0m\u001b[90m Float64   \u001b[0m\u001b[90m Float64  \u001b[0m\u001b[90m Float64 \u001b[0m\u001b[90m Float64 \u001b[0m\u001b[90m Float64   \u001b[0m\n",
       "─────┼───────────────────────────────────────────────────────────────────────\n",
       "   1 │ 13.8915   0.588267    4.96728    2.0392    -100.0  2.9871    0.387939\n",
       "   2 │  8.60709  3.13347     1.35597   72.6048    -100.0  1.906     1.80404\n",
       "   3 │  7.44909  0.0471053   0.17936    1.06195   -100.0  4.58      0.115861\n",
       "   4 │ 32.3703   0.48104     4.20911    6.12865   -100.0  1.87451   0.971606\n",
       "   5 │ 53.1952   5.4238     35.4178    31.112       -1.0  1.43333  12.1741\n",
       "   6 │ 22.7287   2.30622    13.678     11.0956      -1.0  1.67805   2.2754\n",
       "   7 │ 21.4898   2.94398    42.6278     5.81731   -100.0  3.05161   0.412924\n",
       "   8 │ 25.9791   2.08729    24.8918     8.50543   -100.0  1.97917   0.878368\n",
       "  ⋮  │    ⋮          ⋮          ⋮         ⋮         ⋮        ⋮         ⋮\n",
       "  44 │ 25.2082   3.56719    17.8872    24.3005      -1.0  1.304     1.99323\n",
       "  45 │ 11.842    0.573167    0.371642  53.1522    -100.0  4.39048   1.55847\n",
       "  46 │ 11.9444   1.14604     5.72431    2.99115   -100.0  2.74      1.41149\n",
       "  47 │ 21.6913   0.0653768   0.169286  11.8262    -100.0  5.18824   0.723723\n",
       "  48 │ 75.0721   3.70468    32.294     81.6538      -1.0  1.475     2.8483\n",
       "  49 │ 51.1368   2.73588    18.7717    23.5222      -1.0  1.48148   6.92444\n",
       "  50 │  7.14355  0.94775     1.66769    2.67955     -1.0  2.64074   1.84001\n",
       "\u001b[36m                                                              35 rows omitted\u001b[0m"
      ]
     },
     "metadata": {},
     "output_type": "display_data"
    }
   ],
   "source": [
    "osc_df1  = mydf1[mydf1.retcode.<1.0,:]"
   ]
  },
  {
   "cell_type": "code",
   "execution_count": 8,
   "metadata": {},
   "outputs": [
    {
     "data": {
      "text/plain": [
       "PlotSolutions (generic function with 2 methods)"
      ]
     },
     "metadata": {},
     "output_type": "display_data"
    }
   ],
   "source": [
    "function entryToSol(df, row)\n",
    "    currow = df[row,:]\n",
    "    u0[1] = currow[:L]\n",
    "    u0[2] = currow[:K]\n",
    "    u0[3] = currow[:P]\n",
    "    u0[4] = currow[:A]\n",
    "    return solve(remake(prob, u0=u0, tspan=(0,longSpan), p=p), RadauIIA5(), abstol=1e-8, reltol=1e-12, saveat=0.1, save_idxs=1, maxiters=10000, verbose=false)\n",
    "end\n",
    "\n",
    "function PlotSolutions(osc_df, numsols = size(osc_df)[1])\n",
    "    for i in 1:numsols\n",
    "        cursol = entryToSol(osc_df, i)\n",
    "        plot(cursol, title=\"L vs t\")\n",
    "        savefig(\"/Users/ezragreenberg/Julia/ExperimentalFullModelWork/BenchmarkCsv/Someplots/$i.png\")\n",
    "    end\n",
    "end"
   ]
  },
  {
   "cell_type": "code",
   "execution_count": 9,
   "metadata": {},
   "outputs": [],
   "source": [
    "PlotSolutions(osc_df1)"
   ]
  },
  {
   "cell_type": "markdown",
   "metadata": {},
   "source": [
    "All 50 solutions that are pulled out are oscillatory. We had no numerical errors (other than reaching max iterations). Let's now try with the default tolerance of Julia, 1e-8 for reltol and 1e-6 for abstol"
   ]
  },
  {
   "cell_type": "code",
   "execution_count": 10,
   "metadata": {},
   "outputs": [
    {
     "data": {
      "text/plain": [
       "BenchmarkTools.Trial: 1 sample with 1 evaluation.\n",
       " Single result which took \u001b[34m8.627 s\u001b[39m (0.74% GC) to evaluate,\n",
       " with a memory estimate of \u001b[33m1.06 GiB\u001b[39m, over \u001b[33m4112921\u001b[39m allocations."
      ]
     },
     "metadata": {},
     "output_type": "display_data"
    }
   ],
   "source": [
    "@benchmark(testClassifier(10000; outputdirectory = \"/Users/ezragreenberg/Julia/ExperimentalFullModelWork/BenchmarkCsv/\", filename = \"LowerTolerance.csv\", reltol=1e-6, abstol=1e-8))"
   ]
  },
  {
   "cell_type": "code",
   "execution_count": 11,
   "metadata": {},
   "outputs": [
    {
     "data": {
      "text/html": [
       "<div><div style = \"float: left;\"><span>0×7 DataFrame</span></div><div style = \"clear: both;\"></div></div><div class = \"data-frame\" style = \"overflow-x: scroll;\"><table class = \"data-frame\" style = \"margin-bottom: 6px;\"><thead><tr class = \"header\"><th class = \"rowNumber\" style = \"font-weight: bold; text-align: right;\">Row</th><th style = \"text-align: left;\">L</th><th style = \"text-align: left;\">K</th><th style = \"text-align: left;\">P</th><th style = \"text-align: left;\">A</th><th style = \"text-align: left;\">retcode</th><th style = \"text-align: left;\">per</th><th style = \"text-align: left;\">amp</th></tr><tr class = \"subheader headerLastRow\"><th class = \"rowNumber\" style = \"font-weight: bold; text-align: right;\"></th><th title = \"Float64\" style = \"text-align: left;\">Float64</th><th title = \"Float64\" style = \"text-align: left;\">Float64</th><th title = \"Float64\" style = \"text-align: left;\">Float64</th><th title = \"Float64\" style = \"text-align: left;\">Float64</th><th title = \"Float64\" style = \"text-align: left;\">Float64</th><th title = \"Float64\" style = \"text-align: left;\">Float64</th><th title = \"Float64\" style = \"text-align: left;\">Float64</th></tr></thead><tbody></tbody></table></div>"
      ],
      "text/latex": [
       "\\begin{tabular}{r|ccccccc}\n",
       "\t& L & K & P & A & retcode & per & amp\\\\\n",
       "\t\\hline\n",
       "\t& Float64 & Float64 & Float64 & Float64 & Float64 & Float64 & Float64\\\\\n",
       "\t\\hline\n",
       "\\end{tabular}\n"
      ],
      "text/plain": [
       "\u001b[1m0×7 DataFrame\u001b[0m\n",
       "\u001b[1m Row \u001b[0m│\u001b[1m L       \u001b[0m\u001b[1m K       \u001b[0m\u001b[1m P       \u001b[0m\u001b[1m A       \u001b[0m\u001b[1m retcode \u001b[0m\u001b[1m per     \u001b[0m\u001b[1m amp     \u001b[0m\n",
       "     │\u001b[90m Float64 \u001b[0m\u001b[90m Float64 \u001b[0m\u001b[90m Float64 \u001b[0m\u001b[90m Float64 \u001b[0m\u001b[90m Float64 \u001b[0m\u001b[90m Float64 \u001b[0m\u001b[90m Float64 \u001b[0m\n",
       "─────┴───────────────────────────────────────────────────────────────"
      ]
     },
     "metadata": {},
     "output_type": "display_data"
    }
   ],
   "source": [
    "mydf2 = DataFrame(CSV.File(\"/Users/ezragreenberg/Julia/ExperimentalFullModelWork/BenchmarkCsv/LowerTolerance.csv\"))\n",
    "mass_not_conserved2 = mydf1[mydf1.retcode.==1.5,:]"
   ]
  },
  {
   "cell_type": "code",
   "execution_count": 12,
   "metadata": {},
   "outputs": [
    {
     "data": {
      "text/html": [
       "<div><div style = \"float: left;\"><span>0×7 DataFrame</span></div><div style = \"clear: both;\"></div></div><div class = \"data-frame\" style = \"overflow-x: scroll;\"><table class = \"data-frame\" style = \"margin-bottom: 6px;\"><thead><tr class = \"header\"><th class = \"rowNumber\" style = \"font-weight: bold; text-align: right;\">Row</th><th style = \"text-align: left;\">L</th><th style = \"text-align: left;\">K</th><th style = \"text-align: left;\">P</th><th style = \"text-align: left;\">A</th><th style = \"text-align: left;\">retcode</th><th style = \"text-align: left;\">per</th><th style = \"text-align: left;\">amp</th></tr><tr class = \"subheader headerLastRow\"><th class = \"rowNumber\" style = \"font-weight: bold; text-align: right;\"></th><th title = \"Float64\" style = \"text-align: left;\">Float64</th><th title = \"Float64\" style = \"text-align: left;\">Float64</th><th title = \"Float64\" style = \"text-align: left;\">Float64</th><th title = \"Float64\" style = \"text-align: left;\">Float64</th><th title = \"Float64\" style = \"text-align: left;\">Float64</th><th title = \"Float64\" style = \"text-align: left;\">Float64</th><th title = \"Float64\" style = \"text-align: left;\">Float64</th></tr></thead><tbody></tbody></table></div>"
      ],
      "text/latex": [
       "\\begin{tabular}{r|ccccccc}\n",
       "\t& L & K & P & A & retcode & per & amp\\\\\n",
       "\t\\hline\n",
       "\t& Float64 & Float64 & Float64 & Float64 & Float64 & Float64 & Float64\\\\\n",
       "\t\\hline\n",
       "\\end{tabular}\n"
      ],
      "text/plain": [
       "\u001b[1m0×7 DataFrame\u001b[0m\n",
       "\u001b[1m Row \u001b[0m│\u001b[1m L       \u001b[0m\u001b[1m K       \u001b[0m\u001b[1m P       \u001b[0m\u001b[1m A       \u001b[0m\u001b[1m retcode \u001b[0m\u001b[1m per     \u001b[0m\u001b[1m amp     \u001b[0m\n",
       "     │\u001b[90m Float64 \u001b[0m\u001b[90m Float64 \u001b[0m\u001b[90m Float64 \u001b[0m\u001b[90m Float64 \u001b[0m\u001b[90m Float64 \u001b[0m\u001b[90m Float64 \u001b[0m\u001b[90m Float64 \u001b[0m\n",
       "─────┴───────────────────────────────────────────────────────────────"
      ]
     },
     "metadata": {},
     "output_type": "display_data"
    }
   ],
   "source": [
    "other_failures2 = mydf1[mydf1.retcode.==1.0,:]"
   ]
  },
  {
   "cell_type": "code",
   "execution_count": 13,
   "metadata": {},
   "outputs": [
    {
     "data": {
      "text/html": [
       "<div><div style = \"float: left;\"><span>50×7 DataFrame</span></div><div style = \"float: right;\"><span style = \"font-style: italic;\">25 rows omitted</span></div><div style = \"clear: both;\"></div></div><div class = \"data-frame\" style = \"overflow-x: scroll;\"><table class = \"data-frame\" style = \"margin-bottom: 6px;\"><thead><tr class = \"header\"><th class = \"rowNumber\" style = \"font-weight: bold; text-align: right;\">Row</th><th style = \"text-align: left;\">L</th><th style = \"text-align: left;\">K</th><th style = \"text-align: left;\">P</th><th style = \"text-align: left;\">A</th><th style = \"text-align: left;\">retcode</th><th style = \"text-align: left;\">per</th><th style = \"text-align: left;\">amp</th></tr><tr class = \"subheader headerLastRow\"><th class = \"rowNumber\" style = \"font-weight: bold; text-align: right;\"></th><th title = \"Float64\" style = \"text-align: left;\">Float64</th><th title = \"Float64\" style = \"text-align: left;\">Float64</th><th title = \"Float64\" style = \"text-align: left;\">Float64</th><th title = \"Float64\" style = \"text-align: left;\">Float64</th><th title = \"Float64\" style = \"text-align: left;\">Float64</th><th title = \"Float64\" style = \"text-align: left;\">Float64</th><th title = \"Float64\" style = \"text-align: left;\">Float64</th></tr></thead><tbody><tr><td class = \"rowNumber\" style = \"font-weight: bold; text-align: right;\">1</td><td style = \"text-align: right;\">13.8915</td><td style = \"text-align: right;\">0.588267</td><td style = \"text-align: right;\">4.96728</td><td style = \"text-align: right;\">2.0392</td><td style = \"text-align: right;\">-100.0</td><td style = \"text-align: right;\">2.9871</td><td style = \"text-align: right;\">0.387939</td></tr><tr><td class = \"rowNumber\" style = \"font-weight: bold; text-align: right;\">2</td><td style = \"text-align: right;\">8.60709</td><td style = \"text-align: right;\">3.13347</td><td style = \"text-align: right;\">1.35597</td><td style = \"text-align: right;\">72.6048</td><td style = \"text-align: right;\">-100.0</td><td style = \"text-align: right;\">1.906</td><td style = \"text-align: right;\">1.80404</td></tr><tr><td class = \"rowNumber\" style = \"font-weight: bold; text-align: right;\">3</td><td style = \"text-align: right;\">7.44909</td><td style = \"text-align: right;\">0.0471053</td><td style = \"text-align: right;\">0.17936</td><td style = \"text-align: right;\">1.06195</td><td style = \"text-align: right;\">-100.0</td><td style = \"text-align: right;\">4.58</td><td style = \"text-align: right;\">0.115861</td></tr><tr><td class = \"rowNumber\" style = \"font-weight: bold; text-align: right;\">4</td><td style = \"text-align: right;\">32.3703</td><td style = \"text-align: right;\">0.48104</td><td style = \"text-align: right;\">4.20911</td><td style = \"text-align: right;\">6.12865</td><td style = \"text-align: right;\">-100.0</td><td style = \"text-align: right;\">1.87451</td><td style = \"text-align: right;\">0.971606</td></tr><tr><td class = \"rowNumber\" style = \"font-weight: bold; text-align: right;\">5</td><td style = \"text-align: right;\">53.1952</td><td style = \"text-align: right;\">5.4238</td><td style = \"text-align: right;\">35.4178</td><td style = \"text-align: right;\">31.112</td><td style = \"text-align: right;\">-1.0</td><td style = \"text-align: right;\">1.43019</td><td style = \"text-align: right;\">12.0376</td></tr><tr><td class = \"rowNumber\" style = \"font-weight: bold; text-align: right;\">6</td><td style = \"text-align: right;\">22.7287</td><td style = \"text-align: right;\">2.30622</td><td style = \"text-align: right;\">13.678</td><td style = \"text-align: right;\">11.0956</td><td style = \"text-align: right;\">-100.0</td><td style = \"text-align: right;\">1.67719</td><td style = \"text-align: right;\">2.26789</td></tr><tr><td class = \"rowNumber\" style = \"font-weight: bold; text-align: right;\">7</td><td style = \"text-align: right;\">21.4898</td><td style = \"text-align: right;\">2.94398</td><td style = \"text-align: right;\">42.6278</td><td style = \"text-align: right;\">5.81731</td><td style = \"text-align: right;\">-100.0</td><td style = \"text-align: right;\">3.05161</td><td style = \"text-align: right;\">0.412925</td></tr><tr><td class = \"rowNumber\" style = \"font-weight: bold; text-align: right;\">8</td><td style = \"text-align: right;\">25.9791</td><td style = \"text-align: right;\">2.08729</td><td style = \"text-align: right;\">24.8918</td><td style = \"text-align: right;\">8.50543</td><td style = \"text-align: right;\">-100.0</td><td style = \"text-align: right;\">1.97917</td><td style = \"text-align: right;\">0.878367</td></tr><tr><td class = \"rowNumber\" style = \"font-weight: bold; text-align: right;\">9</td><td style = \"text-align: right;\">4.42054</td><td style = \"text-align: right;\">2.44321</td><td style = \"text-align: right;\">0.877612</td><td style = \"text-align: right;\">26.4603</td><td style = \"text-align: right;\">-100.0</td><td style = \"text-align: right;\">1.89216</td><td style = \"text-align: right;\">0.942524</td></tr><tr><td class = \"rowNumber\" style = \"font-weight: bold; text-align: right;\">10</td><td style = \"text-align: right;\">2.98015</td><td style = \"text-align: right;\">1.65648</td><td style = \"text-align: right;\">1.16099</td><td style = \"text-align: right;\">12.7925</td><td style = \"text-align: right;\">-100.0</td><td style = \"text-align: right;\">1.96531</td><td style = \"text-align: right;\">0.22119</td></tr><tr><td class = \"rowNumber\" style = \"font-weight: bold; text-align: right;\">11</td><td style = \"text-align: right;\">5.76828</td><td style = \"text-align: right;\">2.52703</td><td style = \"text-align: right;\">5.6136</td><td style = \"text-align: right;\">7.23367</td><td style = \"text-align: right;\">-100.0</td><td style = \"text-align: right;\">1.80189</td><td style = \"text-align: right;\">0.485083</td></tr><tr><td class = \"rowNumber\" style = \"font-weight: bold; text-align: right;\">12</td><td style = \"text-align: right;\">7.10207</td><td style = \"text-align: right;\">8.02426</td><td style = \"text-align: right;\">1.97087</td><td style = \"text-align: right;\">45.5328</td><td style = \"text-align: right;\">-100.0</td><td style = \"text-align: right;\">1.48923</td><td style = \"text-align: right;\">2.01439</td></tr><tr><td class = \"rowNumber\" style = \"font-weight: bold; text-align: right;\">13</td><td style = \"text-align: right;\">18.3238</td><td style = \"text-align: right;\">24.4809</td><td style = \"text-align: right;\">76.4742</td><td style = \"text-align: right;\">42.0286</td><td style = \"text-align: right;\">-100.0</td><td style = \"text-align: right;\">1.19383</td><td style = \"text-align: right;\">2.94377</td></tr><tr><td style = \"text-align: right;\">&vellip;</td><td style = \"text-align: right;\">&vellip;</td><td style = \"text-align: right;\">&vellip;</td><td style = \"text-align: right;\">&vellip;</td><td style = \"text-align: right;\">&vellip;</td><td style = \"text-align: right;\">&vellip;</td><td style = \"text-align: right;\">&vellip;</td><td style = \"text-align: right;\">&vellip;</td></tr><tr><td class = \"rowNumber\" style = \"font-weight: bold; text-align: right;\">39</td><td style = \"text-align: right;\">7.89685</td><td style = \"text-align: right;\">0.139638</td><td style = \"text-align: right;\">0.655577</td><td style = \"text-align: right;\">0.57365</td><td style = \"text-align: right;\">-100.0</td><td style = \"text-align: right;\">4.14545</td><td style = \"text-align: right;\">0.271992</td></tr><tr><td class = \"rowNumber\" style = \"font-weight: bold; text-align: right;\">40</td><td style = \"text-align: right;\">12.366</td><td style = \"text-align: right;\">6.77872</td><td style = \"text-align: right;\">6.69069</td><td style = \"text-align: right;\">46.8701</td><td style = \"text-align: right;\">-1.0</td><td style = \"text-align: right;\">1.13056</td><td style = \"text-align: right;\">2.62411</td></tr><tr><td class = \"rowNumber\" style = \"font-weight: bold; text-align: right;\">41</td><td style = \"text-align: right;\">45.4814</td><td style = \"text-align: right;\">0.0998593</td><td style = \"text-align: right;\">1.13158</td><td style = \"text-align: right;\">2.27035</td><td style = \"text-align: right;\">-100.0</td><td style = \"text-align: right;\">2.63889</td><td style = \"text-align: right;\">0.768686</td></tr><tr><td class = \"rowNumber\" style = \"font-weight: bold; text-align: right;\">42</td><td style = \"text-align: right;\">31.2089</td><td style = \"text-align: right;\">0.322491</td><td style = \"text-align: right;\">0.902447</td><td style = \"text-align: right;\">41.3914</td><td style = \"text-align: right;\">-100.0</td><td style = \"text-align: right;\">2.49474</td><td style = \"text-align: right;\">1.19348</td></tr><tr><td class = \"rowNumber\" style = \"font-weight: bold; text-align: right;\">43</td><td style = \"text-align: right;\">1.46119</td><td style = \"text-align: right;\">0.509402</td><td style = \"text-align: right;\">0.239654</td><td style = \"text-align: right;\">2.03407</td><td style = \"text-align: right;\">-100.0</td><td style = \"text-align: right;\">3.35</td><td style = \"text-align: right;\">0.217137</td></tr><tr><td class = \"rowNumber\" style = \"font-weight: bold; text-align: right;\">44</td><td style = \"text-align: right;\">25.2082</td><td style = \"text-align: right;\">3.56719</td><td style = \"text-align: right;\">17.8872</td><td style = \"text-align: right;\">24.3005</td><td style = \"text-align: right;\">-100.0</td><td style = \"text-align: right;\">1.30541</td><td style = \"text-align: right;\">1.98022</td></tr><tr><td class = \"rowNumber\" style = \"font-weight: bold; text-align: right;\">45</td><td style = \"text-align: right;\">11.842</td><td style = \"text-align: right;\">0.573167</td><td style = \"text-align: right;\">0.371642</td><td style = \"text-align: right;\">53.1522</td><td style = \"text-align: right;\">-100.0</td><td style = \"text-align: right;\">4.39048</td><td style = \"text-align: right;\">1.55847</td></tr><tr><td class = \"rowNumber\" style = \"font-weight: bold; text-align: right;\">46</td><td style = \"text-align: right;\">11.9444</td><td style = \"text-align: right;\">1.14604</td><td style = \"text-align: right;\">5.72431</td><td style = \"text-align: right;\">2.99115</td><td style = \"text-align: right;\">-100.0</td><td style = \"text-align: right;\">2.74</td><td style = \"text-align: right;\">1.41149</td></tr><tr><td class = \"rowNumber\" style = \"font-weight: bold; text-align: right;\">47</td><td style = \"text-align: right;\">21.6913</td><td style = \"text-align: right;\">0.0653768</td><td style = \"text-align: right;\">0.169286</td><td style = \"text-align: right;\">11.8262</td><td style = \"text-align: right;\">-100.0</td><td style = \"text-align: right;\">5.18824</td><td style = \"text-align: right;\">0.723723</td></tr><tr><td class = \"rowNumber\" style = \"font-weight: bold; text-align: right;\">48</td><td style = \"text-align: right;\">75.0721</td><td style = \"text-align: right;\">3.70468</td><td style = \"text-align: right;\">32.294</td><td style = \"text-align: right;\">81.6538</td><td style = \"text-align: right;\">-100.0</td><td style = \"text-align: right;\">1.46923</td><td style = \"text-align: right;\">2.80509</td></tr><tr><td class = \"rowNumber\" style = \"font-weight: bold; text-align: right;\">49</td><td style = \"text-align: right;\">51.1368</td><td style = \"text-align: right;\">2.73588</td><td style = \"text-align: right;\">18.7717</td><td style = \"text-align: right;\">23.5222</td><td style = \"text-align: right;\">-1.0</td><td style = \"text-align: right;\">1.48125</td><td style = \"text-align: right;\">6.85546</td></tr><tr><td class = \"rowNumber\" style = \"font-weight: bold; text-align: right;\">50</td><td style = \"text-align: right;\">7.14355</td><td style = \"text-align: right;\">0.94775</td><td style = \"text-align: right;\">1.66769</td><td style = \"text-align: right;\">2.67955</td><td style = \"text-align: right;\">-100.0</td><td style = \"text-align: right;\">2.64167</td><td style = \"text-align: right;\">1.84161</td></tr></tbody></table></div>"
      ],
      "text/latex": [
       "\\begin{tabular}{r|ccccccc}\n",
       "\t& L & K & P & A & retcode & per & amp\\\\\n",
       "\t\\hline\n",
       "\t& Float64 & Float64 & Float64 & Float64 & Float64 & Float64 & Float64\\\\\n",
       "\t\\hline\n",
       "\t1 & 13.8915 & 0.588267 & 4.96728 & 2.0392 & -100.0 & 2.9871 & 0.387939 \\\\\n",
       "\t2 & 8.60709 & 3.13347 & 1.35597 & 72.6048 & -100.0 & 1.906 & 1.80404 \\\\\n",
       "\t3 & 7.44909 & 0.0471053 & 0.17936 & 1.06195 & -100.0 & 4.58 & 0.115861 \\\\\n",
       "\t4 & 32.3703 & 0.48104 & 4.20911 & 6.12865 & -100.0 & 1.87451 & 0.971606 \\\\\n",
       "\t5 & 53.1952 & 5.4238 & 35.4178 & 31.112 & -1.0 & 1.43019 & 12.0376 \\\\\n",
       "\t6 & 22.7287 & 2.30622 & 13.678 & 11.0956 & -100.0 & 1.67719 & 2.26789 \\\\\n",
       "\t7 & 21.4898 & 2.94398 & 42.6278 & 5.81731 & -100.0 & 3.05161 & 0.412925 \\\\\n",
       "\t8 & 25.9791 & 2.08729 & 24.8918 & 8.50543 & -100.0 & 1.97917 & 0.878367 \\\\\n",
       "\t9 & 4.42054 & 2.44321 & 0.877612 & 26.4603 & -100.0 & 1.89216 & 0.942524 \\\\\n",
       "\t10 & 2.98015 & 1.65648 & 1.16099 & 12.7925 & -100.0 & 1.96531 & 0.22119 \\\\\n",
       "\t11 & 5.76828 & 2.52703 & 5.6136 & 7.23367 & -100.0 & 1.80189 & 0.485083 \\\\\n",
       "\t12 & 7.10207 & 8.02426 & 1.97087 & 45.5328 & -100.0 & 1.48923 & 2.01439 \\\\\n",
       "\t13 & 18.3238 & 24.4809 & 76.4742 & 42.0286 & -100.0 & 1.19383 & 2.94377 \\\\\n",
       "\t14 & 21.5895 & 6.60395 & 19.6291 & 31.1909 & -1.0 & 1.1875 & 3.70341 \\\\\n",
       "\t15 & 17.0174 & 4.69484 & 3.36563 & 58.8892 & -1.0 & 1.47358 & 5.72102 \\\\\n",
       "\t16 & 1.87188 & 0.552923 & 0.152272 & 5.14144 & -100.0 & 3.676 & 0.381517 \\\\\n",
       "\t17 & 9.61006 & 0.238314 & 0.895823 & 4.05627 & -100.0 & 2.45128 & 0.192517 \\\\\n",
       "\t18 & 2.46838 & 0.161181 & 0.199727 & 0.653989 & -100.0 & 4.565 & 0.200541 \\\\\n",
       "\t19 & 1.72891 & 1.67226 & 0.332622 & 10.2971 & -100.0 & 2.61389 & 0.339534 \\\\\n",
       "\t20 & 3.97352 & 3.7307 & 1.0145 & 37.5433 & -100.0 & 1.81321 & 0.707074 \\\\\n",
       "\t21 & 47.2608 & 0.276529 & 2.27048 & 12.7163 & -100.0 & 1.72321 & 0.835192 \\\\\n",
       "\t22 & 1.15031 & 2.17025 & 0.530025 & 4.86162 & -100.0 & 2.50789 & 0.265512 \\\\\n",
       "\t23 & 27.8875 & 37.4641 & 38.813 & 88.7229 & -1.0 & 22.6733 & 4.13682 \\\\\n",
       "\t24 & 34.9063 & 0.878917 & 4.85665 & 12.3883 & -100.0 & 1.67586 & 2.38456 \\\\\n",
       "\t$\\dots$ & $\\dots$ & $\\dots$ & $\\dots$ & $\\dots$ & $\\dots$ & $\\dots$ & $\\dots$ \\\\\n",
       "\\end{tabular}\n"
      ],
      "text/plain": [
       "\u001b[1m50×7 DataFrame\u001b[0m\n",
       "\u001b[1m Row \u001b[0m│\u001b[1m L        \u001b[0m\u001b[1m K         \u001b[0m\u001b[1m P         \u001b[0m\u001b[1m A        \u001b[0m\u001b[1m retcode \u001b[0m\u001b[1m per     \u001b[0m\u001b[1m amp       \u001b[0m\n",
       "     │\u001b[90m Float64  \u001b[0m\u001b[90m Float64   \u001b[0m\u001b[90m Float64   \u001b[0m\u001b[90m Float64  \u001b[0m\u001b[90m Float64 \u001b[0m\u001b[90m Float64 \u001b[0m\u001b[90m Float64   \u001b[0m\n",
       "─────┼───────────────────────────────────────────────────────────────────────\n",
       "   1 │ 13.8915   0.588267    4.96728    2.0392    -100.0  2.9871    0.387939\n",
       "   2 │  8.60709  3.13347     1.35597   72.6048    -100.0  1.906     1.80404\n",
       "   3 │  7.44909  0.0471053   0.17936    1.06195   -100.0  4.58      0.115861\n",
       "   4 │ 32.3703   0.48104     4.20911    6.12865   -100.0  1.87451   0.971606\n",
       "   5 │ 53.1952   5.4238     35.4178    31.112       -1.0  1.43019  12.0376\n",
       "   6 │ 22.7287   2.30622    13.678     11.0956    -100.0  1.67719   2.26789\n",
       "   7 │ 21.4898   2.94398    42.6278     5.81731   -100.0  3.05161   0.412925\n",
       "   8 │ 25.9791   2.08729    24.8918     8.50543   -100.0  1.97917   0.878367\n",
       "  ⋮  │    ⋮          ⋮          ⋮         ⋮         ⋮        ⋮         ⋮\n",
       "  44 │ 25.2082   3.56719    17.8872    24.3005    -100.0  1.30541   1.98022\n",
       "  45 │ 11.842    0.573167    0.371642  53.1522    -100.0  4.39048   1.55847\n",
       "  46 │ 11.9444   1.14604     5.72431    2.99115   -100.0  2.74      1.41149\n",
       "  47 │ 21.6913   0.0653768   0.169286  11.8262    -100.0  5.18824   0.723723\n",
       "  48 │ 75.0721   3.70468    32.294     81.6538    -100.0  1.46923   2.80509\n",
       "  49 │ 51.1368   2.73588    18.7717    23.5222      -1.0  1.48125   6.85546\n",
       "  50 │  7.14355  0.94775     1.66769    2.67955   -100.0  2.64167   1.84161\n",
       "\u001b[36m                                                              35 rows omitted\u001b[0m"
      ]
     },
     "metadata": {},
     "output_type": "display_data"
    }
   ],
   "source": [
    "osc_df2  = mydf2[mydf2.retcode.<1.0,:]"
   ]
  },
  {
   "cell_type": "code",
   "execution_count": 14,
   "metadata": {},
   "outputs": [],
   "source": [
    "PlotSolutions(osc_df2)"
   ]
  },
  {
   "cell_type": "markdown",
   "metadata": {},
   "source": [
    "So we got the same results in this situation it appears. This should be explored further in the case of parameters that have been issues in the past; storing these values is a to do. Note however that there was a ~30% decrease in the time it took. Let's finish off by timing what happens if we do -8 and -8 as Dr. Johnson has suggested in the past."
   ]
  },
  {
   "cell_type": "code",
   "execution_count": 15,
   "metadata": {},
   "outputs": [
    {
     "data": {
      "text/plain": [
       "BenchmarkTools.Trial: 1 sample with 1 evaluation.\n",
       " Single result which took \u001b[34m11.514 s\u001b[39m (0.66% GC) to evaluate,\n",
       " with a memory estimate of \u001b[33m1.20 GiB\u001b[39m, over \u001b[33m4883714\u001b[39m allocations."
      ]
     },
     "metadata": {},
     "output_type": "display_data"
    }
   ],
   "source": [
    "@benchmark(testClassifier(10000; outputdirectory = \"/Users/ezragreenberg/Julia/ExperimentalFullModelWork/BenchmarkCsv/\", filename = \"MidTolerance.csv\", reltol=1e-8, abstol=1e-8))"
   ]
  },
  {
   "cell_type": "markdown",
   "metadata": {},
   "source": [
    "Ok, so this was not much of a time reduction from 1e-8 and 1e-12. So unless we can reduce to 1e-6, probably not worth doing."
   ]
  },
  {
   "cell_type": "markdown",
   "metadata": {},
   "source": [
    "And let's just see how different this is from the previous algorithm of Rosenbrock23()"
   ]
  },
  {
   "cell_type": "code",
   "execution_count": 16,
   "metadata": {},
   "outputs": [
    {
     "data": {
      "text/plain": [
       "rosenSolve (generic function with 1 method)"
      ]
     },
     "metadata": {},
     "output_type": "display_data"
    }
   ],
   "source": [
    "function rosenSolve(prob::ODEProblem, u0, shortSpan, longSpan, p; abstol = 1e-8, reltol=1e-12)\n",
    "    sol = solve(remake(prob, u0=u0, tspan=(0.0, shortSpan), p=p), Rosenbrock23(), abstol=abstol, reltol=reltol, saveat=0.1, save_idxs=1, maxiters=200 * shortSpan, verbose=false, callback=TerminateSteadyState(1e-8, 1e-12))\n",
    "    ret1 = finalClassifier(sol, shortSpan)\n",
    "    if ret1[1] != 4.0\n",
    "        return ret1\n",
    "    else\n",
    "        sol = solve(remake(prob, u0=u0, tspan=(0.0, longSpan), p=p), Rosenbrock23(), abstol=abstol, reltol=reltol, saveat=0.1, save_idxs=1, maxiters=200 * longSpan, verbose=false, callback=TerminateSteadyState(1e-8,1e-12))\n",
    "        return finalClassifier(sol, longSpan)\n",
    "    end \n",
    "end"
   ]
  },
  {
   "cell_type": "code",
   "execution_count": 17,
   "metadata": {},
   "outputs": [
    {
     "data": {
      "text/plain": [
       "rosenTestClassifier (generic function with 1 method)"
      ]
     },
     "metadata": {},
     "output_type": "display_data"
    }
   ],
   "source": [
    "function rosenTestClassifier(numIterations; saveCSV = true, outputdirectory = \"/Users/ezragreenberg/Julia/Someplots/\",filename=\"mytest1.csv\", abstol=1e-8, reltol=1e-12)\n",
    "    #df = DataFrame(u0=Vector{Float64}[], p=Vector{Float64}[], retcode=Float64[], per=Float64[], amp=Float64[])\n",
    "    #CSV of array gets read in as string, will have to generalize this later\n",
    "    df = DataFrame(L=Float64[],K=Float64[],P=Float64[],A=Float64[], retcode=Float64[], per=Float64[], amp=Float64[])\n",
    "    for i in 1:numIterations\n",
    "        u0[1] = rand(Random.seed!(i),Distributions.LogUniform(0.01, 100)) #Lp #1 for L, 2 for Lp\n",
    "        u0[2] = rand(Random.seed!(numIterations + i),Distributions.LogUniform(0.001, 100)) #K\n",
    "        u0[3] = rand(Random.seed!(2 * numIterations + i),Distributions.LogUniform(0.01, 100)) #P\n",
    "        u0[4] = rand(Random.seed!(3 * numIterations + i),Distributions.LogUniform(0.001, 100)) #A\n",
    "        retcode = rosenSolve(prob, u0, shortSpan, longSpan, p; abstol = abstol, reltol = reltol)\n",
    "        push!(df, Dict(:L=>u0[1],:K=>u0[2],:P=>u0[3],:A=>u0[4], :retcode => retcode[1], :per => retcode[2], :amp =>retcode[3]))\n",
    "    end\n",
    "    if saveCSV\n",
    "        CSV.write(outputdirectory*filename, df)\n",
    "    end\n",
    "    return df\n",
    "end"
   ]
  },
  {
   "cell_type": "code",
   "execution_count": 18,
   "metadata": {},
   "outputs": [
    {
     "data": {
      "text/plain": [
       "BenchmarkTools.Trial: 1 sample with 1 evaluation.\n",
       " Single result which took \u001b[34m26.870 s\u001b[39m (0.46% GC) to evaluate,\n",
       " with a memory estimate of \u001b[33m2.31 GiB\u001b[39m, over \u001b[33m11115753\u001b[39m allocations."
      ]
     },
     "metadata": {},
     "output_type": "display_data"
    }
   ],
   "source": [
    "@benchmark(rosenTestClassifier(10000; outputdirectory = \"/Users/ezragreenberg/Julia/ExperimentalFullModelWork/BenchmarkCsv/\", filename = \"RosenLowTolerance.csv\"))"
   ]
  },
  {
   "cell_type": "markdown",
   "metadata": {},
   "source": [
    "So clearly Rosenbrock23() cannot due such a low tolerance as 1e-8 and 1e-12 based on the timing. And if we set to the Julia default of 1e-6 and 1e-8:"
   ]
  },
  {
   "cell_type": "code",
   "execution_count": 19,
   "metadata": {},
   "outputs": [
    {
     "data": {
      "text/plain": [
       "BenchmarkTools.Trial: 1 sample with 1 evaluation.\n",
       " Single result which took \u001b[34m7.838 s\u001b[39m (0.90% GC) to evaluate,\n",
       " with a memory estimate of \u001b[33m1.14 GiB\u001b[39m, over \u001b[33m4544084\u001b[39m allocations."
      ]
     },
     "metadata": {},
     "output_type": "display_data"
    }
   ],
   "source": [
    "@benchmark(rosenTestClassifier(10000; outputdirectory = \"/Users/ezragreenberg/Julia/ExperimentalFullModelWork/BenchmarkCsv/\", filename = \"RosenHighTolerance.csv\", reltol=1e-8,abstol=1e-6))"
   ]
  },
  {
   "cell_type": "code",
   "execution_count": 20,
   "metadata": {},
   "outputs": [
    {
     "data": {
      "text/html": [
       "<div><div style = \"float: left;\"><span>50×7 DataFrame</span></div><div style = \"float: right;\"><span style = \"font-style: italic;\">25 rows omitted</span></div><div style = \"clear: both;\"></div></div><div class = \"data-frame\" style = \"overflow-x: scroll;\"><table class = \"data-frame\" style = \"margin-bottom: 6px;\"><thead><tr class = \"header\"><th class = \"rowNumber\" style = \"font-weight: bold; text-align: right;\">Row</th><th style = \"text-align: left;\">L</th><th style = \"text-align: left;\">K</th><th style = \"text-align: left;\">P</th><th style = \"text-align: left;\">A</th><th style = \"text-align: left;\">retcode</th><th style = \"text-align: left;\">per</th><th style = \"text-align: left;\">amp</th></tr><tr class = \"subheader headerLastRow\"><th class = \"rowNumber\" style = \"font-weight: bold; text-align: right;\"></th><th title = \"Float64\" style = \"text-align: left;\">Float64</th><th title = \"Float64\" style = \"text-align: left;\">Float64</th><th title = \"Float64\" style = \"text-align: left;\">Float64</th><th title = \"Float64\" style = \"text-align: left;\">Float64</th><th title = \"Float64\" style = \"text-align: left;\">Float64</th><th title = \"Float64\" style = \"text-align: left;\">Float64</th><th title = \"Float64\" style = \"text-align: left;\">Float64</th></tr></thead><tbody><tr><td class = \"rowNumber\" style = \"font-weight: bold; text-align: right;\">1</td><td style = \"text-align: right;\">13.8915</td><td style = \"text-align: right;\">0.588267</td><td style = \"text-align: right;\">4.96728</td><td style = \"text-align: right;\">2.0392</td><td style = \"text-align: right;\">-100.0</td><td style = \"text-align: right;\">2.9871</td><td style = \"text-align: right;\">0.387939</td></tr><tr><td class = \"rowNumber\" style = \"font-weight: bold; text-align: right;\">2</td><td style = \"text-align: right;\">8.60709</td><td style = \"text-align: right;\">3.13347</td><td style = \"text-align: right;\">1.35597</td><td style = \"text-align: right;\">72.6048</td><td style = \"text-align: right;\">-100.0</td><td style = \"text-align: right;\">1.906</td><td style = \"text-align: right;\">1.80404</td></tr><tr><td class = \"rowNumber\" style = \"font-weight: bold; text-align: right;\">3</td><td style = \"text-align: right;\">7.44909</td><td style = \"text-align: right;\">0.0471053</td><td style = \"text-align: right;\">0.17936</td><td style = \"text-align: right;\">1.06195</td><td style = \"text-align: right;\">-100.0</td><td style = \"text-align: right;\">4.58</td><td style = \"text-align: right;\">0.115861</td></tr><tr><td class = \"rowNumber\" style = \"font-weight: bold; text-align: right;\">4</td><td style = \"text-align: right;\">32.3703</td><td style = \"text-align: right;\">0.48104</td><td style = \"text-align: right;\">4.20911</td><td style = \"text-align: right;\">6.12865</td><td style = \"text-align: right;\">-100.0</td><td style = \"text-align: right;\">1.87451</td><td style = \"text-align: right;\">0.971606</td></tr><tr><td class = \"rowNumber\" style = \"font-weight: bold; text-align: right;\">5</td><td style = \"text-align: right;\">53.1952</td><td style = \"text-align: right;\">5.4238</td><td style = \"text-align: right;\">35.4178</td><td style = \"text-align: right;\">31.112</td><td style = \"text-align: right;\">-1.0</td><td style = \"text-align: right;\">1.43333</td><td style = \"text-align: right;\">12.1741</td></tr><tr><td class = \"rowNumber\" style = \"font-weight: bold; text-align: right;\">6</td><td style = \"text-align: right;\">22.7287</td><td style = \"text-align: right;\">2.30622</td><td style = \"text-align: right;\">13.678</td><td style = \"text-align: right;\">11.0956</td><td style = \"text-align: right;\">-1.0</td><td style = \"text-align: right;\">1.67805</td><td style = \"text-align: right;\">2.2754</td></tr><tr><td class = \"rowNumber\" style = \"font-weight: bold; text-align: right;\">7</td><td style = \"text-align: right;\">21.4898</td><td style = \"text-align: right;\">2.94398</td><td style = \"text-align: right;\">42.6278</td><td style = \"text-align: right;\">5.81731</td><td style = \"text-align: right;\">-100.0</td><td style = \"text-align: right;\">3.05161</td><td style = \"text-align: right;\">0.412924</td></tr><tr><td class = \"rowNumber\" style = \"font-weight: bold; text-align: right;\">8</td><td style = \"text-align: right;\">25.9791</td><td style = \"text-align: right;\">2.08729</td><td style = \"text-align: right;\">24.8918</td><td style = \"text-align: right;\">8.50543</td><td style = \"text-align: right;\">-100.0</td><td style = \"text-align: right;\">1.97917</td><td style = \"text-align: right;\">0.878368</td></tr><tr><td class = \"rowNumber\" style = \"font-weight: bold; text-align: right;\">9</td><td style = \"text-align: right;\">4.42054</td><td style = \"text-align: right;\">2.44321</td><td style = \"text-align: right;\">0.877612</td><td style = \"text-align: right;\">26.4603</td><td style = \"text-align: right;\">-100.0</td><td style = \"text-align: right;\">1.89216</td><td style = \"text-align: right;\">0.942524</td></tr><tr><td class = \"rowNumber\" style = \"font-weight: bold; text-align: right;\">10</td><td style = \"text-align: right;\">2.98015</td><td style = \"text-align: right;\">1.65648</td><td style = \"text-align: right;\">1.16099</td><td style = \"text-align: right;\">12.7925</td><td style = \"text-align: right;\">-100.0</td><td style = \"text-align: right;\">1.96531</td><td style = \"text-align: right;\">0.22119</td></tr><tr><td class = \"rowNumber\" style = \"font-weight: bold; text-align: right;\">11</td><td style = \"text-align: right;\">5.76828</td><td style = \"text-align: right;\">2.52703</td><td style = \"text-align: right;\">5.6136</td><td style = \"text-align: right;\">7.23367</td><td style = \"text-align: right;\">-100.0</td><td style = \"text-align: right;\">1.80189</td><td style = \"text-align: right;\">0.485083</td></tr><tr><td class = \"rowNumber\" style = \"font-weight: bold; text-align: right;\">12</td><td style = \"text-align: right;\">7.10207</td><td style = \"text-align: right;\">8.02426</td><td style = \"text-align: right;\">1.97087</td><td style = \"text-align: right;\">45.5328</td><td style = \"text-align: right;\">-1.0</td><td style = \"text-align: right;\">1.48857</td><td style = \"text-align: right;\">2.01424</td></tr><tr><td class = \"rowNumber\" style = \"font-weight: bold; text-align: right;\">13</td><td style = \"text-align: right;\">18.3238</td><td style = \"text-align: right;\">24.4809</td><td style = \"text-align: right;\">76.4742</td><td style = \"text-align: right;\">42.0286</td><td style = \"text-align: right;\">-1.0</td><td style = \"text-align: right;\">1.19286</td><td style = \"text-align: right;\">2.98589</td></tr><tr><td style = \"text-align: right;\">&vellip;</td><td style = \"text-align: right;\">&vellip;</td><td style = \"text-align: right;\">&vellip;</td><td style = \"text-align: right;\">&vellip;</td><td style = \"text-align: right;\">&vellip;</td><td style = \"text-align: right;\">&vellip;</td><td style = \"text-align: right;\">&vellip;</td><td style = \"text-align: right;\">&vellip;</td></tr><tr><td class = \"rowNumber\" style = \"font-weight: bold; text-align: right;\">39</td><td style = \"text-align: right;\">7.89685</td><td style = \"text-align: right;\">0.139638</td><td style = \"text-align: right;\">0.655577</td><td style = \"text-align: right;\">0.57365</td><td style = \"text-align: right;\">-100.0</td><td style = \"text-align: right;\">4.14545</td><td style = \"text-align: right;\">0.271992</td></tr><tr><td class = \"rowNumber\" style = \"font-weight: bold; text-align: right;\">40</td><td style = \"text-align: right;\">12.366</td><td style = \"text-align: right;\">6.77872</td><td style = \"text-align: right;\">6.69069</td><td style = \"text-align: right;\">46.8701</td><td style = \"text-align: right;\">-1.0</td><td style = \"text-align: right;\">1.13056</td><td style = \"text-align: right;\">2.6342</td></tr><tr><td class = \"rowNumber\" style = \"font-weight: bold; text-align: right;\">41</td><td style = \"text-align: right;\">45.4814</td><td style = \"text-align: right;\">0.0998593</td><td style = \"text-align: right;\">1.13158</td><td style = \"text-align: right;\">2.27035</td><td style = \"text-align: right;\">-100.0</td><td style = \"text-align: right;\">2.63889</td><td style = \"text-align: right;\">0.768686</td></tr><tr><td class = \"rowNumber\" style = \"font-weight: bold; text-align: right;\">42</td><td style = \"text-align: right;\">31.2089</td><td style = \"text-align: right;\">0.322491</td><td style = \"text-align: right;\">0.902447</td><td style = \"text-align: right;\">41.3914</td><td style = \"text-align: right;\">-100.0</td><td style = \"text-align: right;\">2.49474</td><td style = \"text-align: right;\">1.19348</td></tr><tr><td class = \"rowNumber\" style = \"font-weight: bold; text-align: right;\">43</td><td style = \"text-align: right;\">1.46119</td><td style = \"text-align: right;\">0.509402</td><td style = \"text-align: right;\">0.239654</td><td style = \"text-align: right;\">2.03407</td><td style = \"text-align: right;\">-100.0</td><td style = \"text-align: right;\">3.35</td><td style = \"text-align: right;\">0.217137</td></tr><tr><td class = \"rowNumber\" style = \"font-weight: bold; text-align: right;\">44</td><td style = \"text-align: right;\">25.2082</td><td style = \"text-align: right;\">3.56719</td><td style = \"text-align: right;\">17.8872</td><td style = \"text-align: right;\">24.3005</td><td style = \"text-align: right;\">-1.0</td><td style = \"text-align: right;\">1.304</td><td style = \"text-align: right;\">1.99323</td></tr><tr><td class = \"rowNumber\" style = \"font-weight: bold; text-align: right;\">45</td><td style = \"text-align: right;\">11.842</td><td style = \"text-align: right;\">0.573167</td><td style = \"text-align: right;\">0.371642</td><td style = \"text-align: right;\">53.1522</td><td style = \"text-align: right;\">-100.0</td><td style = \"text-align: right;\">4.39048</td><td style = \"text-align: right;\">1.55847</td></tr><tr><td class = \"rowNumber\" style = \"font-weight: bold; text-align: right;\">46</td><td style = \"text-align: right;\">11.9444</td><td style = \"text-align: right;\">1.14604</td><td style = \"text-align: right;\">5.72431</td><td style = \"text-align: right;\">2.99115</td><td style = \"text-align: right;\">-100.0</td><td style = \"text-align: right;\">2.74</td><td style = \"text-align: right;\">1.41149</td></tr><tr><td class = \"rowNumber\" style = \"font-weight: bold; text-align: right;\">47</td><td style = \"text-align: right;\">21.6913</td><td style = \"text-align: right;\">0.0653768</td><td style = \"text-align: right;\">0.169286</td><td style = \"text-align: right;\">11.8262</td><td style = \"text-align: right;\">-100.0</td><td style = \"text-align: right;\">5.18824</td><td style = \"text-align: right;\">0.723723</td></tr><tr><td class = \"rowNumber\" style = \"font-weight: bold; text-align: right;\">48</td><td style = \"text-align: right;\">75.0721</td><td style = \"text-align: right;\">3.70468</td><td style = \"text-align: right;\">32.294</td><td style = \"text-align: right;\">81.6538</td><td style = \"text-align: right;\">-1.0</td><td style = \"text-align: right;\">1.475</td><td style = \"text-align: right;\">2.8483</td></tr><tr><td class = \"rowNumber\" style = \"font-weight: bold; text-align: right;\">49</td><td style = \"text-align: right;\">51.1368</td><td style = \"text-align: right;\">2.73588</td><td style = \"text-align: right;\">18.7717</td><td style = \"text-align: right;\">23.5222</td><td style = \"text-align: right;\">-1.0</td><td style = \"text-align: right;\">1.48148</td><td style = \"text-align: right;\">6.92444</td></tr><tr><td class = \"rowNumber\" style = \"font-weight: bold; text-align: right;\">50</td><td style = \"text-align: right;\">7.14355</td><td style = \"text-align: right;\">0.94775</td><td style = \"text-align: right;\">1.66769</td><td style = \"text-align: right;\">2.67955</td><td style = \"text-align: right;\">-1.0</td><td style = \"text-align: right;\">2.64074</td><td style = \"text-align: right;\">1.84001</td></tr></tbody></table></div>"
      ],
      "text/latex": [
       "\\begin{tabular}{r|ccccccc}\n",
       "\t& L & K & P & A & retcode & per & amp\\\\\n",
       "\t\\hline\n",
       "\t& Float64 & Float64 & Float64 & Float64 & Float64 & Float64 & Float64\\\\\n",
       "\t\\hline\n",
       "\t1 & 13.8915 & 0.588267 & 4.96728 & 2.0392 & -100.0 & 2.9871 & 0.387939 \\\\\n",
       "\t2 & 8.60709 & 3.13347 & 1.35597 & 72.6048 & -100.0 & 1.906 & 1.80404 \\\\\n",
       "\t3 & 7.44909 & 0.0471053 & 0.17936 & 1.06195 & -100.0 & 4.58 & 0.115861 \\\\\n",
       "\t4 & 32.3703 & 0.48104 & 4.20911 & 6.12865 & -100.0 & 1.87451 & 0.971606 \\\\\n",
       "\t5 & 53.1952 & 5.4238 & 35.4178 & 31.112 & -1.0 & 1.43333 & 12.1741 \\\\\n",
       "\t6 & 22.7287 & 2.30622 & 13.678 & 11.0956 & -1.0 & 1.67805 & 2.2754 \\\\\n",
       "\t7 & 21.4898 & 2.94398 & 42.6278 & 5.81731 & -100.0 & 3.05161 & 0.412924 \\\\\n",
       "\t8 & 25.9791 & 2.08729 & 24.8918 & 8.50543 & -100.0 & 1.97917 & 0.878368 \\\\\n",
       "\t9 & 4.42054 & 2.44321 & 0.877612 & 26.4603 & -100.0 & 1.89216 & 0.942524 \\\\\n",
       "\t10 & 2.98015 & 1.65648 & 1.16099 & 12.7925 & -100.0 & 1.96531 & 0.22119 \\\\\n",
       "\t11 & 5.76828 & 2.52703 & 5.6136 & 7.23367 & -100.0 & 1.80189 & 0.485083 \\\\\n",
       "\t12 & 7.10207 & 8.02426 & 1.97087 & 45.5328 & -1.0 & 1.48857 & 2.01424 \\\\\n",
       "\t13 & 18.3238 & 24.4809 & 76.4742 & 42.0286 & -1.0 & 1.19286 & 2.98589 \\\\\n",
       "\t14 & 21.5895 & 6.60395 & 19.6291 & 31.1909 & -1.0 & 1.18788 & 3.73449 \\\\\n",
       "\t15 & 17.0174 & 4.69484 & 3.36563 & 58.8892 & -1.0 & 1.472 & 5.73024 \\\\\n",
       "\t16 & 1.87188 & 0.552923 & 0.152272 & 5.14144 & -100.0 & 3.676 & 0.381517 \\\\\n",
       "\t17 & 9.61006 & 0.238314 & 0.895823 & 4.05627 & -100.0 & 2.45128 & 0.192517 \\\\\n",
       "\t18 & 2.46838 & 0.161181 & 0.199727 & 0.653989 & -100.0 & 4.565 & 0.200541 \\\\\n",
       "\t19 & 1.72891 & 1.67226 & 0.332622 & 10.2971 & -100.0 & 2.61389 & 0.339533 \\\\\n",
       "\t20 & 3.97352 & 3.7307 & 1.0145 & 37.5433 & -100.0 & 1.81321 & 0.707073 \\\\\n",
       "\t21 & 47.2608 & 0.276529 & 2.27048 & 12.7163 & -100.0 & 1.72321 & 0.835192 \\\\\n",
       "\t22 & 1.15031 & 2.17025 & 0.530025 & 4.86162 & -100.0 & 2.50789 & 0.265512 \\\\\n",
       "\t23 & 27.8875 & 37.4641 & 38.813 & 88.7229 & -1.0 & 22.825 & 4.51303 \\\\\n",
       "\t24 & 34.9063 & 0.878917 & 4.85665 & 12.3883 & -1.0 & 1.67632 & 2.39437 \\\\\n",
       "\t$\\dots$ & $\\dots$ & $\\dots$ & $\\dots$ & $\\dots$ & $\\dots$ & $\\dots$ & $\\dots$ \\\\\n",
       "\\end{tabular}\n"
      ],
      "text/plain": [
       "\u001b[1m50×7 DataFrame\u001b[0m\n",
       "\u001b[1m Row \u001b[0m│\u001b[1m L        \u001b[0m\u001b[1m K         \u001b[0m\u001b[1m P         \u001b[0m\u001b[1m A        \u001b[0m\u001b[1m retcode \u001b[0m\u001b[1m per     \u001b[0m\u001b[1m amp       \u001b[0m\n",
       "     │\u001b[90m Float64  \u001b[0m\u001b[90m Float64   \u001b[0m\u001b[90m Float64   \u001b[0m\u001b[90m Float64  \u001b[0m\u001b[90m Float64 \u001b[0m\u001b[90m Float64 \u001b[0m\u001b[90m Float64   \u001b[0m\n",
       "─────┼───────────────────────────────────────────────────────────────────────\n",
       "   1 │ 13.8915   0.588267    4.96728    2.0392    -100.0  2.9871    0.387939\n",
       "   2 │  8.60709  3.13347     1.35597   72.6048    -100.0  1.906     1.80404\n",
       "   3 │  7.44909  0.0471053   0.17936    1.06195   -100.0  4.58      0.115861\n",
       "   4 │ 32.3703   0.48104     4.20911    6.12865   -100.0  1.87451   0.971606\n",
       "   5 │ 53.1952   5.4238     35.4178    31.112       -1.0  1.43333  12.1741\n",
       "   6 │ 22.7287   2.30622    13.678     11.0956      -1.0  1.67805   2.2754\n",
       "   7 │ 21.4898   2.94398    42.6278     5.81731   -100.0  3.05161   0.412924\n",
       "   8 │ 25.9791   2.08729    24.8918     8.50543   -100.0  1.97917   0.878368\n",
       "  ⋮  │    ⋮          ⋮          ⋮         ⋮         ⋮        ⋮         ⋮\n",
       "  44 │ 25.2082   3.56719    17.8872    24.3005      -1.0  1.304     1.99323\n",
       "  45 │ 11.842    0.573167    0.371642  53.1522    -100.0  4.39048   1.55847\n",
       "  46 │ 11.9444   1.14604     5.72431    2.99115   -100.0  2.74      1.41149\n",
       "  47 │ 21.6913   0.0653768   0.169286  11.8262    -100.0  5.18824   0.723723\n",
       "  48 │ 75.0721   3.70468    32.294     81.6538      -1.0  1.475     2.8483\n",
       "  49 │ 51.1368   2.73588    18.7717    23.5222      -1.0  1.48148   6.92444\n",
       "  50 │  7.14355  0.94775     1.66769    2.67955     -1.0  2.64074   1.84001\n",
       "\u001b[36m                                                              35 rows omitted\u001b[0m"
      ]
     },
     "metadata": {},
     "output_type": "display_data"
    }
   ],
   "source": [
    "mydfRosen = DataFrame(CSV.File(\"/Users/ezragreenberg/Julia/ExperimentalFullModelWork/BenchmarkCsv/RosenLowTolerance.csv\"))\n",
    "osc_answers = mydf1[mydf1.retcode.<0,:]"
   ]
  },
  {
   "cell_type": "code",
   "execution_count": 21,
   "metadata": {},
   "outputs": [
    {
     "data": {
      "text/html": [
       "<div><div style = \"float: left;\"><span>0×7 DataFrame</span></div><div style = \"clear: both;\"></div></div><div class = \"data-frame\" style = \"overflow-x: scroll;\"><table class = \"data-frame\" style = \"margin-bottom: 6px;\"><thead><tr class = \"header\"><th class = \"rowNumber\" style = \"font-weight: bold; text-align: right;\">Row</th><th style = \"text-align: left;\">L</th><th style = \"text-align: left;\">K</th><th style = \"text-align: left;\">P</th><th style = \"text-align: left;\">A</th><th style = \"text-align: left;\">retcode</th><th style = \"text-align: left;\">per</th><th style = \"text-align: left;\">amp</th></tr><tr class = \"subheader headerLastRow\"><th class = \"rowNumber\" style = \"font-weight: bold; text-align: right;\"></th><th title = \"Float64\" style = \"text-align: left;\">Float64</th><th title = \"Float64\" style = \"text-align: left;\">Float64</th><th title = \"Float64\" style = \"text-align: left;\">Float64</th><th title = \"Float64\" style = \"text-align: left;\">Float64</th><th title = \"Float64\" style = \"text-align: left;\">Float64</th><th title = \"Float64\" style = \"text-align: left;\">Float64</th><th title = \"Float64\" style = \"text-align: left;\">Float64</th></tr></thead><tbody></tbody></table></div>"
      ],
      "text/latex": [
       "\\begin{tabular}{r|ccccccc}\n",
       "\t& L & K & P & A & retcode & per & amp\\\\\n",
       "\t\\hline\n",
       "\t& Float64 & Float64 & Float64 & Float64 & Float64 & Float64 & Float64\\\\\n",
       "\t\\hline\n",
       "\\end{tabular}\n"
      ],
      "text/plain": [
       "\u001b[1m0×7 DataFrame\u001b[0m\n",
       "\u001b[1m Row \u001b[0m│\u001b[1m L       \u001b[0m\u001b[1m K       \u001b[0m\u001b[1m P       \u001b[0m\u001b[1m A       \u001b[0m\u001b[1m retcode \u001b[0m\u001b[1m per     \u001b[0m\u001b[1m amp     \u001b[0m\n",
       "     │\u001b[90m Float64 \u001b[0m\u001b[90m Float64 \u001b[0m\u001b[90m Float64 \u001b[0m\u001b[90m Float64 \u001b[0m\u001b[90m Float64 \u001b[0m\u001b[90m Float64 \u001b[0m\u001b[90m Float64 \u001b[0m\n",
       "─────┴───────────────────────────────────────────────────────────────"
      ]
     },
     "metadata": {},
     "output_type": "display_data"
    }
   ],
   "source": [
    "massNoConserved = mydfRosen[mydf1.retcode.==1.5,:]"
   ]
  },
  {
   "cell_type": "code",
   "execution_count": 22,
   "metadata": {},
   "outputs": [
    {
     "data": {
      "text/html": [
       "<div><div style = \"float: left;\"><span>0×7 DataFrame</span></div><div style = \"clear: both;\"></div></div><div class = \"data-frame\" style = \"overflow-x: scroll;\"><table class = \"data-frame\" style = \"margin-bottom: 6px;\"><thead><tr class = \"header\"><th class = \"rowNumber\" style = \"font-weight: bold; text-align: right;\">Row</th><th style = \"text-align: left;\">L</th><th style = \"text-align: left;\">K</th><th style = \"text-align: left;\">P</th><th style = \"text-align: left;\">A</th><th style = \"text-align: left;\">retcode</th><th style = \"text-align: left;\">per</th><th style = \"text-align: left;\">amp</th></tr><tr class = \"subheader headerLastRow\"><th class = \"rowNumber\" style = \"font-weight: bold; text-align: right;\"></th><th title = \"Float64\" style = \"text-align: left;\">Float64</th><th title = \"Float64\" style = \"text-align: left;\">Float64</th><th title = \"Float64\" style = \"text-align: left;\">Float64</th><th title = \"Float64\" style = \"text-align: left;\">Float64</th><th title = \"Float64\" style = \"text-align: left;\">Float64</th><th title = \"Float64\" style = \"text-align: left;\">Float64</th><th title = \"Float64\" style = \"text-align: left;\">Float64</th></tr></thead><tbody></tbody></table></div>"
      ],
      "text/latex": [
       "\\begin{tabular}{r|ccccccc}\n",
       "\t& L & K & P & A & retcode & per & amp\\\\\n",
       "\t\\hline\n",
       "\t& Float64 & Float64 & Float64 & Float64 & Float64 & Float64 & Float64\\\\\n",
       "\t\\hline\n",
       "\\end{tabular}\n"
      ],
      "text/plain": [
       "\u001b[1m0×7 DataFrame\u001b[0m\n",
       "\u001b[1m Row \u001b[0m│\u001b[1m L       \u001b[0m\u001b[1m K       \u001b[0m\u001b[1m P       \u001b[0m\u001b[1m A       \u001b[0m\u001b[1m retcode \u001b[0m\u001b[1m per     \u001b[0m\u001b[1m amp     \u001b[0m\n",
       "     │\u001b[90m Float64 \u001b[0m\u001b[90m Float64 \u001b[0m\u001b[90m Float64 \u001b[0m\u001b[90m Float64 \u001b[0m\u001b[90m Float64 \u001b[0m\u001b[90m Float64 \u001b[0m\u001b[90m Float64 \u001b[0m\n",
       "─────┴───────────────────────────────────────────────────────────────"
      ]
     },
     "metadata": {},
     "output_type": "display_data"
    }
   ],
   "source": [
    "failures=mydfRosen[mydf1.retcode.==1.0,:]"
   ]
  },
  {
   "cell_type": "markdown",
   "metadata": {},
   "source": [
    "Rosenbrock seems to be slightly faster and did not have more errors here..."
   ]
  },
  {
   "cell_type": "markdown",
   "metadata": {},
   "source": [
    "Last thing to check: how is the callback effecting the speed?"
   ]
  },
  {
   "cell_type": "code",
   "execution_count": 23,
   "metadata": {},
   "outputs": [
    {
     "data": {
      "text/plain": [
       "noCallbackClassifier (generic function with 1 method)"
      ]
     },
     "metadata": {},
     "output_type": "display_data"
    }
   ],
   "source": [
    "function noCallbackSolve(prob::ODEProblem, u0, shortSpan, longSpan, p; abstol = 1e-6, reltol=1e-8)\n",
    "    sol = solve(remake(prob, u0=u0, tspan=(0.0, shortSpan), p=p), Rodas4(), abstol=abstol, reltol=reltol, saveat=0.1, save_idxs=1, maxiters=200 * shortSpan, verbose=false)\n",
    "    ret1 = finalClassifier(sol, shortSpan)\n",
    "    if ret1[1] != 4.0\n",
    "        return ret1\n",
    "    else\n",
    "        sol = solve(remake(prob, u0=u0, tspan=(0.0, longSpan), p=p), Rodas4(), abstol=abstol, reltol=reltol, saveat=0.1, save_idxs=1, maxiters=200 * longSpan, verbose=false)\n",
    "        return finalClassifier(sol, longSpan)\n",
    "    end \n",
    "end\n",
    "function noCallbackClassifier(numIterations; saveCSV = true, outputdirectory = \"/Users/ezragreenberg/Julia/Someplots/\",filename=\"mytestNoCallback.csv\", abstol=1e-6, reltol=1e-8)\n",
    "    #df = DataFrame(u0=Vector{Float64}[], p=Vector{Float64}[], retcode=Float64[], per=Float64[], amp=Float64[])\n",
    "    #CSV of array gets read in as string, will have to generalize this later\n",
    "    df = DataFrame(L=Float64[],K=Float64[],P=Float64[],A=Float64[], retcode=Float64[], per=Float64[], amp=Float64[])\n",
    "    for i in 1:numIterations\n",
    "        u0[1] = rand(Random.seed!(i),Distributions.LogUniform(0.01, 100)) #Lp #1 for L, 2 for Lp\n",
    "        u0[2] = rand(Random.seed!(numIterations + i),Distributions.LogUniform(0.001, 100)) #K\n",
    "        u0[3] = rand(Random.seed!(2 * numIterations + i),Distributions.LogUniform(0.01, 100)) #P\n",
    "        u0[4] = rand(Random.seed!(3 * numIterations + i),Distributions.LogUniform(0.001, 100)) #A\n",
    "        retcode = noCallbackSolve(prob, u0, shortSpan, longSpan, p; abstol = abstol, reltol = reltol)\n",
    "        push!(df, Dict(:L=>u0[1],:K=>u0[2],:P=>u0[3],:A=>u0[4], :retcode => retcode[1], :per => retcode[2], :amp =>retcode[3]))\n",
    "    end\n",
    "    if saveCSV\n",
    "        CSV.write(outputdirectory*filename, df)\n",
    "    end\n",
    "    return df\n",
    "end"
   ]
  },
  {
   "cell_type": "code",
   "execution_count": 30,
   "metadata": {},
   "outputs": [
    {
     "data": {
      "text/plain": [
       "BenchmarkTools.Trial: 1 sample with 1 evaluation.\n",
       " Single result which took \u001b[34m5.639 s\u001b[39m (1.08% GC) to evaluate,\n",
       " with a memory estimate of \u001b[33m951.78 MiB\u001b[39m, over \u001b[33m3278616\u001b[39m allocations."
      ]
     },
     "metadata": {},
     "output_type": "display_data"
    }
   ],
   "source": [
    "@benchmark(noCallbackClassifier(10000; outputdirectory = \"/Users/ezragreenberg/Julia/ExperimentalFullModelWork/BenchmarkCsv/\", filename = \"noCallbackLowTol.csv\", reltol=1e-8,abstol=1e-6))"
   ]
  },
  {
   "cell_type": "code",
   "execution_count": 25,
   "metadata": {},
   "outputs": [
    {
     "data": {
      "text/html": [
       "<div><div style = \"float: left;\"><span>50×7 DataFrame</span></div><div style = \"float: right;\"><span style = \"font-style: italic;\">25 rows omitted</span></div><div style = \"clear: both;\"></div></div><div class = \"data-frame\" style = \"overflow-x: scroll;\"><table class = \"data-frame\" style = \"margin-bottom: 6px;\"><thead><tr class = \"header\"><th class = \"rowNumber\" style = \"font-weight: bold; text-align: right;\">Row</th><th style = \"text-align: left;\">L</th><th style = \"text-align: left;\">K</th><th style = \"text-align: left;\">P</th><th style = \"text-align: left;\">A</th><th style = \"text-align: left;\">retcode</th><th style = \"text-align: left;\">per</th><th style = \"text-align: left;\">amp</th></tr><tr class = \"subheader headerLastRow\"><th class = \"rowNumber\" style = \"font-weight: bold; text-align: right;\"></th><th title = \"Float64\" style = \"text-align: left;\">Float64</th><th title = \"Float64\" style = \"text-align: left;\">Float64</th><th title = \"Float64\" style = \"text-align: left;\">Float64</th><th title = \"Float64\" style = \"text-align: left;\">Float64</th><th title = \"Float64\" style = \"text-align: left;\">Float64</th><th title = \"Float64\" style = \"text-align: left;\">Float64</th><th title = \"Float64\" style = \"text-align: left;\">Float64</th></tr></thead><tbody><tr><td class = \"rowNumber\" style = \"font-weight: bold; text-align: right;\">1</td><td style = \"text-align: right;\">13.8915</td><td style = \"text-align: right;\">0.588267</td><td style = \"text-align: right;\">4.96728</td><td style = \"text-align: right;\">2.0392</td><td style = \"text-align: right;\">-100.0</td><td style = \"text-align: right;\">2.9871</td><td style = \"text-align: right;\">0.387939</td></tr><tr><td class = \"rowNumber\" style = \"font-weight: bold; text-align: right;\">2</td><td style = \"text-align: right;\">8.60709</td><td style = \"text-align: right;\">3.13347</td><td style = \"text-align: right;\">1.35597</td><td style = \"text-align: right;\">72.6048</td><td style = \"text-align: right;\">-100.0</td><td style = \"text-align: right;\">1.906</td><td style = \"text-align: right;\">1.80404</td></tr><tr><td class = \"rowNumber\" style = \"font-weight: bold; text-align: right;\">3</td><td style = \"text-align: right;\">7.44909</td><td style = \"text-align: right;\">0.0471053</td><td style = \"text-align: right;\">0.17936</td><td style = \"text-align: right;\">1.06195</td><td style = \"text-align: right;\">-100.0</td><td style = \"text-align: right;\">4.58</td><td style = \"text-align: right;\">0.115861</td></tr><tr><td class = \"rowNumber\" style = \"font-weight: bold; text-align: right;\">4</td><td style = \"text-align: right;\">32.3703</td><td style = \"text-align: right;\">0.48104</td><td style = \"text-align: right;\">4.20911</td><td style = \"text-align: right;\">6.12865</td><td style = \"text-align: right;\">-100.0</td><td style = \"text-align: right;\">1.87451</td><td style = \"text-align: right;\">0.971606</td></tr><tr><td class = \"rowNumber\" style = \"font-weight: bold; text-align: right;\">5</td><td style = \"text-align: right;\">53.1952</td><td style = \"text-align: right;\">5.4238</td><td style = \"text-align: right;\">35.4178</td><td style = \"text-align: right;\">31.112</td><td style = \"text-align: right;\">-1.0</td><td style = \"text-align: right;\">1.43333</td><td style = \"text-align: right;\">12.1741</td></tr><tr><td class = \"rowNumber\" style = \"font-weight: bold; text-align: right;\">6</td><td style = \"text-align: right;\">22.7287</td><td style = \"text-align: right;\">2.30622</td><td style = \"text-align: right;\">13.678</td><td style = \"text-align: right;\">11.0956</td><td style = \"text-align: right;\">-1.0</td><td style = \"text-align: right;\">1.67805</td><td style = \"text-align: right;\">2.2754</td></tr><tr><td class = \"rowNumber\" style = \"font-weight: bold; text-align: right;\">7</td><td style = \"text-align: right;\">21.4898</td><td style = \"text-align: right;\">2.94398</td><td style = \"text-align: right;\">42.6278</td><td style = \"text-align: right;\">5.81731</td><td style = \"text-align: right;\">-100.0</td><td style = \"text-align: right;\">3.05161</td><td style = \"text-align: right;\">0.412924</td></tr><tr><td class = \"rowNumber\" style = \"font-weight: bold; text-align: right;\">8</td><td style = \"text-align: right;\">25.9791</td><td style = \"text-align: right;\">2.08729</td><td style = \"text-align: right;\">24.8918</td><td style = \"text-align: right;\">8.50543</td><td style = \"text-align: right;\">-100.0</td><td style = \"text-align: right;\">1.97917</td><td style = \"text-align: right;\">0.878368</td></tr><tr><td class = \"rowNumber\" style = \"font-weight: bold; text-align: right;\">9</td><td style = \"text-align: right;\">4.42054</td><td style = \"text-align: right;\">2.44321</td><td style = \"text-align: right;\">0.877612</td><td style = \"text-align: right;\">26.4603</td><td style = \"text-align: right;\">-100.0</td><td style = \"text-align: right;\">1.89216</td><td style = \"text-align: right;\">0.942524</td></tr><tr><td class = \"rowNumber\" style = \"font-weight: bold; text-align: right;\">10</td><td style = \"text-align: right;\">2.98015</td><td style = \"text-align: right;\">1.65648</td><td style = \"text-align: right;\">1.16099</td><td style = \"text-align: right;\">12.7925</td><td style = \"text-align: right;\">-100.0</td><td style = \"text-align: right;\">1.96531</td><td style = \"text-align: right;\">0.22119</td></tr><tr><td class = \"rowNumber\" style = \"font-weight: bold; text-align: right;\">11</td><td style = \"text-align: right;\">5.76828</td><td style = \"text-align: right;\">2.52703</td><td style = \"text-align: right;\">5.6136</td><td style = \"text-align: right;\">7.23367</td><td style = \"text-align: right;\">-100.0</td><td style = \"text-align: right;\">1.80189</td><td style = \"text-align: right;\">0.485083</td></tr><tr><td class = \"rowNumber\" style = \"font-weight: bold; text-align: right;\">12</td><td style = \"text-align: right;\">7.10207</td><td style = \"text-align: right;\">8.02426</td><td style = \"text-align: right;\">1.97087</td><td style = \"text-align: right;\">45.5328</td><td style = \"text-align: right;\">-1.0</td><td style = \"text-align: right;\">1.48857</td><td style = \"text-align: right;\">2.01424</td></tr><tr><td class = \"rowNumber\" style = \"font-weight: bold; text-align: right;\">13</td><td style = \"text-align: right;\">18.3238</td><td style = \"text-align: right;\">24.4809</td><td style = \"text-align: right;\">76.4742</td><td style = \"text-align: right;\">42.0286</td><td style = \"text-align: right;\">-1.0</td><td style = \"text-align: right;\">1.19286</td><td style = \"text-align: right;\">2.98589</td></tr><tr><td style = \"text-align: right;\">&vellip;</td><td style = \"text-align: right;\">&vellip;</td><td style = \"text-align: right;\">&vellip;</td><td style = \"text-align: right;\">&vellip;</td><td style = \"text-align: right;\">&vellip;</td><td style = \"text-align: right;\">&vellip;</td><td style = \"text-align: right;\">&vellip;</td><td style = \"text-align: right;\">&vellip;</td></tr><tr><td class = \"rowNumber\" style = \"font-weight: bold; text-align: right;\">39</td><td style = \"text-align: right;\">7.89685</td><td style = \"text-align: right;\">0.139638</td><td style = \"text-align: right;\">0.655577</td><td style = \"text-align: right;\">0.57365</td><td style = \"text-align: right;\">-100.0</td><td style = \"text-align: right;\">4.14545</td><td style = \"text-align: right;\">0.271992</td></tr><tr><td class = \"rowNumber\" style = \"font-weight: bold; text-align: right;\">40</td><td style = \"text-align: right;\">12.366</td><td style = \"text-align: right;\">6.77872</td><td style = \"text-align: right;\">6.69069</td><td style = \"text-align: right;\">46.8701</td><td style = \"text-align: right;\">-1.0</td><td style = \"text-align: right;\">1.13056</td><td style = \"text-align: right;\">2.6342</td></tr><tr><td class = \"rowNumber\" style = \"font-weight: bold; text-align: right;\">41</td><td style = \"text-align: right;\">45.4814</td><td style = \"text-align: right;\">0.0998593</td><td style = \"text-align: right;\">1.13158</td><td style = \"text-align: right;\">2.27035</td><td style = \"text-align: right;\">-100.0</td><td style = \"text-align: right;\">2.63889</td><td style = \"text-align: right;\">0.768686</td></tr><tr><td class = \"rowNumber\" style = \"font-weight: bold; text-align: right;\">42</td><td style = \"text-align: right;\">31.2089</td><td style = \"text-align: right;\">0.322491</td><td style = \"text-align: right;\">0.902447</td><td style = \"text-align: right;\">41.3914</td><td style = \"text-align: right;\">-100.0</td><td style = \"text-align: right;\">2.49474</td><td style = \"text-align: right;\">1.19348</td></tr><tr><td class = \"rowNumber\" style = \"font-weight: bold; text-align: right;\">43</td><td style = \"text-align: right;\">1.46119</td><td style = \"text-align: right;\">0.509402</td><td style = \"text-align: right;\">0.239654</td><td style = \"text-align: right;\">2.03407</td><td style = \"text-align: right;\">-100.0</td><td style = \"text-align: right;\">3.35</td><td style = \"text-align: right;\">0.217137</td></tr><tr><td class = \"rowNumber\" style = \"font-weight: bold; text-align: right;\">44</td><td style = \"text-align: right;\">25.2082</td><td style = \"text-align: right;\">3.56719</td><td style = \"text-align: right;\">17.8872</td><td style = \"text-align: right;\">24.3005</td><td style = \"text-align: right;\">-1.0</td><td style = \"text-align: right;\">1.304</td><td style = \"text-align: right;\">1.99323</td></tr><tr><td class = \"rowNumber\" style = \"font-weight: bold; text-align: right;\">45</td><td style = \"text-align: right;\">11.842</td><td style = \"text-align: right;\">0.573167</td><td style = \"text-align: right;\">0.371642</td><td style = \"text-align: right;\">53.1522</td><td style = \"text-align: right;\">-100.0</td><td style = \"text-align: right;\">4.39048</td><td style = \"text-align: right;\">1.55847</td></tr><tr><td class = \"rowNumber\" style = \"font-weight: bold; text-align: right;\">46</td><td style = \"text-align: right;\">11.9444</td><td style = \"text-align: right;\">1.14604</td><td style = \"text-align: right;\">5.72431</td><td style = \"text-align: right;\">2.99115</td><td style = \"text-align: right;\">-100.0</td><td style = \"text-align: right;\">2.74</td><td style = \"text-align: right;\">1.41149</td></tr><tr><td class = \"rowNumber\" style = \"font-weight: bold; text-align: right;\">47</td><td style = \"text-align: right;\">21.6913</td><td style = \"text-align: right;\">0.0653768</td><td style = \"text-align: right;\">0.169286</td><td style = \"text-align: right;\">11.8262</td><td style = \"text-align: right;\">-100.0</td><td style = \"text-align: right;\">5.18824</td><td style = \"text-align: right;\">0.723723</td></tr><tr><td class = \"rowNumber\" style = \"font-weight: bold; text-align: right;\">48</td><td style = \"text-align: right;\">75.0721</td><td style = \"text-align: right;\">3.70468</td><td style = \"text-align: right;\">32.294</td><td style = \"text-align: right;\">81.6538</td><td style = \"text-align: right;\">-1.0</td><td style = \"text-align: right;\">1.475</td><td style = \"text-align: right;\">2.8483</td></tr><tr><td class = \"rowNumber\" style = \"font-weight: bold; text-align: right;\">49</td><td style = \"text-align: right;\">51.1368</td><td style = \"text-align: right;\">2.73588</td><td style = \"text-align: right;\">18.7717</td><td style = \"text-align: right;\">23.5222</td><td style = \"text-align: right;\">-1.0</td><td style = \"text-align: right;\">1.48148</td><td style = \"text-align: right;\">6.92444</td></tr><tr><td class = \"rowNumber\" style = \"font-weight: bold; text-align: right;\">50</td><td style = \"text-align: right;\">7.14355</td><td style = \"text-align: right;\">0.94775</td><td style = \"text-align: right;\">1.66769</td><td style = \"text-align: right;\">2.67955</td><td style = \"text-align: right;\">-1.0</td><td style = \"text-align: right;\">2.64074</td><td style = \"text-align: right;\">1.84001</td></tr></tbody></table></div>"
      ],
      "text/latex": [
       "\\begin{tabular}{r|ccccccc}\n",
       "\t& L & K & P & A & retcode & per & amp\\\\\n",
       "\t\\hline\n",
       "\t& Float64 & Float64 & Float64 & Float64 & Float64 & Float64 & Float64\\\\\n",
       "\t\\hline\n",
       "\t1 & 13.8915 & 0.588267 & 4.96728 & 2.0392 & -100.0 & 2.9871 & 0.387939 \\\\\n",
       "\t2 & 8.60709 & 3.13347 & 1.35597 & 72.6048 & -100.0 & 1.906 & 1.80404 \\\\\n",
       "\t3 & 7.44909 & 0.0471053 & 0.17936 & 1.06195 & -100.0 & 4.58 & 0.115861 \\\\\n",
       "\t4 & 32.3703 & 0.48104 & 4.20911 & 6.12865 & -100.0 & 1.87451 & 0.971606 \\\\\n",
       "\t5 & 53.1952 & 5.4238 & 35.4178 & 31.112 & -1.0 & 1.43333 & 12.1741 \\\\\n",
       "\t6 & 22.7287 & 2.30622 & 13.678 & 11.0956 & -1.0 & 1.67805 & 2.2754 \\\\\n",
       "\t7 & 21.4898 & 2.94398 & 42.6278 & 5.81731 & -100.0 & 3.05161 & 0.412924 \\\\\n",
       "\t8 & 25.9791 & 2.08729 & 24.8918 & 8.50543 & -100.0 & 1.97917 & 0.878368 \\\\\n",
       "\t9 & 4.42054 & 2.44321 & 0.877612 & 26.4603 & -100.0 & 1.89216 & 0.942524 \\\\\n",
       "\t10 & 2.98015 & 1.65648 & 1.16099 & 12.7925 & -100.0 & 1.96531 & 0.22119 \\\\\n",
       "\t11 & 5.76828 & 2.52703 & 5.6136 & 7.23367 & -100.0 & 1.80189 & 0.485083 \\\\\n",
       "\t12 & 7.10207 & 8.02426 & 1.97087 & 45.5328 & -1.0 & 1.48857 & 2.01424 \\\\\n",
       "\t13 & 18.3238 & 24.4809 & 76.4742 & 42.0286 & -1.0 & 1.19286 & 2.98589 \\\\\n",
       "\t14 & 21.5895 & 6.60395 & 19.6291 & 31.1909 & -1.0 & 1.18788 & 3.73449 \\\\\n",
       "\t15 & 17.0174 & 4.69484 & 3.36563 & 58.8892 & -1.0 & 1.472 & 5.73024 \\\\\n",
       "\t16 & 1.87188 & 0.552923 & 0.152272 & 5.14144 & -100.0 & 3.676 & 0.381517 \\\\\n",
       "\t17 & 9.61006 & 0.238314 & 0.895823 & 4.05627 & -100.0 & 2.45128 & 0.192517 \\\\\n",
       "\t18 & 2.46838 & 0.161181 & 0.199727 & 0.653989 & -100.0 & 4.565 & 0.200541 \\\\\n",
       "\t19 & 1.72891 & 1.67226 & 0.332622 & 10.2971 & -100.0 & 2.61389 & 0.339533 \\\\\n",
       "\t20 & 3.97352 & 3.7307 & 1.0145 & 37.5433 & -100.0 & 1.81321 & 0.707073 \\\\\n",
       "\t21 & 47.2608 & 0.276529 & 2.27048 & 12.7163 & -100.0 & 1.72321 & 0.835192 \\\\\n",
       "\t22 & 1.15031 & 2.17025 & 0.530025 & 4.86162 & -100.0 & 2.50789 & 0.265512 \\\\\n",
       "\t23 & 27.8875 & 37.4641 & 38.813 & 88.7229 & -1.0 & 22.825 & 4.51303 \\\\\n",
       "\t24 & 34.9063 & 0.878917 & 4.85665 & 12.3883 & -1.0 & 1.67632 & 2.39437 \\\\\n",
       "\t$\\dots$ & $\\dots$ & $\\dots$ & $\\dots$ & $\\dots$ & $\\dots$ & $\\dots$ & $\\dots$ \\\\\n",
       "\\end{tabular}\n"
      ],
      "text/plain": [
       "\u001b[1m50×7 DataFrame\u001b[0m\n",
       "\u001b[1m Row \u001b[0m│\u001b[1m L        \u001b[0m\u001b[1m K         \u001b[0m\u001b[1m P         \u001b[0m\u001b[1m A        \u001b[0m\u001b[1m retcode \u001b[0m\u001b[1m per     \u001b[0m\u001b[1m amp       \u001b[0m\n",
       "     │\u001b[90m Float64  \u001b[0m\u001b[90m Float64   \u001b[0m\u001b[90m Float64   \u001b[0m\u001b[90m Float64  \u001b[0m\u001b[90m Float64 \u001b[0m\u001b[90m Float64 \u001b[0m\u001b[90m Float64   \u001b[0m\n",
       "─────┼───────────────────────────────────────────────────────────────────────\n",
       "   1 │ 13.8915   0.588267    4.96728    2.0392    -100.0  2.9871    0.387939\n",
       "   2 │  8.60709  3.13347     1.35597   72.6048    -100.0  1.906     1.80404\n",
       "   3 │  7.44909  0.0471053   0.17936    1.06195   -100.0  4.58      0.115861\n",
       "   4 │ 32.3703   0.48104     4.20911    6.12865   -100.0  1.87451   0.971606\n",
       "   5 │ 53.1952   5.4238     35.4178    31.112       -1.0  1.43333  12.1741\n",
       "   6 │ 22.7287   2.30622    13.678     11.0956      -1.0  1.67805   2.2754\n",
       "   7 │ 21.4898   2.94398    42.6278     5.81731   -100.0  3.05161   0.412924\n",
       "   8 │ 25.9791   2.08729    24.8918     8.50543   -100.0  1.97917   0.878368\n",
       "  ⋮  │    ⋮          ⋮          ⋮         ⋮         ⋮        ⋮         ⋮\n",
       "  44 │ 25.2082   3.56719    17.8872    24.3005      -1.0  1.304     1.99323\n",
       "  45 │ 11.842    0.573167    0.371642  53.1522    -100.0  4.39048   1.55847\n",
       "  46 │ 11.9444   1.14604     5.72431    2.99115   -100.0  2.74      1.41149\n",
       "  47 │ 21.6913   0.0653768   0.169286  11.8262    -100.0  5.18824   0.723723\n",
       "  48 │ 75.0721   3.70468    32.294     81.6538      -1.0  1.475     2.8483\n",
       "  49 │ 51.1368   2.73588    18.7717    23.5222      -1.0  1.48148   6.92444\n",
       "  50 │  7.14355  0.94775     1.66769    2.67955     -1.0  2.64074   1.84001\n",
       "\u001b[36m                                                              35 rows omitted\u001b[0m"
      ]
     },
     "metadata": {},
     "output_type": "display_data"
    }
   ],
   "source": [
    "mydfNoCB = DataFrame(CSV.File(\"/Users/ezragreenberg/Julia/ExperimentalFullModelWork/BenchmarkCsv/noCallbackLowTol.csv\"))\n",
    "osc_sols = mydf1[mydfNoCB.retcode.<0,:]"
   ]
  },
  {
   "cell_type": "markdown",
   "metadata": {},
   "source": [
    "Ok my thing is getting anything the callback would get and sppeding it up significantly. Now no callback using Rosen"
   ]
  },
  {
   "cell_type": "code",
   "execution_count": 26,
   "metadata": {},
   "outputs": [
    {
     "data": {
      "text/plain": [
       "noCallbackRosenClassifier (generic function with 1 method)"
      ]
     },
     "metadata": {},
     "output_type": "display_data"
    }
   ],
   "source": [
    "function noCallbackRosen(prob::ODEProblem, u0, shortSpan, longSpan, p; abstol = 1e-6, reltol=1e-8)\n",
    "    sol = solve(remake(prob, u0=u0, tspan=(0.0, shortSpan), p=p), Rosenbrock23(), abstol=abstol, reltol=reltol, saveat=0.1, save_idxs=1, maxiters=200 * shortSpan, verbose=false)\n",
    "    ret1 = finalClassifier(sol, shortSpan)\n",
    "    if ret1[1] != 4.0\n",
    "        return ret1\n",
    "    else\n",
    "        sol = solve(remake(prob, u0=u0, tspan=(0.0, longSpan), p=p), Rosenbrock23(), abstol=abstol, reltol=reltol, saveat=0.1, save_idxs=1, maxiters=200 * longSpan, verbose=false)\n",
    "        return finalClassifier(sol, longSpan)\n",
    "    end \n",
    "end\n",
    "function noCallbackRosenClassifier(numIterations; saveCSV = true, outputdirectory = \"/Users/ezragreenberg/Julia/Someplots/\",filename=\"mytestNoCallback.csv\", abstol=1e-6, reltol=1e-8)\n",
    "    #df = DataFrame(u0=Vector{Float64}[], p=Vector{Float64}[], retcode=Float64[], per=Float64[], amp=Float64[])\n",
    "    #CSV of array gets read in as string, will have to generalize this later\n",
    "    df = DataFrame(L=Float64[],K=Float64[],P=Float64[],A=Float64[], retcode=Float64[], per=Float64[], amp=Float64[])\n",
    "    for i in 1:numIterations\n",
    "        u0[1] = rand(Random.seed!(i),Distributions.LogUniform(0.01, 100)) #Lp #1 for L, 2 for Lp\n",
    "        u0[2] = rand(Random.seed!(numIterations + i),Distributions.LogUniform(0.001, 100)) #K\n",
    "        u0[3] = rand(Random.seed!(2 * numIterations + i),Distributions.LogUniform(0.01, 100)) #P\n",
    "        u0[4] = rand(Random.seed!(3 * numIterations + i),Distributions.LogUniform(0.001, 100)) #A\n",
    "        retcode = noCallbackRosen(prob, u0, shortSpan, longSpan, p; abstol = abstol, reltol = reltol)\n",
    "        push!(df, Dict(:L=>u0[1],:K=>u0[2],:P=>u0[3],:A=>u0[4], :retcode => retcode[1], :per => retcode[2], :amp =>retcode[3]))\n",
    "    end\n",
    "    if saveCSV\n",
    "        CSV.write(outputdirectory*filename, df)\n",
    "    end\n",
    "    return df\n",
    "end"
   ]
  },
  {
   "cell_type": "code",
   "execution_count": 27,
   "metadata": {},
   "outputs": [
    {
     "data": {
      "text/plain": [
       "BenchmarkTools.Trial: 1 sample with 1 evaluation.\n",
       " Single result which took \u001b[34m8.259 s\u001b[39m (0.87% GC) to evaluate,\n",
       " with a memory estimate of \u001b[33m1.15 GiB\u001b[39m, over \u001b[33m4534222\u001b[39m allocations."
      ]
     },
     "metadata": {},
     "output_type": "display_data"
    }
   ],
   "source": [
    "@benchmark(noCallbackRosenClassifier(10000; outputdirectory = \"/Users/ezragreenberg/Julia/ExperimentalFullModelWork/BenchmarkCsv/\", filename = \"RosenNoCB.csv\", reltol=1e-8,abstol=1e-6))"
   ]
  },
  {
   "cell_type": "code",
   "execution_count": 28,
   "metadata": {},
   "outputs": [
    {
     "data": {
      "text/html": [
       "<div><div style = \"float: left;\"><span>50×7 DataFrame</span></div><div style = \"float: right;\"><span style = \"font-style: italic;\">25 rows omitted</span></div><div style = \"clear: both;\"></div></div><div class = \"data-frame\" style = \"overflow-x: scroll;\"><table class = \"data-frame\" style = \"margin-bottom: 6px;\"><thead><tr class = \"header\"><th class = \"rowNumber\" style = \"font-weight: bold; text-align: right;\">Row</th><th style = \"text-align: left;\">L</th><th style = \"text-align: left;\">K</th><th style = \"text-align: left;\">P</th><th style = \"text-align: left;\">A</th><th style = \"text-align: left;\">retcode</th><th style = \"text-align: left;\">per</th><th style = \"text-align: left;\">amp</th></tr><tr class = \"subheader headerLastRow\"><th class = \"rowNumber\" style = \"font-weight: bold; text-align: right;\"></th><th title = \"Float64\" style = \"text-align: left;\">Float64</th><th title = \"Float64\" style = \"text-align: left;\">Float64</th><th title = \"Float64\" style = \"text-align: left;\">Float64</th><th title = \"Float64\" style = \"text-align: left;\">Float64</th><th title = \"Float64\" style = \"text-align: left;\">Float64</th><th title = \"Float64\" style = \"text-align: left;\">Float64</th><th title = \"Float64\" style = \"text-align: left;\">Float64</th></tr></thead><tbody><tr><td class = \"rowNumber\" style = \"font-weight: bold; text-align: right;\">1</td><td style = \"text-align: right;\">13.8915</td><td style = \"text-align: right;\">0.588267</td><td style = \"text-align: right;\">4.96728</td><td style = \"text-align: right;\">2.0392</td><td style = \"text-align: right;\">-100.0</td><td style = \"text-align: right;\">2.9871</td><td style = \"text-align: right;\">0.387939</td></tr><tr><td class = \"rowNumber\" style = \"font-weight: bold; text-align: right;\">2</td><td style = \"text-align: right;\">8.60709</td><td style = \"text-align: right;\">3.13347</td><td style = \"text-align: right;\">1.35597</td><td style = \"text-align: right;\">72.6048</td><td style = \"text-align: right;\">-100.0</td><td style = \"text-align: right;\">1.906</td><td style = \"text-align: right;\">1.80404</td></tr><tr><td class = \"rowNumber\" style = \"font-weight: bold; text-align: right;\">3</td><td style = \"text-align: right;\">7.44909</td><td style = \"text-align: right;\">0.0471053</td><td style = \"text-align: right;\">0.17936</td><td style = \"text-align: right;\">1.06195</td><td style = \"text-align: right;\">-100.0</td><td style = \"text-align: right;\">4.58</td><td style = \"text-align: right;\">0.115861</td></tr><tr><td class = \"rowNumber\" style = \"font-weight: bold; text-align: right;\">4</td><td style = \"text-align: right;\">32.3703</td><td style = \"text-align: right;\">0.48104</td><td style = \"text-align: right;\">4.20911</td><td style = \"text-align: right;\">6.12865</td><td style = \"text-align: right;\">-100.0</td><td style = \"text-align: right;\">1.87451</td><td style = \"text-align: right;\">0.971606</td></tr><tr><td class = \"rowNumber\" style = \"font-weight: bold; text-align: right;\">5</td><td style = \"text-align: right;\">53.1952</td><td style = \"text-align: right;\">5.4238</td><td style = \"text-align: right;\">35.4178</td><td style = \"text-align: right;\">31.112</td><td style = \"text-align: right;\">-1.0</td><td style = \"text-align: right;\">1.43333</td><td style = \"text-align: right;\">12.1741</td></tr><tr><td class = \"rowNumber\" style = \"font-weight: bold; text-align: right;\">6</td><td style = \"text-align: right;\">22.7287</td><td style = \"text-align: right;\">2.30622</td><td style = \"text-align: right;\">13.678</td><td style = \"text-align: right;\">11.0956</td><td style = \"text-align: right;\">-1.0</td><td style = \"text-align: right;\">1.67805</td><td style = \"text-align: right;\">2.2754</td></tr><tr><td class = \"rowNumber\" style = \"font-weight: bold; text-align: right;\">7</td><td style = \"text-align: right;\">21.4898</td><td style = \"text-align: right;\">2.94398</td><td style = \"text-align: right;\">42.6278</td><td style = \"text-align: right;\">5.81731</td><td style = \"text-align: right;\">-100.0</td><td style = \"text-align: right;\">3.05161</td><td style = \"text-align: right;\">0.412924</td></tr><tr><td class = \"rowNumber\" style = \"font-weight: bold; text-align: right;\">8</td><td style = \"text-align: right;\">25.9791</td><td style = \"text-align: right;\">2.08729</td><td style = \"text-align: right;\">24.8918</td><td style = \"text-align: right;\">8.50543</td><td style = \"text-align: right;\">-100.0</td><td style = \"text-align: right;\">1.97917</td><td style = \"text-align: right;\">0.878368</td></tr><tr><td class = \"rowNumber\" style = \"font-weight: bold; text-align: right;\">9</td><td style = \"text-align: right;\">4.42054</td><td style = \"text-align: right;\">2.44321</td><td style = \"text-align: right;\">0.877612</td><td style = \"text-align: right;\">26.4603</td><td style = \"text-align: right;\">-100.0</td><td style = \"text-align: right;\">1.89216</td><td style = \"text-align: right;\">0.942524</td></tr><tr><td class = \"rowNumber\" style = \"font-weight: bold; text-align: right;\">10</td><td style = \"text-align: right;\">2.98015</td><td style = \"text-align: right;\">1.65648</td><td style = \"text-align: right;\">1.16099</td><td style = \"text-align: right;\">12.7925</td><td style = \"text-align: right;\">-100.0</td><td style = \"text-align: right;\">1.96531</td><td style = \"text-align: right;\">0.22119</td></tr><tr><td class = \"rowNumber\" style = \"font-weight: bold; text-align: right;\">11</td><td style = \"text-align: right;\">5.76828</td><td style = \"text-align: right;\">2.52703</td><td style = \"text-align: right;\">5.6136</td><td style = \"text-align: right;\">7.23367</td><td style = \"text-align: right;\">-100.0</td><td style = \"text-align: right;\">1.80189</td><td style = \"text-align: right;\">0.485083</td></tr><tr><td class = \"rowNumber\" style = \"font-weight: bold; text-align: right;\">12</td><td style = \"text-align: right;\">7.10207</td><td style = \"text-align: right;\">8.02426</td><td style = \"text-align: right;\">1.97087</td><td style = \"text-align: right;\">45.5328</td><td style = \"text-align: right;\">-1.0</td><td style = \"text-align: right;\">1.48857</td><td style = \"text-align: right;\">2.01424</td></tr><tr><td class = \"rowNumber\" style = \"font-weight: bold; text-align: right;\">13</td><td style = \"text-align: right;\">18.3238</td><td style = \"text-align: right;\">24.4809</td><td style = \"text-align: right;\">76.4742</td><td style = \"text-align: right;\">42.0286</td><td style = \"text-align: right;\">-1.0</td><td style = \"text-align: right;\">1.19286</td><td style = \"text-align: right;\">2.98589</td></tr><tr><td style = \"text-align: right;\">&vellip;</td><td style = \"text-align: right;\">&vellip;</td><td style = \"text-align: right;\">&vellip;</td><td style = \"text-align: right;\">&vellip;</td><td style = \"text-align: right;\">&vellip;</td><td style = \"text-align: right;\">&vellip;</td><td style = \"text-align: right;\">&vellip;</td><td style = \"text-align: right;\">&vellip;</td></tr><tr><td class = \"rowNumber\" style = \"font-weight: bold; text-align: right;\">39</td><td style = \"text-align: right;\">7.89685</td><td style = \"text-align: right;\">0.139638</td><td style = \"text-align: right;\">0.655577</td><td style = \"text-align: right;\">0.57365</td><td style = \"text-align: right;\">-100.0</td><td style = \"text-align: right;\">4.14545</td><td style = \"text-align: right;\">0.271992</td></tr><tr><td class = \"rowNumber\" style = \"font-weight: bold; text-align: right;\">40</td><td style = \"text-align: right;\">12.366</td><td style = \"text-align: right;\">6.77872</td><td style = \"text-align: right;\">6.69069</td><td style = \"text-align: right;\">46.8701</td><td style = \"text-align: right;\">-1.0</td><td style = \"text-align: right;\">1.13056</td><td style = \"text-align: right;\">2.6342</td></tr><tr><td class = \"rowNumber\" style = \"font-weight: bold; text-align: right;\">41</td><td style = \"text-align: right;\">45.4814</td><td style = \"text-align: right;\">0.0998593</td><td style = \"text-align: right;\">1.13158</td><td style = \"text-align: right;\">2.27035</td><td style = \"text-align: right;\">-100.0</td><td style = \"text-align: right;\">2.63889</td><td style = \"text-align: right;\">0.768686</td></tr><tr><td class = \"rowNumber\" style = \"font-weight: bold; text-align: right;\">42</td><td style = \"text-align: right;\">31.2089</td><td style = \"text-align: right;\">0.322491</td><td style = \"text-align: right;\">0.902447</td><td style = \"text-align: right;\">41.3914</td><td style = \"text-align: right;\">-100.0</td><td style = \"text-align: right;\">2.49474</td><td style = \"text-align: right;\">1.19348</td></tr><tr><td class = \"rowNumber\" style = \"font-weight: bold; text-align: right;\">43</td><td style = \"text-align: right;\">1.46119</td><td style = \"text-align: right;\">0.509402</td><td style = \"text-align: right;\">0.239654</td><td style = \"text-align: right;\">2.03407</td><td style = \"text-align: right;\">-100.0</td><td style = \"text-align: right;\">3.35</td><td style = \"text-align: right;\">0.217137</td></tr><tr><td class = \"rowNumber\" style = \"font-weight: bold; text-align: right;\">44</td><td style = \"text-align: right;\">25.2082</td><td style = \"text-align: right;\">3.56719</td><td style = \"text-align: right;\">17.8872</td><td style = \"text-align: right;\">24.3005</td><td style = \"text-align: right;\">-1.0</td><td style = \"text-align: right;\">1.304</td><td style = \"text-align: right;\">1.99323</td></tr><tr><td class = \"rowNumber\" style = \"font-weight: bold; text-align: right;\">45</td><td style = \"text-align: right;\">11.842</td><td style = \"text-align: right;\">0.573167</td><td style = \"text-align: right;\">0.371642</td><td style = \"text-align: right;\">53.1522</td><td style = \"text-align: right;\">-100.0</td><td style = \"text-align: right;\">4.39048</td><td style = \"text-align: right;\">1.55847</td></tr><tr><td class = \"rowNumber\" style = \"font-weight: bold; text-align: right;\">46</td><td style = \"text-align: right;\">11.9444</td><td style = \"text-align: right;\">1.14604</td><td style = \"text-align: right;\">5.72431</td><td style = \"text-align: right;\">2.99115</td><td style = \"text-align: right;\">-100.0</td><td style = \"text-align: right;\">2.74</td><td style = \"text-align: right;\">1.41149</td></tr><tr><td class = \"rowNumber\" style = \"font-weight: bold; text-align: right;\">47</td><td style = \"text-align: right;\">21.6913</td><td style = \"text-align: right;\">0.0653768</td><td style = \"text-align: right;\">0.169286</td><td style = \"text-align: right;\">11.8262</td><td style = \"text-align: right;\">-100.0</td><td style = \"text-align: right;\">5.18824</td><td style = \"text-align: right;\">0.723723</td></tr><tr><td class = \"rowNumber\" style = \"font-weight: bold; text-align: right;\">48</td><td style = \"text-align: right;\">75.0721</td><td style = \"text-align: right;\">3.70468</td><td style = \"text-align: right;\">32.294</td><td style = \"text-align: right;\">81.6538</td><td style = \"text-align: right;\">-1.0</td><td style = \"text-align: right;\">1.475</td><td style = \"text-align: right;\">2.8483</td></tr><tr><td class = \"rowNumber\" style = \"font-weight: bold; text-align: right;\">49</td><td style = \"text-align: right;\">51.1368</td><td style = \"text-align: right;\">2.73588</td><td style = \"text-align: right;\">18.7717</td><td style = \"text-align: right;\">23.5222</td><td style = \"text-align: right;\">-1.0</td><td style = \"text-align: right;\">1.48148</td><td style = \"text-align: right;\">6.92444</td></tr><tr><td class = \"rowNumber\" style = \"font-weight: bold; text-align: right;\">50</td><td style = \"text-align: right;\">7.14355</td><td style = \"text-align: right;\">0.94775</td><td style = \"text-align: right;\">1.66769</td><td style = \"text-align: right;\">2.67955</td><td style = \"text-align: right;\">-1.0</td><td style = \"text-align: right;\">2.64074</td><td style = \"text-align: right;\">1.84001</td></tr></tbody></table></div>"
      ],
      "text/latex": [
       "\\begin{tabular}{r|ccccccc}\n",
       "\t& L & K & P & A & retcode & per & amp\\\\\n",
       "\t\\hline\n",
       "\t& Float64 & Float64 & Float64 & Float64 & Float64 & Float64 & Float64\\\\\n",
       "\t\\hline\n",
       "\t1 & 13.8915 & 0.588267 & 4.96728 & 2.0392 & -100.0 & 2.9871 & 0.387939 \\\\\n",
       "\t2 & 8.60709 & 3.13347 & 1.35597 & 72.6048 & -100.0 & 1.906 & 1.80404 \\\\\n",
       "\t3 & 7.44909 & 0.0471053 & 0.17936 & 1.06195 & -100.0 & 4.58 & 0.115861 \\\\\n",
       "\t4 & 32.3703 & 0.48104 & 4.20911 & 6.12865 & -100.0 & 1.87451 & 0.971606 \\\\\n",
       "\t5 & 53.1952 & 5.4238 & 35.4178 & 31.112 & -1.0 & 1.43333 & 12.1741 \\\\\n",
       "\t6 & 22.7287 & 2.30622 & 13.678 & 11.0956 & -1.0 & 1.67805 & 2.2754 \\\\\n",
       "\t7 & 21.4898 & 2.94398 & 42.6278 & 5.81731 & -100.0 & 3.05161 & 0.412924 \\\\\n",
       "\t8 & 25.9791 & 2.08729 & 24.8918 & 8.50543 & -100.0 & 1.97917 & 0.878368 \\\\\n",
       "\t9 & 4.42054 & 2.44321 & 0.877612 & 26.4603 & -100.0 & 1.89216 & 0.942524 \\\\\n",
       "\t10 & 2.98015 & 1.65648 & 1.16099 & 12.7925 & -100.0 & 1.96531 & 0.22119 \\\\\n",
       "\t11 & 5.76828 & 2.52703 & 5.6136 & 7.23367 & -100.0 & 1.80189 & 0.485083 \\\\\n",
       "\t12 & 7.10207 & 8.02426 & 1.97087 & 45.5328 & -1.0 & 1.48857 & 2.01424 \\\\\n",
       "\t13 & 18.3238 & 24.4809 & 76.4742 & 42.0286 & -1.0 & 1.19286 & 2.98589 \\\\\n",
       "\t14 & 21.5895 & 6.60395 & 19.6291 & 31.1909 & -1.0 & 1.18788 & 3.73449 \\\\\n",
       "\t15 & 17.0174 & 4.69484 & 3.36563 & 58.8892 & -1.0 & 1.472 & 5.73024 \\\\\n",
       "\t16 & 1.87188 & 0.552923 & 0.152272 & 5.14144 & -100.0 & 3.676 & 0.381517 \\\\\n",
       "\t17 & 9.61006 & 0.238314 & 0.895823 & 4.05627 & -100.0 & 2.45128 & 0.192517 \\\\\n",
       "\t18 & 2.46838 & 0.161181 & 0.199727 & 0.653989 & -100.0 & 4.565 & 0.200541 \\\\\n",
       "\t19 & 1.72891 & 1.67226 & 0.332622 & 10.2971 & -100.0 & 2.61389 & 0.339533 \\\\\n",
       "\t20 & 3.97352 & 3.7307 & 1.0145 & 37.5433 & -100.0 & 1.81321 & 0.707073 \\\\\n",
       "\t21 & 47.2608 & 0.276529 & 2.27048 & 12.7163 & -100.0 & 1.72321 & 0.835192 \\\\\n",
       "\t22 & 1.15031 & 2.17025 & 0.530025 & 4.86162 & -100.0 & 2.50789 & 0.265512 \\\\\n",
       "\t23 & 27.8875 & 37.4641 & 38.813 & 88.7229 & -1.0 & 22.825 & 4.51303 \\\\\n",
       "\t24 & 34.9063 & 0.878917 & 4.85665 & 12.3883 & -1.0 & 1.67632 & 2.39437 \\\\\n",
       "\t$\\dots$ & $\\dots$ & $\\dots$ & $\\dots$ & $\\dots$ & $\\dots$ & $\\dots$ & $\\dots$ \\\\\n",
       "\\end{tabular}\n"
      ],
      "text/plain": [
       "\u001b[1m50×7 DataFrame\u001b[0m\n",
       "\u001b[1m Row \u001b[0m│\u001b[1m L        \u001b[0m\u001b[1m K         \u001b[0m\u001b[1m P         \u001b[0m\u001b[1m A        \u001b[0m\u001b[1m retcode \u001b[0m\u001b[1m per     \u001b[0m\u001b[1m amp       \u001b[0m\n",
       "     │\u001b[90m Float64  \u001b[0m\u001b[90m Float64   \u001b[0m\u001b[90m Float64   \u001b[0m\u001b[90m Float64  \u001b[0m\u001b[90m Float64 \u001b[0m\u001b[90m Float64 \u001b[0m\u001b[90m Float64   \u001b[0m\n",
       "─────┼───────────────────────────────────────────────────────────────────────\n",
       "   1 │ 13.8915   0.588267    4.96728    2.0392    -100.0  2.9871    0.387939\n",
       "   2 │  8.60709  3.13347     1.35597   72.6048    -100.0  1.906     1.80404\n",
       "   3 │  7.44909  0.0471053   0.17936    1.06195   -100.0  4.58      0.115861\n",
       "   4 │ 32.3703   0.48104     4.20911    6.12865   -100.0  1.87451   0.971606\n",
       "   5 │ 53.1952   5.4238     35.4178    31.112       -1.0  1.43333  12.1741\n",
       "   6 │ 22.7287   2.30622    13.678     11.0956      -1.0  1.67805   2.2754\n",
       "   7 │ 21.4898   2.94398    42.6278     5.81731   -100.0  3.05161   0.412924\n",
       "   8 │ 25.9791   2.08729    24.8918     8.50543   -100.0  1.97917   0.878368\n",
       "  ⋮  │    ⋮          ⋮          ⋮         ⋮         ⋮        ⋮         ⋮\n",
       "  44 │ 25.2082   3.56719    17.8872    24.3005      -1.0  1.304     1.99323\n",
       "  45 │ 11.842    0.573167    0.371642  53.1522    -100.0  4.39048   1.55847\n",
       "  46 │ 11.9444   1.14604     5.72431    2.99115   -100.0  2.74      1.41149\n",
       "  47 │ 21.6913   0.0653768   0.169286  11.8262    -100.0  5.18824   0.723723\n",
       "  48 │ 75.0721   3.70468    32.294     81.6538      -1.0  1.475     2.8483\n",
       "  49 │ 51.1368   2.73588    18.7717    23.5222      -1.0  1.48148   6.92444\n",
       "  50 │  7.14355  0.94775     1.66769    2.67955     -1.0  2.64074   1.84001\n",
       "\u001b[36m                                                              35 rows omitted\u001b[0m"
      ]
     },
     "metadata": {},
     "output_type": "display_data"
    }
   ],
   "source": [
    "mydfRosenNoCB = DataFrame(CSV.File(\"/Users/ezragreenberg/Julia/ExperimentalFullModelWork/BenchmarkCsv/RosenNoCB.csv\"))\n",
    "osc_sols = mydf1[mydfNoCB.retcode.<0,:]"
   ]
  },
  {
   "cell_type": "markdown",
   "metadata": {},
   "source": [
    "It appears that using Rodas4() without the callback with a lower tolerance (Julia's default tolerance of abstol=1e-6 and reltol=1e-8) will be the most efficient way of going about the solutions. While more testing could be done to ensure this lower tolerance works well, this should be ok for large sampling of many solutions. Additionally it may be worth seeing if the isDamped function is really neccessary or if isSteady deals with enough."
   ]
  }
 ],
 "metadata": {
  "kernelspec": {
   "display_name": "Julia 1.9.0",
   "language": "julia",
   "name": "julia-1.9"
  },
  "language_info": {
   "file_extension": ".jl",
   "mimetype": "application/julia",
   "name": "julia",
   "version": "1.9.0"
  },
  "orig_nbformat": 4
 },
 "nbformat": 4,
 "nbformat_minor": 2
}
