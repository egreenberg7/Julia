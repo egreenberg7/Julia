{
 "cells": [
  {
   "cell_type": "code",
   "execution_count": 2,
   "metadata": {},
   "outputs": [],
   "source": [
    "using Catalyst\n",
    "using DifferentialEquations\n",
    "using Latexify"
   ]
  },
  {
   "cell_type": "code",
   "execution_count": 5,
   "metadata": {},
   "outputs": [
    {
     "name": "stderr",
     "output_type": "stream",
     "text": [
      "WARNING: redefinition of constant fullrn. This may fail, cause incorrect answers, or produce other errors.\n"
     ]
    },
    {
     "data": {
      "text/latex": [
       "$$ \\begin{align*}\n",
       "\\mathrm{L} + \\mathrm{K} &\\xrightleftharpoons[kb1]{ka1} \\mathrm{LK} \\\\\n",
       "\\mathrm{LK} &\\xrightarrow{kcat1} \\mathrm{Lp} + \\mathrm{K} \\\\\n",
       "\\mathrm{Lp} + \\mathrm{A} &\\xrightleftharpoons[kb2]{ka2} \\mathrm{LpA} \\\\\n",
       "\\mathrm{LpA} + \\mathrm{K} &\\xrightleftharpoons[kb3]{ka3} \\mathrm{LpAK} \\\\\n",
       "\\mathrm{LpAK} + \\mathrm{L} &\\xrightleftharpoons[kb1]{df ka1} \\mathrm{LpAKL} \\\\\n",
       "\\mathrm{LpAKL} &\\xrightarrow{kcat1} \\mathrm{Lp} + \\mathrm{LpAK} \\\\\n",
       "\\mathrm{Lp} + \\mathrm{P} &\\xrightleftharpoons[kb7]{ka7} \\mathrm{LpP} \\\\\n",
       "\\mathrm{LpP} &\\xrightarrow{kcat7} \\mathrm{L} + \\mathrm{P} \\\\\n",
       "\\mathrm{LpA} + \\mathrm{P} &\\xrightleftharpoons[kb4]{ka4} \\mathrm{LpAP} \\\\\n",
       "\\mathrm{Lp} + \\mathrm{LpAP} &\\xrightleftharpoons[kb7]{df ka7} \\mathrm{LpAPLp} \\\\\n",
       "\\mathrm{LpAPLp} &\\xrightarrow{kcat7} \\mathrm{L} + \\mathrm{LpAP} \\\\\n",
       "\\mathrm{Lp} + \\mathrm{AK} &\\xrightleftharpoons[kb2]{ka2} \\mathrm{LpAK} \\\\\n",
       "\\mathrm{Lp} + \\mathrm{AKL} &\\xrightleftharpoons[kb2]{df ka2} \\mathrm{LpAKL} \\\\\n",
       "\\mathrm{Lp} + \\mathrm{AP} &\\xrightleftharpoons[kb2]{ka2} \\mathrm{LpAP} \\\\\n",
       "\\mathrm{Lp} + \\mathrm{APLp} &\\xrightleftharpoons[kb2]{df ka2} \\mathrm{LpAPLp} \\\\\n",
       "\\mathrm{A} + \\mathrm{K} &\\xrightleftharpoons[kb3]{ka3} \\mathrm{AK} \\\\\n",
       "\\mathrm{A} + \\mathrm{P} &\\xrightleftharpoons[kb4]{ka4} \\mathrm{AP} \\\\\n",
       "\\mathrm{A} + \\mathrm{LK} &\\xrightleftharpoons[kb3]{ka3} \\mathrm{AKL} \\\\\n",
       "\\mathrm{A} + \\mathrm{LpP} &\\xrightleftharpoons[kb4]{ka4} \\mathrm{APLp} \\\\\n",
       "\\mathrm{LpA} + \\mathrm{LK} &\\xrightleftharpoons[kb3]{df ka3} \\mathrm{LpAKL} \\\\\n",
       "\\mathrm{LpA} + \\mathrm{LpP} &\\xrightleftharpoons[kb4]{df ka4} \\mathrm{LpAPLp} \\\\\n",
       "\\mathrm{AK} + \\mathrm{L} &\\xrightleftharpoons[kb1]{ka1} \\mathrm{AKL} \\\\\n",
       "\\mathrm{AKL} &\\xrightarrow{kcat1} \\mathrm{Lp} + \\mathrm{AK} \\\\\n",
       "\\mathrm{AP} + \\mathrm{Lp} &\\xrightleftharpoons[kb7]{ka7} \\mathrm{APLp} \\\\\n",
       "\\mathrm{APLp} &\\xrightarrow{kcat7} \\mathrm{L} + \\mathrm{AP}  \n",
       " \\end{align*}\n",
       " $$"
      ],
      "text/plain": [
       "\u001b[0m\u001b[1mModel fullrn\u001b[22m\n",
       "\u001b[0m\u001b[1mStates (16):\u001b[22m\n",
       "  L(t)\n",
       "  K(t)\n",
       "  P(t)\n",
       "  A(t)\n",
       "⋮\n",
       "\u001b[0m\u001b[1mParameters (14):\u001b[22m\n",
       "  ka1\n",
       "  kb1\n",
       "  kcat1\n",
       "  ka2\n",
       "⋮"
      ]
     },
     "metadata": {},
     "output_type": "display_data"
    }
   ],
   "source": [
    "const fullrn = @reaction_network fullrn begin\n",
    "    @parameters ka1 kb1 kcat1 ka2 kb2 ka3 kb3 ka4 kb4 ka7 kb7 kcat7 y\n",
    "    @species L(t) K(t) P(t) A(t) Lp(t) LpA(t) LK(t) LpP(t) LpAK(t) LpAP(t) LpAKL(t) LpAPLp(t) AK(t) AP(t) AKL(t) APLp(t)\n",
    "    # ALIASES: L = PIP, Lp = PIP2, K = Kinase (PIP5K), P = Phosphatase (Synaptojanin), A = AP2 \n",
    "    # reactions between the same binding interfaces will have the same rate constant no matter the dimensionality or complex\n",
    "    (ka1,kb1), L + K <--> LK # L binding to kinase\n",
    "    kcat1, LK --> Lp + K # L phosphorylation by kinase into Lp\n",
    "    (ka2,kb2), Lp + A <--> LpA # Lp binding to AP2 adaptor\n",
    "    (ka3,kb3), LpA + K <--> LpAK # Membrane-bound adaptor binding to kinase\n",
    "    (ka1*df,kb1), LpAK + L <--> LpAKL # 2D reaction: Membrane-bound kinase binds to L with greater affinity as determined by y (V/A)\n",
    "    kcat1, LpAKL --> Lp + LpAK # L phosphorylation by kinase into Lp, same as 3D: first order reactions aren't dependent on dimensionality \n",
    "    (ka7,kb7), Lp + P <--> LpP # Lp binding to phosphatase\n",
    "    kcat7, LpP --> L + P # L dephosphorylation by phosphatase\n",
    "    (ka4,kb4), LpA + P <--> LpAP # Membrane-bound adaptor binding to phosphatase \n",
    "    (ka7*df,kb7), Lp + LpAP <--> LpAPLp # 2D reaction: Membrane-bound phosphatase binds to Lp with greater affinity as determined by y (V/A)\n",
    "    kcat7, LpAPLp --> L + LpAP # L dephosphorylation by phosphatase, same as 3D: first order reactions aren't dependent on dimensionality\n",
    "\n",
    "    #previously excluded reactions, all possible combinations possible in vitro\n",
    "    (ka2,kb2), Lp + AK <--> LpAK\n",
    "    (ka2*df,kb2), Lp + AKL <--> LpAKL\n",
    "    (ka2,kb2), Lp + AP <--> LpAP\n",
    "    (ka2*df,kb2), Lp + APLp <--> LpAPLp\n",
    "    (ka3,kb3), A + K <--> AK\n",
    "    (ka4,kb4), A + P <--> AP\n",
    "    (ka3,kb3), A + LK <--> AKL\n",
    "    (ka4,kb4), A + LpP <--> APLp\n",
    "    (ka3*df,kb3), LpA + LK <--> LpAKL\n",
    "    (ka4*df,kb4), LpA + LpP <--> LpAPLp\n",
    "    (ka1,kb1), AK + L <--> AKL #binding of kinase to lipid\n",
    "    kcat1, AKL --> Lp + AK #phosphorylation of lipid\n",
    "    (ka7,kb7), AP + Lp <--> APLp #binding of phosphatase to lipid\n",
    "    kcat7, APLp --> L + AP #dephosphorylation of lipid\n",
    "end"
   ]
  },
  {
   "cell_type": "code",
   "execution_count": 8,
   "metadata": {},
   "outputs": [
    {
     "data": {
      "text/latex": [
       "$$ \\begin{align}\n",
       "\\frac{\\mathrm{d} L\\left( t \\right)}{\\mathrm{d}t} =& kb1 \\mathrm{AKL}\\left( t \\right) + kcat7 \\mathrm{APLp}\\left( t \\right) + kb1 \\mathrm{LK}\\left( t \\right) + kb1 \\mathrm{LpAKL}\\left( t \\right) + kcat7 \\mathrm{LpAPLp}\\left( t \\right) + kcat7 \\mathrm{LpP}\\left( t \\right) - ka1 \\mathrm{AK}\\left( t \\right) L\\left( t \\right) - ka1 K\\left( t \\right) L\\left( t \\right) - df ka1 L\\left( t \\right) \\mathrm{LpAK}\\left( t \\right) \\\\\n",
       "\\frac{\\mathrm{d} K\\left( t \\right)}{\\mathrm{d}t} =& kb1 \\mathrm{LK}\\left( t \\right) + kb3 \\mathrm{AK}\\left( t \\right) + kcat1 \\mathrm{LK}\\left( t \\right) + kb3 \\mathrm{LpAK}\\left( t \\right) - ka3 A\\left( t \\right) K\\left( t \\right) - ka1 K\\left( t \\right) L\\left( t \\right) - ka3 K\\left( t \\right) \\mathrm{LpA}\\left( t \\right) \\\\\n",
       "\\frac{\\mathrm{d} P\\left( t \\right)}{\\mathrm{d}t} =& kb4 \\mathrm{AP}\\left( t \\right) + kb4 \\mathrm{LpAP}\\left( t \\right) + kb7 \\mathrm{LpP}\\left( t \\right) + kcat7 \\mathrm{LpP}\\left( t \\right) - ka4 A\\left( t \\right) P\\left( t \\right) - ka7 \\mathrm{Lp}\\left( t \\right) P\\left( t \\right) - ka4 \\mathrm{LpA}\\left( t \\right) P\\left( t \\right) \\\\\n",
       "\\frac{\\mathrm{d} A\\left( t \\right)}{\\mathrm{d}t} =& kb2 \\mathrm{LpA}\\left( t \\right) + kb3 \\mathrm{AK}\\left( t \\right) + kb3 \\mathrm{AKL}\\left( t \\right) + kb4 \\mathrm{AP}\\left( t \\right) + kb4 \\mathrm{APLp}\\left( t \\right) - ka2 A\\left( t \\right) \\mathrm{Lp}\\left( t \\right) - ka3 A\\left( t \\right) K\\left( t \\right) - ka3 A\\left( t \\right) \\mathrm{LK}\\left( t \\right) - ka4 A\\left( t \\right) \\mathrm{LpP}\\left( t \\right) - ka4 A\\left( t \\right) P\\left( t \\right) \\\\\n",
       "\\frac{\\mathrm{d} \\mathrm{Lp}\\left( t \\right)}{\\mathrm{d}t} =& kb7 \\mathrm{APLp}\\left( t \\right) + kcat1 \\mathrm{AKL}\\left( t \\right) + kcat1 \\mathrm{LK}\\left( t \\right) + kb2 \\mathrm{LpA}\\left( t \\right) + kb2 \\mathrm{LpAK}\\left( t \\right) + kb2 \\mathrm{LpAKL}\\left( t \\right) + kb2 \\mathrm{LpAP}\\left( t \\right) + kcat1 \\mathrm{LpAKL}\\left( t \\right) + kb2 \\mathrm{LpAPLp}\\left( t \\right) + kb7 \\mathrm{LpAPLp}\\left( t \\right) + kb7 \\mathrm{LpP}\\left( t \\right) - ka2 A\\left( t \\right) \\mathrm{Lp}\\left( t \\right) - ka2 \\mathrm{AK}\\left( t \\right) \\mathrm{Lp}\\left( t \\right) - ka2 \\mathrm{AP}\\left( t \\right) \\mathrm{Lp}\\left( t \\right) - ka7 \\mathrm{AP}\\left( t \\right) \\mathrm{Lp}\\left( t \\right) - ka7 \\mathrm{Lp}\\left( t \\right) P\\left( t \\right) - df ka2 \\mathrm{AKL}\\left( t \\right) \\mathrm{Lp}\\left( t \\right) - df ka2 \\mathrm{APLp}\\left( t \\right) \\mathrm{Lp}\\left( t \\right) - df ka7 \\mathrm{Lp}\\left( t \\right) \\mathrm{LpAP}\\left( t \\right) \\\\\n",
       "\\frac{\\mathrm{d} \\mathrm{LpA}\\left( t \\right)}{\\mathrm{d}t} =& kb3 \\mathrm{LpAK}\\left( t \\right) + kb3 \\mathrm{LpAKL}\\left( t \\right) + kb4 \\mathrm{LpAP}\\left( t \\right) + kb4 \\mathrm{LpAPLp}\\left( t \\right) + ka2 A\\left( t \\right) \\mathrm{Lp}\\left( t \\right) - kb2 \\mathrm{LpA}\\left( t \\right) - ka3 K\\left( t \\right) \\mathrm{LpA}\\left( t \\right) - ka4 \\mathrm{LpA}\\left( t \\right) P\\left( t \\right) - df ka3 \\mathrm{LK}\\left( t \\right) \\mathrm{LpA}\\left( t \\right) - df ka4 \\mathrm{LpA}\\left( t \\right) \\mathrm{LpP}\\left( t \\right) \\\\\n",
       "\\frac{\\mathrm{d} \\mathrm{LK}\\left( t \\right)}{\\mathrm{d}t} =& kb3 \\mathrm{AKL}\\left( t \\right) + kb3 \\mathrm{LpAKL}\\left( t \\right) - kb1 \\mathrm{LK}\\left( t \\right) - kcat1 \\mathrm{LK}\\left( t \\right) + ka1 K\\left( t \\right) L\\left( t \\right) - ka3 A\\left( t \\right) \\mathrm{LK}\\left( t \\right) - df ka3 \\mathrm{LK}\\left( t \\right) \\mathrm{LpA}\\left( t \\right) \\\\\n",
       "\\frac{\\mathrm{d} \\mathrm{LpP}\\left( t \\right)}{\\mathrm{d}t} =& kb4 \\mathrm{APLp}\\left( t \\right) + kb4 \\mathrm{LpAPLp}\\left( t \\right) - kb7 \\mathrm{LpP}\\left( t \\right) - kcat7 \\mathrm{LpP}\\left( t \\right) + ka7 \\mathrm{Lp}\\left( t \\right) P\\left( t \\right) - ka4 A\\left( t \\right) \\mathrm{LpP}\\left( t \\right) - df ka4 \\mathrm{LpA}\\left( t \\right) \\mathrm{LpP}\\left( t \\right) \\\\\n",
       "\\frac{\\mathrm{d} \\mathrm{LpAK}\\left( t \\right)}{\\mathrm{d}t} =& kb1 \\mathrm{LpAKL}\\left( t \\right) + kcat1 \\mathrm{LpAKL}\\left( t \\right) - kb2 \\mathrm{LpAK}\\left( t \\right) + ka2 \\mathrm{AK}\\left( t \\right) \\mathrm{Lp}\\left( t \\right) + ka3 K\\left( t \\right) \\mathrm{LpA}\\left( t \\right) - kb3 \\mathrm{LpAK}\\left( t \\right) - df ka1 L\\left( t \\right) \\mathrm{LpAK}\\left( t \\right) \\\\\n",
       "\\frac{\\mathrm{d} \\mathrm{LpAP}\\left( t \\right)}{\\mathrm{d}t} =& kb7 \\mathrm{LpAPLp}\\left( t \\right) + kcat7 \\mathrm{LpAPLp}\\left( t \\right) - kb2 \\mathrm{LpAP}\\left( t \\right) + ka2 \\mathrm{AP}\\left( t \\right) \\mathrm{Lp}\\left( t \\right) - kb4 \\mathrm{LpAP}\\left( t \\right) + ka4 \\mathrm{LpA}\\left( t \\right) P\\left( t \\right) - df ka7 \\mathrm{Lp}\\left( t \\right) \\mathrm{LpAP}\\left( t \\right) \\\\\n",
       "\\frac{\\mathrm{d} \\mathrm{LpAKL}\\left( t \\right)}{\\mathrm{d}t} =&  - kb1 \\mathrm{LpAKL}\\left( t \\right) - kb2 \\mathrm{LpAKL}\\left( t \\right) - kb3 \\mathrm{LpAKL}\\left( t \\right) - kcat1 \\mathrm{LpAKL}\\left( t \\right) + df ka2 \\mathrm{AKL}\\left( t \\right) \\mathrm{Lp}\\left( t \\right) + df ka3 \\mathrm{LK}\\left( t \\right) \\mathrm{LpA}\\left( t \\right) + df ka1 L\\left( t \\right) \\mathrm{LpAK}\\left( t \\right) \\\\\n",
       "\\frac{\\mathrm{d} \\mathrm{LpAPLp}\\left( t \\right)}{\\mathrm{d}t} =&  - kb2 \\mathrm{LpAPLp}\\left( t \\right) - kb4 \\mathrm{LpAPLp}\\left( t \\right) - kb7 \\mathrm{LpAPLp}\\left( t \\right) - kcat7 \\mathrm{LpAPLp}\\left( t \\right) + df ka2 \\mathrm{APLp}\\left( t \\right) \\mathrm{Lp}\\left( t \\right) + df ka7 \\mathrm{Lp}\\left( t \\right) \\mathrm{LpAP}\\left( t \\right) + df ka4 \\mathrm{LpA}\\left( t \\right) \\mathrm{LpP}\\left( t \\right) \\\\\n",
       "\\frac{\\mathrm{d} \\mathrm{AK}\\left( t \\right)}{\\mathrm{d}t} =& kb1 \\mathrm{AKL}\\left( t \\right) + kb2 \\mathrm{LpAK}\\left( t \\right) + kcat1 \\mathrm{AKL}\\left( t \\right) - kb3 \\mathrm{AK}\\left( t \\right) + ka3 A\\left( t \\right) K\\left( t \\right) - ka1 \\mathrm{AK}\\left( t \\right) L\\left( t \\right) - ka2 \\mathrm{AK}\\left( t \\right) \\mathrm{Lp}\\left( t \\right) \\\\\n",
       "\\frac{\\mathrm{d} \\mathrm{AP}\\left( t \\right)}{\\mathrm{d}t} =& kb2 \\mathrm{LpAP}\\left( t \\right) + kb7 \\mathrm{APLp}\\left( t \\right) + kcat7 \\mathrm{APLp}\\left( t \\right) - kb4 \\mathrm{AP}\\left( t \\right) + ka4 A\\left( t \\right) P\\left( t \\right) - ka2 \\mathrm{AP}\\left( t \\right) \\mathrm{Lp}\\left( t \\right) - ka7 \\mathrm{AP}\\left( t \\right) \\mathrm{Lp}\\left( t \\right) \\\\\n",
       "\\frac{\\mathrm{d} \\mathrm{AKL}\\left( t \\right)}{\\mathrm{d}t} =& kb2 \\mathrm{LpAKL}\\left( t \\right) - kb1 \\mathrm{AKL}\\left( t \\right) - kb3 \\mathrm{AKL}\\left( t \\right) - kcat1 \\mathrm{AKL}\\left( t \\right) + ka3 A\\left( t \\right) \\mathrm{LK}\\left( t \\right) + ka1 \\mathrm{AK}\\left( t \\right) L\\left( t \\right) - df ka2 \\mathrm{AKL}\\left( t \\right) \\mathrm{Lp}\\left( t \\right) \\\\\n",
       "\\frac{\\mathrm{d} \\mathrm{APLp}\\left( t \\right)}{\\mathrm{d}t} =& kb2 \\mathrm{LpAPLp}\\left( t \\right) - kb4 \\mathrm{APLp}\\left( t \\right) - kb7 \\mathrm{APLp}\\left( t \\right) - kcat7 \\mathrm{APLp}\\left( t \\right) + ka7 \\mathrm{AP}\\left( t \\right) \\mathrm{Lp}\\left( t \\right) + ka4 A\\left( t \\right) \\mathrm{LpP}\\left( t \\right) - df ka2 \\mathrm{APLp}\\left( t \\right) \\mathrm{Lp}\\left( t \\right)\n",
       "\\end{align}\n",
       " $$"
      ],
      "text/plain": [
       "\u001b[0m\u001b[1mModel fullrn with 16 \u001b[22m\u001b[0m\u001b[1mequations\u001b[22m\n",
       "\u001b[0m\u001b[1mStates (16):\u001b[22m\n",
       "  L(t)\n",
       "  K(t)\n",
       "  P(t)\n",
       "  A(t)\n",
       "⋮\n",
       "\u001b[0m\u001b[1mParameters (14):\u001b[22m\n",
       "  ka1\n",
       "  kb1\n",
       "  kcat1\n",
       "  ka2\n",
       "⋮"
      ]
     },
     "metadata": {},
     "output_type": "display_data"
    }
   ],
   "source": [
    "convert(ODESystem, fullrn)"
   ]
  },
  {
   "cell_type": "code",
   "execution_count": 3,
   "metadata": {},
   "outputs": [
    {
     "name": "stderr",
     "output_type": "stream",
     "text": [
      "WARNING: both Symbolics and ModelingToolkit export \"supremum\"; uses of it in module Catalyst must be qualified\n",
      "WARNING: both Symbolics and ModelingToolkit export \"infimum\"; uses of it in module Catalyst must be qualified\n"
     ]
    },
    {
     "data": {
      "text/latex": [
       "$$ \\begin{align*}\n",
       "\\mathrm{L} + \\mathrm{K} &\\xrightleftharpoons[kb1]{ka1} \\mathrm{LK} \\\\\n",
       "\\mathrm{LK} &\\xrightarrow{kcat1} \\mathrm{Lp} + \\mathrm{K} \\\\\n",
       "\\mathrm{Lp} + \\mathrm{A} &\\xrightleftharpoons[kb2]{ka2} \\mathrm{LpA} \\\\\n",
       "\\mathrm{LpA} + \\mathrm{K} &\\xrightleftharpoons[kb3]{ka3} \\mathrm{LpAK} \\\\\n",
       "\\mathrm{LpAK} + \\mathrm{L} &\\xrightleftharpoons[kb1]{df ka1} \\mathrm{LpAKL} \\\\\n",
       "\\mathrm{LpAKL} &\\xrightarrow{kcat1} \\mathrm{Lp} + \\mathrm{LpAK} \\\\\n",
       "\\mathrm{Lp} + \\mathrm{P} &\\xrightleftharpoons[kb7]{ka7} \\mathrm{LpP} \\\\\n",
       "\\mathrm{LpP} &\\xrightarrow{kcat7} \\mathrm{L} + \\mathrm{P} \\\\\n",
       "\\mathrm{LpA} + \\mathrm{P} &\\xrightleftharpoons[kb4]{ka4} \\mathrm{LpAP} \\\\\n",
       "\\mathrm{Lp} + \\mathrm{LpAP} &\\xrightleftharpoons[kb7]{df ka7} \\mathrm{LpAPLp} \\\\\n",
       "\\mathrm{LpAPLp} &\\xrightarrow{kcat7} \\mathrm{L} + \\mathrm{LpAP}  \n",
       " \\end{align*}\n",
       " $$"
      ],
      "text/plain": [
       "\u001b[0m\u001b[1mModel fullrn\u001b[22m\n",
       "\u001b[0m\u001b[1mStates (12):\u001b[22m\n",
       "  L(t)\n",
       "  K(t)\n",
       "  P(t)\n",
       "  A(t)\n",
       "⋮\n",
       "\u001b[0m\u001b[1mParameters (13):\u001b[22m\n",
       "  ka1\n",
       "  kb1\n",
       "  kcat1\n",
       "  ka2\n",
       "⋮"
      ]
     },
     "metadata": {},
     "output_type": "display_data"
    }
   ],
   "source": [
    "#We exclude all the random reactions between small compounds that NERDSS needs to function\n",
    "twelveVarReaction = @reaction_network fullrn begin\n",
    "    @parameters ka1 kb1 kcat1 ka2 kb2 ka3 kb3 ka4 kb4 ka7 kb7 kcat7 df\n",
    "    @species L(t) K(t) P(t) A(t) Lp(t) LpA(t) LK(t) LpP(t) LpAK(t) LpAP(t) LpAKL(t) LpAPLp(t)\n",
    "    # ALIASES: L = PIP, Lp = PIP2, K = Kinase (PIP5K), P = Phosphatase (Synaptojanin), A = AP2 \n",
    "    # reactions between the same binding interfaces will have the same rate constant no matter the dimensionality or complex\n",
    "    (ka1,kb1), L + K <--> LK # L binding to kinase\n",
    "    kcat1, LK --> Lp + K # L phosphorylation by kinase into Lp\n",
    "    (ka2,kb2), Lp + A <--> LpA # Lp binding to AP2 adaptor\n",
    "    (ka3,kb3), LpA + K <--> LpAK # Membrane-bound adaptor binding to kinase\n",
    "    (ka1*df,kb1), LpAK + L <--> LpAKL # 2D reaction: Membrane-bound kinase binds to L with greater affinity as determined by y (V/A)\n",
    "    kcat1, LpAKL --> Lp + LpAK # L phosphorylation by kinase into Lp, same as 3D: first order reactions aren't dependent on dimensionality \n",
    "    (ka7,kb7), Lp + P <--> LpP # Lp binding to phosphatase\n",
    "    kcat7, LpP --> L + P # L dephosphorylation by phosphatase\n",
    "    (ka4,kb4), LpA + P <--> LpAP # Membrane-bound adaptor binding to phosphatase \n",
    "    (ka7*df,kb7), Lp + LpAP <--> LpAPLp # 2D reaction: Membrane-bound phosphatase binds to Lp with greater affinity as determined by y (V/A)\n",
    "    kcat7, LpAPLp --> L + LpAP # L dephosphorylation by phosphatase, same as 3D: first order reactions aren't dependent on dimensionality\n",
    "end"
   ]
  },
  {
   "cell_type": "code",
   "execution_count": 4,
   "metadata": {},
   "outputs": [
    {
     "data": {
      "text/latex": [
       "$$ \\begin{align}\n",
       "\\frac{\\mathrm{d} L\\left( t \\right)}{\\mathrm{d}t} =& kb1 \\mathrm{LK}\\left( t \\right) + kb1 \\mathrm{LpAKL}\\left( t \\right) + kcat7 \\mathrm{LpAPLp}\\left( t \\right) + kcat7 \\mathrm{LpP}\\left( t \\right) - ka1 K\\left( t \\right) L\\left( t \\right) - df ka1 L\\left( t \\right) \\mathrm{LpAK}\\left( t \\right) \\\\\n",
       "\\frac{\\mathrm{d} K\\left( t \\right)}{\\mathrm{d}t} =& kb1 \\mathrm{LK}\\left( t \\right) + kcat1 \\mathrm{LK}\\left( t \\right) + kb3 \\mathrm{LpAK}\\left( t \\right) - ka1 K\\left( t \\right) L\\left( t \\right) - ka3 K\\left( t \\right) \\mathrm{LpA}\\left( t \\right) \\\\\n",
       "\\frac{\\mathrm{d} P\\left( t \\right)}{\\mathrm{d}t} =& kb4 \\mathrm{LpAP}\\left( t \\right) + kb7 \\mathrm{LpP}\\left( t \\right) + kcat7 \\mathrm{LpP}\\left( t \\right) - ka7 \\mathrm{Lp}\\left( t \\right) P\\left( t \\right) - ka4 \\mathrm{LpA}\\left( t \\right) P\\left( t \\right) \\\\\n",
       "\\frac{\\mathrm{d} A\\left( t \\right)}{\\mathrm{d}t} =& kb2 \\mathrm{LpA}\\left( t \\right) - ka2 A\\left( t \\right) \\mathrm{Lp}\\left( t \\right) \\\\\n",
       "\\frac{\\mathrm{d} \\mathrm{Lp}\\left( t \\right)}{\\mathrm{d}t} =& kcat1 \\mathrm{LK}\\left( t \\right) + kb2 \\mathrm{LpA}\\left( t \\right) + kb7 \\mathrm{LpAPLp}\\left( t \\right) + kb7 \\mathrm{LpP}\\left( t \\right) + kcat1 \\mathrm{LpAKL}\\left( t \\right) - ka2 A\\left( t \\right) \\mathrm{Lp}\\left( t \\right) - ka7 \\mathrm{Lp}\\left( t \\right) P\\left( t \\right) - df ka7 \\mathrm{Lp}\\left( t \\right) \\mathrm{LpAP}\\left( t \\right) \\\\\n",
       "\\frac{\\mathrm{d} \\mathrm{LpA}\\left( t \\right)}{\\mathrm{d}t} =& kb3 \\mathrm{LpAK}\\left( t \\right) + kb4 \\mathrm{LpAP}\\left( t \\right) + ka2 A\\left( t \\right) \\mathrm{Lp}\\left( t \\right) - kb2 \\mathrm{LpA}\\left( t \\right) - ka3 K\\left( t \\right) \\mathrm{LpA}\\left( t \\right) - ka4 \\mathrm{LpA}\\left( t \\right) P\\left( t \\right) \\\\\n",
       "\\frac{\\mathrm{d} \\mathrm{LK}\\left( t \\right)}{\\mathrm{d}t} =&  - kb1 \\mathrm{LK}\\left( t \\right) - kcat1 \\mathrm{LK}\\left( t \\right) + ka1 K\\left( t \\right) L\\left( t \\right) \\\\\n",
       "\\frac{\\mathrm{d} \\mathrm{LpP}\\left( t \\right)}{\\mathrm{d}t} =&  - kb7 \\mathrm{LpP}\\left( t \\right) - kcat7 \\mathrm{LpP}\\left( t \\right) + ka7 \\mathrm{Lp}\\left( t \\right) P\\left( t \\right) \\\\\n",
       "\\frac{\\mathrm{d} \\mathrm{LpAK}\\left( t \\right)}{\\mathrm{d}t} =& kb1 \\mathrm{LpAKL}\\left( t \\right) + kcat1 \\mathrm{LpAKL}\\left( t \\right) + ka3 K\\left( t \\right) \\mathrm{LpA}\\left( t \\right) - kb3 \\mathrm{LpAK}\\left( t \\right) - df ka1 L\\left( t \\right) \\mathrm{LpAK}\\left( t \\right) \\\\\n",
       "\\frac{\\mathrm{d} \\mathrm{LpAP}\\left( t \\right)}{\\mathrm{d}t} =& kb7 \\mathrm{LpAPLp}\\left( t \\right) + kcat7 \\mathrm{LpAPLp}\\left( t \\right) - kb4 \\mathrm{LpAP}\\left( t \\right) + ka4 \\mathrm{LpA}\\left( t \\right) P\\left( t \\right) - df ka7 \\mathrm{Lp}\\left( t \\right) \\mathrm{LpAP}\\left( t \\right) \\\\\n",
       "\\frac{\\mathrm{d} \\mathrm{LpAKL}\\left( t \\right)}{\\mathrm{d}t} =&  - kb1 \\mathrm{LpAKL}\\left( t \\right) - kcat1 \\mathrm{LpAKL}\\left( t \\right) + df ka1 L\\left( t \\right) \\mathrm{LpAK}\\left( t \\right) \\\\\n",
       "\\frac{\\mathrm{d} \\mathrm{LpAPLp}\\left( t \\right)}{\\mathrm{d}t} =&  - kb7 \\mathrm{LpAPLp}\\left( t \\right) - kcat7 \\mathrm{LpAPLp}\\left( t \\right) + df ka7 \\mathrm{Lp}\\left( t \\right) \\mathrm{LpAP}\\left( t \\right)\n",
       "\\end{align}\n",
       " $$"
      ],
      "text/plain": [
       "\u001b[0m\u001b[1mModel fullrn with 12 \u001b[22m\u001b[0m\u001b[1mequations\u001b[22m\n",
       "\u001b[0m\u001b[1mStates (12):\u001b[22m\n",
       "  L(t)\n",
       "  K(t)\n",
       "  P(t)\n",
       "  A(t)\n",
       "⋮\n",
       "\u001b[0m\u001b[1mParameters (13):\u001b[22m\n",
       "  ka1\n",
       "  kb1\n",
       "  kcat1\n",
       "  ka2\n",
       "⋮"
      ]
     },
     "metadata": {},
     "output_type": "display_data"
    }
   ],
   "source": [
    "convert(ODESystem, twelveVarReaction)"
   ]
  },
  {
   "cell_type": "code",
   "execution_count": 5,
   "metadata": {},
   "outputs": [
    {
     "data": {
      "text/latex": [
       "$$ \\begin{align*}\n",
       "\\mathrm{Lp} + \\mathrm{A} &\\xrightleftharpoons[kb2]{ka2} \\mathrm{LpA} \\\\\n",
       "\\mathrm{LpA} + \\mathrm{K} &\\xrightleftharpoons[kb3]{ka3} \\mathrm{LpAK} \\\\\n",
       "\\mathrm{LpAK} + \\mathrm{L} &\\xrightleftharpoons[kb1]{df ka1} \\mathrm{LpAKL} \\\\\n",
       "\\mathrm{LpAKL} &\\xrightarrow{kcat1} \\mathrm{Lp} + \\mathrm{LpAK} \\\\\n",
       "\\mathrm{LpA} + \\mathrm{P} &\\xrightleftharpoons[kb4]{ka4} \\mathrm{LpAP} \\\\\n",
       "\\mathrm{Lp} + \\mathrm{LpAP} &\\xrightleftharpoons[kb7]{df ka7} \\mathrm{LpAPLp} \\\\\n",
       "\\mathrm{LpAPLp} &\\xrightarrow{kcat7} \\mathrm{L} + \\mathrm{LpAP}  \n",
       " \\end{align*}\n",
       " $$"
      ],
      "text/plain": [
       "\u001b[0m\u001b[1mModel fullrn\u001b[22m\n",
       "\u001b[0m\u001b[1mStates (10):\u001b[22m\n",
       "  L(t)\n",
       "  K(t)\n",
       "  P(t)\n",
       "  A(t)\n",
       "⋮\n",
       "\u001b[0m\u001b[1mParameters (13):\u001b[22m\n",
       "  ka1\n",
       "  kb1\n",
       "  kcat1\n",
       "  ka2\n",
       "⋮"
      ]
     },
     "metadata": {},
     "output_type": "display_data"
    }
   ],
   "source": [
    "#We exclude all the reactions that take place off the membrane\n",
    "onlyMembraneReactions = @reaction_network fullrn begin\n",
    "    @parameters ka1 kb1 kcat1 ka2 kb2 ka3 kb3 ka4 kb4 ka7 kb7 kcat7 df\n",
    "    @species L(t) K(t) P(t) A(t) Lp(t) LpA(t) LpAK(t) LpAP(t) LpAKL(t) LpAPLp(t)\n",
    "    # ALIASES: L = PIP, Lp = PIP2, K = Kinase (PIP5K), P = Phosphatase (Synaptojanin), A = AP2 \n",
    "    # reactions between the same binding interfaces will have the same rate constant no matter the dimensionality or complex\n",
    "    (ka2,kb2), Lp + A <--> LpA # Lp binding to AP2 adaptor\n",
    "    (ka3,kb3), LpA + K <--> LpAK # Membrane-bound adaptor binding to kinase\n",
    "    (ka1*df,kb1), LpAK + L <--> LpAKL # 2D reaction: Membrane-bound kinase binds to L with greater affinity as determined by y (V/A)\n",
    "    kcat1, LpAKL --> Lp + LpAK # L phosphorylation by kinase into Lp, same as 3D: first order reactions aren't dependent on dimensionality \n",
    "    (ka4,kb4), LpA + P <--> LpAP # Membrane-bound adaptor binding to phosphatase \n",
    "    (ka7*df,kb7), Lp + LpAP <--> LpAPLp # 2D reaction: Membrane-bound phosphatase binds to Lp with greater affinity as determined by y (V/A)\n",
    "    kcat7, LpAPLp --> L + LpAP # L dephosphorylation by phosphatase, same as 3D: first order reactions aren't dependent on dimensionality\n",
    "end"
   ]
  },
  {
   "cell_type": "code",
   "execution_count": 6,
   "metadata": {},
   "outputs": [
    {
     "data": {
      "text/latex": [
       "$$ \\begin{align}\n",
       "\\frac{\\mathrm{d} L\\left( t \\right)}{\\mathrm{d}t} =& kb1 \\mathrm{LpAKL}\\left( t \\right) + kcat7 \\mathrm{LpAPLp}\\left( t \\right) - df ka1 L\\left( t \\right) \\mathrm{LpAK}\\left( t \\right) \\\\\n",
       "\\frac{\\mathrm{d} K\\left( t \\right)}{\\mathrm{d}t} =& kb3 \\mathrm{LpAK}\\left( t \\right) - ka3 K\\left( t \\right) \\mathrm{LpA}\\left( t \\right) \\\\\n",
       "\\frac{\\mathrm{d} P\\left( t \\right)}{\\mathrm{d}t} =& kb4 \\mathrm{LpAP}\\left( t \\right) - ka4 \\mathrm{LpA}\\left( t \\right) P\\left( t \\right) \\\\\n",
       "\\frac{\\mathrm{d} A\\left( t \\right)}{\\mathrm{d}t} =& kb2 \\mathrm{LpA}\\left( t \\right) - ka2 A\\left( t \\right) \\mathrm{Lp}\\left( t \\right) \\\\\n",
       "\\frac{\\mathrm{d} \\mathrm{Lp}\\left( t \\right)}{\\mathrm{d}t} =& kb2 \\mathrm{LpA}\\left( t \\right) + kb7 \\mathrm{LpAPLp}\\left( t \\right) + kcat1 \\mathrm{LpAKL}\\left( t \\right) - ka2 A\\left( t \\right) \\mathrm{Lp}\\left( t \\right) - df ka7 \\mathrm{Lp}\\left( t \\right) \\mathrm{LpAP}\\left( t \\right) \\\\\n",
       "\\frac{\\mathrm{d} \\mathrm{LpA}\\left( t \\right)}{\\mathrm{d}t} =& kb3 \\mathrm{LpAK}\\left( t \\right) + kb4 \\mathrm{LpAP}\\left( t \\right) + ka2 A\\left( t \\right) \\mathrm{Lp}\\left( t \\right) - kb2 \\mathrm{LpA}\\left( t \\right) - ka3 K\\left( t \\right) \\mathrm{LpA}\\left( t \\right) - ka4 \\mathrm{LpA}\\left( t \\right) P\\left( t \\right) \\\\\n",
       "\\frac{\\mathrm{d} \\mathrm{LpAK}\\left( t \\right)}{\\mathrm{d}t} =& kb1 \\mathrm{LpAKL}\\left( t \\right) + kcat1 \\mathrm{LpAKL}\\left( t \\right) + ka3 K\\left( t \\right) \\mathrm{LpA}\\left( t \\right) - kb3 \\mathrm{LpAK}\\left( t \\right) - df ka1 L\\left( t \\right) \\mathrm{LpAK}\\left( t \\right) \\\\\n",
       "\\frac{\\mathrm{d} \\mathrm{LpAP}\\left( t \\right)}{\\mathrm{d}t} =& kb7 \\mathrm{LpAPLp}\\left( t \\right) + kcat7 \\mathrm{LpAPLp}\\left( t \\right) - kb4 \\mathrm{LpAP}\\left( t \\right) + ka4 \\mathrm{LpA}\\left( t \\right) P\\left( t \\right) - df ka7 \\mathrm{Lp}\\left( t \\right) \\mathrm{LpAP}\\left( t \\right) \\\\\n",
       "\\frac{\\mathrm{d} \\mathrm{LpAKL}\\left( t \\right)}{\\mathrm{d}t} =&  - kb1 \\mathrm{LpAKL}\\left( t \\right) - kcat1 \\mathrm{LpAKL}\\left( t \\right) + df ka1 L\\left( t \\right) \\mathrm{LpAK}\\left( t \\right) \\\\\n",
       "\\frac{\\mathrm{d} \\mathrm{LpAPLp}\\left( t \\right)}{\\mathrm{d}t} =&  - kb7 \\mathrm{LpAPLp}\\left( t \\right) - kcat7 \\mathrm{LpAPLp}\\left( t \\right) + df ka7 \\mathrm{Lp}\\left( t \\right) \\mathrm{LpAP}\\left( t \\right)\n",
       "\\end{align}\n",
       " $$"
      ],
      "text/plain": [
       "\u001b[0m\u001b[1mModel fullrn with 10 \u001b[22m\u001b[0m\u001b[1mequations\u001b[22m\n",
       "\u001b[0m\u001b[1mStates (10):\u001b[22m\n",
       "  L(t)\n",
       "  K(t)\n",
       "  P(t)\n",
       "  A(t)\n",
       "⋮\n",
       "\u001b[0m\u001b[1mParameters (13):\u001b[22m\n",
       "  ka1\n",
       "  kb1\n",
       "  kcat1\n",
       "  ka2\n",
       "⋮"
      ]
     },
     "metadata": {},
     "output_type": "display_data"
    }
   ],
   "source": [
    "x = (convert(ODESystem, onlyMembraneReactions))"
   ]
  },
  {
   "cell_type": "code",
   "execution_count": null,
   "metadata": {},
   "outputs": [],
   "source": []
  }
 ],
 "metadata": {
  "kernelspec": {
   "display_name": "Julia 1.9.0",
   "language": "julia",
   "name": "julia-1.9"
  },
  "language_info": {
   "file_extension": ".jl",
   "mimetype": "application/julia",
   "name": "julia",
   "version": "1.9.0"
  }
 },
 "nbformat": 4,
 "nbformat_minor": 2
}
