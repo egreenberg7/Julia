{
 "cells": [
  {
   "cell_type": "code",
   "execution_count": 1,
   "metadata": {},
   "outputs": [
    {
     "data": {
      "application/vnd.webio.node+json": {
       "children": [],
       "instanceArgs": {
        "namespace": "html",
        "tag": "div"
       },
       "nodeType": "DOM",
       "props": {},
       "type": "node"
      },
      "text/html": [
       "<div style=\"padding: 1em; background-color: #f8d6da; border: 1px solid #f5c6cb; font-weight: bold;\">\n",
       "<p>The WebIO Jupyter extension was not detected. See the\n",
       "<a href=\"https://juliagizmos.github.io/WebIO.jl/latest/providers/ijulia/\" target=\"_blank\">\n",
       "    WebIO Jupyter integration documentation\n",
       "</a>\n",
       "for more information.\n",
       "</div>\n"
      ],
      "text/plain": [
       "WebIO._IJuliaInit()"
      ]
     },
     "metadata": {},
     "output_type": "display_data"
    }
   ],
   "source": [
    "using DifferentialEquations\n",
    "using Plots; plotlyjs()\n",
    "using Catalyst"
   ]
  },
  {
   "cell_type": "code",
   "execution_count": 2,
   "metadata": {},
   "outputs": [
    {
     "data": {
      "text/plain": [
       "my_ode_solver (generic function with 1 method)"
      ]
     },
     "execution_count": 2,
     "metadata": {},
     "output_type": "execute_result"
    }
   ],
   "source": [
    "#changed to in-place definition \n",
    "function my_ode_solver(du, u, p, t)\n",
    "    #parameter assignment, unpacked from p\n",
    "    ka1,kb1,kcat1,ka2,kb2,ka3,kb3,ka4,kb4,kcat4,ka5,kb5,kcat5,ka6,kb6,ka7,kb7,kcat7,y = p\n",
    "\n",
    "    #initial condition assignment, unpacked from u\n",
    "    L,Lp,K,LK,A,LpA,LpAK,LpAKL,P,LpP,LpAP,LpAPLp = u\n",
    "\n",
    "    du[1] = (kb1*LK) - (ka1*L*K) + (kb4*LpAKL) - (y*ka4*LpAK*L) + (kcat5*LpP) + (kcat7*LpAPLp)\n",
    "    du[2] = (kcat1*LK) - (ka2*Lp*A) + (kb2*LpA) + (kcat4*LpAKL) + (kb5*LpP) - (ka5*Lp*P) - (y*ka7*Lp*LpAP) + (kb7*LpAPLp)\n",
    "    du[3] = (kb1*LK) - (ka1*L*K) + (kcat1*LK) - (ka3*LpA*K) + (kb3*LpAK)\n",
    "    du[4] = (ka1*L*K) - (kb1*LK) - (kcat1*LK)\n",
    "    du[5] = (kb2*LpA) - (ka2*Lp*A)\n",
    "    du[6] = (ka2*Lp*A) - (kb2*LpA) + (kb3*LpAK) - (ka3*LpA*K) - (ka6*LpA*P) + (kb6*LpAP)\n",
    "    du[7] = (ka3*LpA*K) - (kb3*LpAK) + (kb4*LpAKL) - (y*ka4*LpAK*L) + (kcat4*LpAKL)\n",
    "    du[8] = (y*ka4*LpAK*L) - (kb4*LpAKL) - (kcat4*LpAKL)\n",
    "    du[9] = (kb5*LpP) + (kcat5*LpP) - (Lp*P*ka5) -(ka6*LpA*P) + (kb6*LpAP)\n",
    "    du[10] = (ka5*Lp*P) - (kb5*LpP) - (kcat5*LpP)\n",
    "    du[11] = (ka6*LpA*P) - (kb6*LpAP) - (y*ka7*Lp*LpAP) + (kb7*LpAPLp) + (kcat7*LpAPLp)\n",
    "    du[12] = (y*ka7*Lp*LpAP) - (kb7*LpAPLp) - (kcat7*LpAPLp)\n",
    "    #[dL,dLp,dK,dP,dLK,dA,dLpA,dLpAK,dLpAP,dLpAPLp,dLpAKL,dLpP]\n",
    "end"
   ]
  },
  {
   "cell_type": "code",
   "execution_count": 1,
   "metadata": {},
   "outputs": [
    {
     "ename": "LoadError",
     "evalue": "UndefVarError: ODEProblem not defined",
     "output_type": "error",
     "traceback": [
      "UndefVarError: ODEProblem not defined",
      "",
      "Stacktrace:",
      " [1] top-level scope",
      "   @ In[1]:14",
      " [2] eval",
      "   @ ./boot.jl:373 [inlined]",
      " [3] include_string(mapexpr::typeof(REPL.softscope), mod::Module, code::String, filename::String)",
      "   @ Base ./loading.jl:1196"
     ]
    }
   ],
   "source": [
    "#parameter list\n",
    "p = [0.47375415262252124, 70.82403936369272, 300.346311110198, 0.624675949351274, 10, 0.001249351898702548, \n",
    "    70, 0.47375415262252124, 70.82403936369272, 300.346311110198, 0.03748055696107644, 500, 10, 0.0624675949351274, \n",
    "    50, 0.03748055696107644, 500, 10, 1500.0]\n",
    "\n",
    "#initial condition list\n",
    "u0 = [200., 50., 100., 0., 150., 0., 0., 0., 100., 0., 0., 0.]\n",
    "\n",
    "#timespan for integration\n",
    "tspan = (0., 10.)\n",
    "\n",
    "#construct ODE problem from constructor, {false} means out of place \n",
    "\n",
    "prob = ODEProblem(my_ode_solver,u0,tspan,p)\n",
    "\n",
    "sol = solve(remake(prob, tspan = (0.,10.)), Tsit5()) #solve with non-stiff Tsit5 alg\n",
    "#plot(sol,size = (1000,700)) #time series plot example"
   ]
  },
  {
   "cell_type": "code",
   "execution_count": 4,
   "metadata": {},
   "outputs": [
    {
     "data": {
      "text/plain": [
       "getDif (generic function with 1 method)"
      ]
     },
     "execution_count": 4,
     "metadata": {},
     "output_type": "execute_result"
    }
   ],
   "source": [
    "\n",
    "# COST FUNCTIONS and dependencies \n",
    "function getDif(indexes, arrayData)\n",
    "    arrLen = length(indexes)\n",
    "    println(1)\n",
    "    sum = 0\n",
    "    for (i, ind) in enumerate(indexes)\n",
    "        println(i)\n",
    "        if i == arrLen\n",
    "            println(3)\n",
    "            break \n",
    "        end\n",
    "        sum += arrayData[ind] - arrayData[indexes[i+1]]\n",
    "    end\n",
    "    sum += arrayData[indexes[end]] \n",
    "    return sum #return statement is unneeded but just covering bases \n",
    "end"
   ]
  },
  {
   "cell_type": "code",
   "execution_count": 5,
   "metadata": {},
   "outputs": [
    {
     "data": {
      "text/plain": [
       "getSTD (generic function with 1 method)"
      ]
     },
     "execution_count": 5,
     "metadata": {},
     "output_type": "execute_result"
    }
   ],
   "source": [
    "function getSTD(indexes, arrayData, window) #get standard deviation of fft peak indexes\n",
    "    numPeaks = length(indexes)\n",
    "    arrLen = length(arrayData)\n",
    "    sum = 0\n",
    "    for ind in indexes \n",
    "        minInd = max(1, ind - window)\n",
    "        maxInd = min(arrLen, ind+window)\n",
    "        sum += std(arrayData[minInd:maxInd])\n",
    "    end\n",
    "    sum = sum/numPeaks \n",
    "    return sum\n",
    "end"
   ]
  },
  {
   "cell_type": "code",
   "execution_count": 6,
   "metadata": {},
   "outputs": [
    {
     "data": {
      "text/plain": [
       "getFrequencies1 (generic function with 1 method)"
      ]
     },
     "execution_count": 6,
     "metadata": {},
     "output_type": "execute_result"
    }
   ],
   "source": [
    "function getFrequencies1(y) #normally would slice y by interval for a sampling rate but not here\n",
    "    y1 = y\n",
    "    #fft sample rate: 1 sample per 5 minutes\n",
    "    res = broadcast(abs,rfft(y1)) #broadcast abs to all elements of rfft return array. Think .= syntax does the same \n",
    "    #normalize the amplitudes\n",
    "    norm_res = res/cld(1000, 2)\n",
    "    return norm_res #smallest integer larger than or equal to. Rounding up\n",
    "end"
   ]
  },
  {
   "cell_type": "code",
   "execution_count": 7,
   "metadata": {},
   "outputs": [
    {
     "data": {
      "text/plain": [
       "costTwo (generic function with 1 method)"
      ]
     },
     "execution_count": 7,
     "metadata": {},
     "output_type": "execute_result"
    }
   ],
   "source": [
    "##This cost function is the goal but doesn't yet work, IGNORE\n",
    "function costTwo(y)\n",
    "    Y = Array(solve(prob, tspan = (0., 100.), p = y, Tsit5()))\n",
    "    p1 = Y[1,:]\n",
    "    fftData = getFrequencies1(p1)\n",
    "\n",
    "    indexes, _ = findmaxima(fftData) \n",
    "    if length(indexes) == 0\n",
    "        return 0\n",
    "    end\n",
    "    std = getSTD(indexes, fftData, 1)\n",
    "    diff = getDif(indexes, fftData)\n",
    "    return std + diff\n",
    "end"
   ]
  },
  {
   "cell_type": "code",
   "execution_count": 8,
   "metadata": {},
   "outputs": [
    {
     "data": {
      "text/plain": [
       "findlocalmaxima (generic function with 1 method)"
      ]
     },
     "execution_count": 8,
     "metadata": {},
     "output_type": "execute_result"
    }
   ],
   "source": [
    "#homemade peakfinder\n",
    "function findlocalmaxima(signal::Vector)\n",
    "    inds = Int[]\n",
    "    buff = Zygote.Buffer(inds) #Zygote.Buffer creates mutable array that is invisible to autodifferention, aka no matrix operations allowed\n",
    "    if length(signal)>1\n",
    "        if signal[1]>signal[2]\n",
    "            push!(buff,1)\n",
    "        end\n",
    "        for i=2:length(signal)-1\n",
    "            if signal[i-1]<signal[i]>signal[i+1]\n",
    "                push!(buff,i)\n",
    "            end\n",
    "        end\n",
    "        if signal[end]>signal[end-1]\n",
    "            push!(buff,length(signal))\n",
    "        end\n",
    "    end\n",
    "    return copy(buff) #return copy of mutable buffer array to make immutable (essential for Zygote pullback)\n",
    "  end"
   ]
  },
  {
   "cell_type": "code",
   "execution_count": 9,
   "metadata": {},
   "outputs": [
    {
     "data": {
      "text/plain": [
       "testcost (generic function with 1 method)"
      ]
     },
     "execution_count": 9,
     "metadata": {},
     "output_type": "execute_result"
    }
   ],
   "source": [
    "#current testing cost function, USE \n",
    "function testcost(p)\n",
    "    Y = Array(solve(prob, tspan = (0., 100.), p = p, Tsit5()))\n",
    "    p1 = Y[1,:]\n",
    "    fftData = getFrequencies1(p1)\n",
    "    indexes = findlocalmaxima(fftData)[1]\n",
    "    if length(indexes) == 0\n",
    "        return 0\n",
    "    end\n",
    "    std = getSTD(indexes, fftData, 1)\n",
    "    diff = getDif(indexes, fftData)\n",
    "    return std + diff\n",
    "end"
   ]
  },
  {
   "cell_type": "code",
   "execution_count": 10,
   "metadata": {},
   "outputs": [
    {
     "ename": "LoadError",
     "evalue": "UndefVarError: Zygote not defined",
     "output_type": "error",
     "traceback": [
      "UndefVarError: Zygote not defined",
      "",
      "Stacktrace:",
      " [1] top-level scope",
      "   @ In[10]:1",
      " [2] eval",
      "   @ ./boot.jl:373 [inlined]",
      " [3] include_string(mapexpr::typeof(REPL.softscope), mod::Module, code::String, filename::String)",
      "   @ Base ./loading.jl:1196"
     ]
    }
   ],
   "source": [
    "dcostTwo = Zygote.gradient(testcost, p)"
   ]
  }
 ],
 "metadata": {
  "kernelspec": {
   "display_name": "Julia 1.7.3",
   "language": "julia",
   "name": "julia-1.7"
  },
  "language_info": {
   "file_extension": ".jl",
   "mimetype": "application/julia",
   "name": "julia",
   "version": "1.7.3"
  },
  "orig_nbformat": 4
 },
 "nbformat": 4,
 "nbformat_minor": 2
}
