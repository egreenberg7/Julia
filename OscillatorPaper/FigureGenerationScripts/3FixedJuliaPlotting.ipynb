{
 "cells": [
  {
   "cell_type": "code",
   "execution_count": 1,
   "metadata": {},
   "outputs": [],
   "source": [
    "begin \n",
    "    using CSV \n",
    "    using DataFrames \n",
    "    using DataFrameMacros\n",
    "    using GLMakie; GLMakie.activate!(ssao=true)\n",
    "    # using Plots \n",
    "    # using CairoMakie\n",
    "end"
   ]
  },
  {
   "cell_type": "code",
   "execution_count": 6,
   "metadata": {},
   "outputs": [
    {
     "data": {
      "text/html": [
       "<div><div style = \"float: left;\"><span>64×10 DataFrame</span></div><div style = \"float: right;\"><span style = \"font-style: italic;\">39 rows omitted</span></div><div style = \"clear: both;\"></div></div><div class = \"data-frame\" style = \"overflow-x: scroll;\"><table class = \"data-frame\" style = \"margin-bottom: 6px;\"><thead><tr class = \"header\"><th class = \"rowNumber\" style = \"font-weight: bold; text-align: right;\">Row</th><th style = \"text-align: left;\">ka1</th><th style = \"text-align: left;\">kb1</th><th style = \"text-align: left;\">kcat1</th><th style = \"text-align: left;\">num_oscillatory_points</th><th style = \"text-align: left;\">average_period</th><th style = \"text-align: left;\">maximum_period</th><th style = \"text-align: left;\">minimum_period</th><th style = \"text-align: left;\">average_amplitude</th><th style = \"text-align: left;\">maximum_amplitude</th><th style = \"text-align: left;\">minimum_amplitude</th></tr><tr class = \"subheader headerLastRow\"><th class = \"rowNumber\" style = \"font-weight: bold; text-align: right;\"></th><th title = \"Float64\" style = \"text-align: left;\">Float64</th><th title = \"Float64\" style = \"text-align: left;\">Float64</th><th title = \"Float64\" style = \"text-align: left;\">Float64</th><th title = \"Int64\" style = \"text-align: left;\">Int64</th><th title = \"Float64\" style = \"text-align: left;\">Float64</th><th title = \"Float64\" style = \"text-align: left;\">Float64</th><th title = \"Float64\" style = \"text-align: left;\">Float64</th><th title = \"Float64\" style = \"text-align: left;\">Float64</th><th title = \"Float64\" style = \"text-align: left;\">Float64</th><th title = \"Float64\" style = \"text-align: left;\">Float64</th></tr></thead><tbody><tr><td class = \"rowNumber\" style = \"font-weight: bold; text-align: right;\">1</td><td style = \"text-align: right;\">0.001</td><td style = \"text-align: right;\">0.01</td><td style = \"text-align: right;\">0.01</td><td style = \"text-align: right;\">0</td><td style = \"text-align: right;\">NaN</td><td style = \"text-align: right;\">NaN</td><td style = \"text-align: right;\">NaN</td><td style = \"text-align: right;\">NaN</td><td style = \"text-align: right;\">NaN</td><td style = \"text-align: right;\">NaN</td></tr><tr><td class = \"rowNumber\" style = \"font-weight: bold; text-align: right;\">2</td><td style = \"text-align: right;\">0.001</td><td style = \"text-align: right;\">0.01</td><td style = \"text-align: right;\">0.464159</td><td style = \"text-align: right;\">3173</td><td style = \"text-align: right;\">340.14</td><td style = \"text-align: right;\">1005.4</td><td style = \"text-align: right;\">0.0</td><td style = \"text-align: right;\">-0.0196956</td><td style = \"text-align: right;\">0.208948</td><td style = \"text-align: right;\">-0.165905</td></tr><tr><td class = \"rowNumber\" style = \"font-weight: bold; text-align: right;\">3</td><td style = \"text-align: right;\">0.001</td><td style = \"text-align: right;\">0.01</td><td style = \"text-align: right;\">21.5443</td><td style = \"text-align: right;\">5778</td><td style = \"text-align: right;\">93.7073</td><td style = \"text-align: right;\">640.1</td><td style = \"text-align: right;\">0.0</td><td style = \"text-align: right;\">-0.168171</td><td style = \"text-align: right;\">0.311765</td><td style = \"text-align: right;\">-0.431517</td></tr><tr><td class = \"rowNumber\" style = \"font-weight: bold; text-align: right;\">4</td><td style = \"text-align: right;\">0.001</td><td style = \"text-align: right;\">0.01</td><td style = \"text-align: right;\">1000.0</td><td style = \"text-align: right;\">10228</td><td style = \"text-align: right;\">118.605</td><td style = \"text-align: right;\">830.8</td><td style = \"text-align: right;\">0.0</td><td style = \"text-align: right;\">-0.203123</td><td style = \"text-align: right;\">0.465232</td><td style = \"text-align: right;\">-0.557061</td></tr><tr><td class = \"rowNumber\" style = \"font-weight: bold; text-align: right;\">5</td><td style = \"text-align: right;\">0.001</td><td style = \"text-align: right;\">0.464159</td><td style = \"text-align: right;\">0.01</td><td style = \"text-align: right;\">0</td><td style = \"text-align: right;\">NaN</td><td style = \"text-align: right;\">NaN</td><td style = \"text-align: right;\">NaN</td><td style = \"text-align: right;\">NaN</td><td style = \"text-align: right;\">NaN</td><td style = \"text-align: right;\">NaN</td></tr><tr><td class = \"rowNumber\" style = \"font-weight: bold; text-align: right;\">6</td><td style = \"text-align: right;\">0.001</td><td style = \"text-align: right;\">0.464159</td><td style = \"text-align: right;\">0.464159</td><td style = \"text-align: right;\">3001</td><td style = \"text-align: right;\">436.495</td><td style = \"text-align: right;\">1055.8</td><td style = \"text-align: right;\">0.0</td><td style = \"text-align: right;\">0.00221336</td><td style = \"text-align: right;\">0.556656</td><td style = \"text-align: right;\">-0.40818</td></tr><tr><td class = \"rowNumber\" style = \"font-weight: bold; text-align: right;\">7</td><td style = \"text-align: right;\">0.001</td><td style = \"text-align: right;\">0.464159</td><td style = \"text-align: right;\">21.5443</td><td style = \"text-align: right;\">8009</td><td style = \"text-align: right;\">68.8508</td><td style = \"text-align: right;\">737.6</td><td style = \"text-align: right;\">0.0</td><td style = \"text-align: right;\">-0.115762</td><td style = \"text-align: right;\">0.679197</td><td style = \"text-align: right;\">-0.525773</td></tr><tr><td class = \"rowNumber\" style = \"font-weight: bold; text-align: right;\">8</td><td style = \"text-align: right;\">0.001</td><td style = \"text-align: right;\">0.464159</td><td style = \"text-align: right;\">1000.0</td><td style = \"text-align: right;\">13699</td><td style = \"text-align: right;\">101.53</td><td style = \"text-align: right;\">924.4</td><td style = \"text-align: right;\">0.0</td><td style = \"text-align: right;\">-0.233293</td><td style = \"text-align: right;\">0.467003</td><td style = \"text-align: right;\">-0.686618</td></tr><tr><td class = \"rowNumber\" style = \"font-weight: bold; text-align: right;\">9</td><td style = \"text-align: right;\">0.001</td><td style = \"text-align: right;\">21.5443</td><td style = \"text-align: right;\">0.01</td><td style = \"text-align: right;\">5013</td><td style = \"text-align: right;\">471.073</td><td style = \"text-align: right;\">610.5</td><td style = \"text-align: right;\">0.0</td><td style = \"text-align: right;\">-0.471052</td><td style = \"text-align: right;\">0.0</td><td style = \"text-align: right;\">-0.870057</td></tr><tr><td class = \"rowNumber\" style = \"font-weight: bold; text-align: right;\">10</td><td style = \"text-align: right;\">0.001</td><td style = \"text-align: right;\">21.5443</td><td style = \"text-align: right;\">0.464159</td><td style = \"text-align: right;\">3120</td><td style = \"text-align: right;\">502.207</td><td style = \"text-align: right;\">988.3</td><td style = \"text-align: right;\">0.0</td><td style = \"text-align: right;\">-0.60768</td><td style = \"text-align: right;\">0.395425</td><td style = \"text-align: right;\">-0.966199</td></tr><tr><td class = \"rowNumber\" style = \"font-weight: bold; text-align: right;\">11</td><td style = \"text-align: right;\">0.001</td><td style = \"text-align: right;\">21.5443</td><td style = \"text-align: right;\">21.5443</td><td style = \"text-align: right;\">6164</td><td style = \"text-align: right;\">82.8934</td><td style = \"text-align: right;\">790.0</td><td style = \"text-align: right;\">0.0</td><td style = \"text-align: right;\">-0.124987</td><td style = \"text-align: right;\">0.675292</td><td style = \"text-align: right;\">-0.581033</td></tr><tr><td class = \"rowNumber\" style = \"font-weight: bold; text-align: right;\">12</td><td style = \"text-align: right;\">0.001</td><td style = \"text-align: right;\">21.5443</td><td style = \"text-align: right;\">1000.0</td><td style = \"text-align: right;\">15051</td><td style = \"text-align: right;\">94.7885</td><td style = \"text-align: right;\">882.8</td><td style = \"text-align: right;\">0.0</td><td style = \"text-align: right;\">-0.224915</td><td style = \"text-align: right;\">0.516835</td><td style = \"text-align: right;\">-0.684987</td></tr><tr><td class = \"rowNumber\" style = \"font-weight: bold; text-align: right;\">13</td><td style = \"text-align: right;\">0.001</td><td style = \"text-align: right;\">1000.0</td><td style = \"text-align: right;\">0.01</td><td style = \"text-align: right;\">0</td><td style = \"text-align: right;\">NaN</td><td style = \"text-align: right;\">NaN</td><td style = \"text-align: right;\">NaN</td><td style = \"text-align: right;\">NaN</td><td style = \"text-align: right;\">NaN</td><td style = \"text-align: right;\">NaN</td></tr><tr><td style = \"text-align: right;\">&vellip;</td><td style = \"text-align: right;\">&vellip;</td><td style = \"text-align: right;\">&vellip;</td><td style = \"text-align: right;\">&vellip;</td><td style = \"text-align: right;\">&vellip;</td><td style = \"text-align: right;\">&vellip;</td><td style = \"text-align: right;\">&vellip;</td><td style = \"text-align: right;\">&vellip;</td><td style = \"text-align: right;\">&vellip;</td><td style = \"text-align: right;\">&vellip;</td><td style = \"text-align: right;\">&vellip;</td></tr><tr><td class = \"rowNumber\" style = \"font-weight: bold; text-align: right;\">53</td><td style = \"text-align: right;\">100.0</td><td style = \"text-align: right;\">0.464159</td><td style = \"text-align: right;\">0.01</td><td style = \"text-align: right;\">0</td><td style = \"text-align: right;\">NaN</td><td style = \"text-align: right;\">NaN</td><td style = \"text-align: right;\">NaN</td><td style = \"text-align: right;\">NaN</td><td style = \"text-align: right;\">NaN</td><td style = \"text-align: right;\">NaN</td></tr><tr><td class = \"rowNumber\" style = \"font-weight: bold; text-align: right;\">54</td><td style = \"text-align: right;\">100.0</td><td style = \"text-align: right;\">0.464159</td><td style = \"text-align: right;\">0.464159</td><td style = \"text-align: right;\">0</td><td style = \"text-align: right;\">NaN</td><td style = \"text-align: right;\">NaN</td><td style = \"text-align: right;\">NaN</td><td style = \"text-align: right;\">NaN</td><td style = \"text-align: right;\">NaN</td><td style = \"text-align: right;\">NaN</td></tr><tr><td class = \"rowNumber\" style = \"font-weight: bold; text-align: right;\">55</td><td style = \"text-align: right;\">100.0</td><td style = \"text-align: right;\">0.464159</td><td style = \"text-align: right;\">21.5443</td><td style = \"text-align: right;\">0</td><td style = \"text-align: right;\">NaN</td><td style = \"text-align: right;\">NaN</td><td style = \"text-align: right;\">NaN</td><td style = \"text-align: right;\">NaN</td><td style = \"text-align: right;\">NaN</td><td style = \"text-align: right;\">NaN</td></tr><tr><td class = \"rowNumber\" style = \"font-weight: bold; text-align: right;\">56</td><td style = \"text-align: right;\">100.0</td><td style = \"text-align: right;\">0.464159</td><td style = \"text-align: right;\">1000.0</td><td style = \"text-align: right;\">0</td><td style = \"text-align: right;\">NaN</td><td style = \"text-align: right;\">NaN</td><td style = \"text-align: right;\">NaN</td><td style = \"text-align: right;\">NaN</td><td style = \"text-align: right;\">NaN</td><td style = \"text-align: right;\">NaN</td></tr><tr><td class = \"rowNumber\" style = \"font-weight: bold; text-align: right;\">57</td><td style = \"text-align: right;\">100.0</td><td style = \"text-align: right;\">21.5443</td><td style = \"text-align: right;\">0.01</td><td style = \"text-align: right;\">0</td><td style = \"text-align: right;\">NaN</td><td style = \"text-align: right;\">NaN</td><td style = \"text-align: right;\">NaN</td><td style = \"text-align: right;\">NaN</td><td style = \"text-align: right;\">NaN</td><td style = \"text-align: right;\">NaN</td></tr><tr><td class = \"rowNumber\" style = \"font-weight: bold; text-align: right;\">58</td><td style = \"text-align: right;\">100.0</td><td style = \"text-align: right;\">21.5443</td><td style = \"text-align: right;\">0.464159</td><td style = \"text-align: right;\">0</td><td style = \"text-align: right;\">NaN</td><td style = \"text-align: right;\">NaN</td><td style = \"text-align: right;\">NaN</td><td style = \"text-align: right;\">NaN</td><td style = \"text-align: right;\">NaN</td><td style = \"text-align: right;\">NaN</td></tr><tr><td class = \"rowNumber\" style = \"font-weight: bold; text-align: right;\">59</td><td style = \"text-align: right;\">100.0</td><td style = \"text-align: right;\">21.5443</td><td style = \"text-align: right;\">21.5443</td><td style = \"text-align: right;\">0</td><td style = \"text-align: right;\">NaN</td><td style = \"text-align: right;\">NaN</td><td style = \"text-align: right;\">NaN</td><td style = \"text-align: right;\">NaN</td><td style = \"text-align: right;\">NaN</td><td style = \"text-align: right;\">NaN</td></tr><tr><td class = \"rowNumber\" style = \"font-weight: bold; text-align: right;\">60</td><td style = \"text-align: right;\">100.0</td><td style = \"text-align: right;\">21.5443</td><td style = \"text-align: right;\">1000.0</td><td style = \"text-align: right;\">0</td><td style = \"text-align: right;\">NaN</td><td style = \"text-align: right;\">NaN</td><td style = \"text-align: right;\">NaN</td><td style = \"text-align: right;\">NaN</td><td style = \"text-align: right;\">NaN</td><td style = \"text-align: right;\">NaN</td></tr><tr><td class = \"rowNumber\" style = \"font-weight: bold; text-align: right;\">61</td><td style = \"text-align: right;\">100.0</td><td style = \"text-align: right;\">1000.0</td><td style = \"text-align: right;\">0.01</td><td style = \"text-align: right;\">0</td><td style = \"text-align: right;\">NaN</td><td style = \"text-align: right;\">NaN</td><td style = \"text-align: right;\">NaN</td><td style = \"text-align: right;\">NaN</td><td style = \"text-align: right;\">NaN</td><td style = \"text-align: right;\">NaN</td></tr><tr><td class = \"rowNumber\" style = \"font-weight: bold; text-align: right;\">62</td><td style = \"text-align: right;\">100.0</td><td style = \"text-align: right;\">1000.0</td><td style = \"text-align: right;\">0.464159</td><td style = \"text-align: right;\">1525</td><td style = \"text-align: right;\">245.269</td><td style = \"text-align: right;\">899.5</td><td style = \"text-align: right;\">0.0</td><td style = \"text-align: right;\">-0.010956</td><td style = \"text-align: right;\">0.4063</td><td style = \"text-align: right;\">-0.109843</td></tr><tr><td class = \"rowNumber\" style = \"font-weight: bold; text-align: right;\">63</td><td style = \"text-align: right;\">100.0</td><td style = \"text-align: right;\">1000.0</td><td style = \"text-align: right;\">21.5443</td><td style = \"text-align: right;\">0</td><td style = \"text-align: right;\">NaN</td><td style = \"text-align: right;\">NaN</td><td style = \"text-align: right;\">NaN</td><td style = \"text-align: right;\">NaN</td><td style = \"text-align: right;\">NaN</td><td style = \"text-align: right;\">NaN</td></tr><tr><td class = \"rowNumber\" style = \"font-weight: bold; text-align: right;\">64</td><td style = \"text-align: right;\">100.0</td><td style = \"text-align: right;\">1000.0</td><td style = \"text-align: right;\">1000.0</td><td style = \"text-align: right;\">0</td><td style = \"text-align: right;\">NaN</td><td style = \"text-align: right;\">NaN</td><td style = \"text-align: right;\">NaN</td><td style = \"text-align: right;\">NaN</td><td style = \"text-align: right;\">NaN</td><td style = \"text-align: right;\">NaN</td></tr></tbody></table></div>"
      ],
      "text/latex": [
       "\\begin{tabular}{r|ccccccc}\n",
       "\t& ka1 & kb1 & kcat1 & num\\_oscillatory\\_points & average\\_period & maximum\\_period & \\\\\n",
       "\t\\hline\n",
       "\t& Float64 & Float64 & Float64 & Int64 & Float64 & Float64 & \\\\\n",
       "\t\\hline\n",
       "\t1 & 0.001 & 0.01 & 0.01 & 0 & NaN & NaN & $\\dots$ \\\\\n",
       "\t2 & 0.001 & 0.01 & 0.464159 & 3173 & 340.14 & 1005.4 & $\\dots$ \\\\\n",
       "\t3 & 0.001 & 0.01 & 21.5443 & 5778 & 93.7073 & 640.1 & $\\dots$ \\\\\n",
       "\t4 & 0.001 & 0.01 & 1000.0 & 10228 & 118.605 & 830.8 & $\\dots$ \\\\\n",
       "\t5 & 0.001 & 0.464159 & 0.01 & 0 & NaN & NaN & $\\dots$ \\\\\n",
       "\t6 & 0.001 & 0.464159 & 0.464159 & 3001 & 436.495 & 1055.8 & $\\dots$ \\\\\n",
       "\t7 & 0.001 & 0.464159 & 21.5443 & 8009 & 68.8508 & 737.6 & $\\dots$ \\\\\n",
       "\t8 & 0.001 & 0.464159 & 1000.0 & 13699 & 101.53 & 924.4 & $\\dots$ \\\\\n",
       "\t9 & 0.001 & 21.5443 & 0.01 & 5013 & 471.073 & 610.5 & $\\dots$ \\\\\n",
       "\t10 & 0.001 & 21.5443 & 0.464159 & 3120 & 502.207 & 988.3 & $\\dots$ \\\\\n",
       "\t11 & 0.001 & 21.5443 & 21.5443 & 6164 & 82.8934 & 790.0 & $\\dots$ \\\\\n",
       "\t12 & 0.001 & 21.5443 & 1000.0 & 15051 & 94.7885 & 882.8 & $\\dots$ \\\\\n",
       "\t13 & 0.001 & 1000.0 & 0.01 & 0 & NaN & NaN & $\\dots$ \\\\\n",
       "\t14 & 0.001 & 1000.0 & 0.464159 & 6042 & 536.556 & 683.4 & $\\dots$ \\\\\n",
       "\t15 & 0.001 & 1000.0 & 21.5443 & 3312 & 226.282 & 937.8 & $\\dots$ \\\\\n",
       "\t16 & 0.001 & 1000.0 & 1000.0 & 9909 & 105.942 & 862.5 & $\\dots$ \\\\\n",
       "\t17 & 0.0464159 & 0.01 & 0.01 & 0 & NaN & NaN & $\\dots$ \\\\\n",
       "\t18 & 0.0464159 & 0.01 & 0.464159 & 1458 & 257.636 & 807.0 & $\\dots$ \\\\\n",
       "\t19 & 0.0464159 & 0.01 & 21.5443 & 8377 & 86.9596 & 188.5 & $\\dots$ \\\\\n",
       "\t20 & 0.0464159 & 0.01 & 1000.0 & 10651 & 53.7487 & 259.2 & $\\dots$ \\\\\n",
       "\t21 & 0.0464159 & 0.464159 & 0.01 & 0 & NaN & NaN & $\\dots$ \\\\\n",
       "\t22 & 0.0464159 & 0.464159 & 0.464159 & 1946 & 219.381 & 980.8 & $\\dots$ \\\\\n",
       "\t23 & 0.0464159 & 0.464159 & 21.5443 & 8679 & 85.8327 & 508.0 & $\\dots$ \\\\\n",
       "\t24 & 0.0464159 & 0.464159 & 1000.0 & 10561 & 54.153 & 516.9 & $\\dots$ \\\\\n",
       "\t$\\dots$ & $\\dots$ & $\\dots$ & $\\dots$ & $\\dots$ & $\\dots$ & $\\dots$ &  \\\\\n",
       "\\end{tabular}\n"
      ],
      "text/plain": [
       "\u001b[1m64×10 DataFrame\u001b[0m\n",
       "\u001b[1m Row \u001b[0m│\u001b[1m ka1     \u001b[0m\u001b[1m kb1         \u001b[0m\u001b[1m kcat1       \u001b[0m\u001b[1m num_oscillatory_points \u001b[0m\u001b[1m average_peri\u001b[0m ⋯\n",
       "     │\u001b[90m Float64 \u001b[0m\u001b[90m Float64     \u001b[0m\u001b[90m Float64     \u001b[0m\u001b[90m Int64                  \u001b[0m\u001b[90m Float64     \u001b[0m ⋯\n",
       "─────┼──────────────────────────────────────────────────────────────────────────\n",
       "   1 │   0.001     0.01         0.01                           0        NaN    ⋯\n",
       "   2 │   0.001     0.01         0.464159                    3173        340.14\n",
       "   3 │   0.001     0.01        21.5443                      5778         93.70\n",
       "   4 │   0.001     0.01      1000.0                        10228        118.60\n",
       "   5 │   0.001     0.464159     0.01                           0        NaN    ⋯\n",
       "   6 │   0.001     0.464159     0.464159                    3001        436.49\n",
       "   7 │   0.001     0.464159    21.5443                      8009         68.85\n",
       "   8 │   0.001     0.464159  1000.0                        13699        101.53\n",
       "  ⋮  │    ⋮          ⋮            ⋮                 ⋮                   ⋮      ⋱\n",
       "  58 │ 100.0      21.5443       0.464159                       0        NaN    ⋯\n",
       "  59 │ 100.0      21.5443      21.5443                         0        NaN\n",
       "  60 │ 100.0      21.5443    1000.0                            0        NaN\n",
       "  61 │ 100.0    1000.0          0.01                           0        NaN\n",
       "  62 │ 100.0    1000.0          0.464159                    1525        245.26 ⋯\n",
       "  63 │ 100.0    1000.0         21.5443                         0        NaN\n",
       "  64 │ 100.0    1000.0       1000.0                            0        NaN\n",
       "\u001b[36m                                                   6 columns and 49 rows omitted\u001b[0m"
      ]
     },
     "metadata": {},
     "output_type": "display_data"
    }
   ],
   "source": [
    "pnames = [\"ka1\",\"kb1\",\"kcat1\"]\n",
    "\n",
    "# load CSV into DataFrame \n",
    "df = CSV.read(pwd()*\"/3FixedResultsCSVs/fixed_triplet_results-$(pnames[1])$(pnames[2])$(pnames[3]).csv\", DataFrame)\n",
    "excessL_df = CSV.read(pwd()*\"/3FixedResultsCSVsExcessL/fixed_triplet_results-$(pnames[1])$(pnames[2])$(pnames[3]).csv\", DataFrame)"
   ]
  },
  {
   "cell_type": "code",
   "execution_count": 8,
   "metadata": {},
   "outputs": [
    {
     "data": {
      "text/plain": [
       "scatters_in_3D (generic function with 1 method)"
      ]
     },
     "metadata": {},
     "output_type": "display_data"
    }
   ],
   "source": [
    "#< GLMakie plots\n",
    "\n",
    "function scatters_in_3D(df; fig = Figure(resolution=(1600, 1000)),  angle=30)\n",
    "    pnames = names(df)[1:3]\n",
    "    xlog = log10.(df[:, pnames[1]])\n",
    "    ylog = log10.(df[:, pnames[2]])\n",
    "    zlog = log10.(df[:, pnames[3]])\n",
    "\n",
    "    x = df[:, pnames[1]]\n",
    "    y = df[:, pnames[2]]\n",
    "    z = df[:, pnames[3]]\n",
    "\n",
    "    # Identify non-NaN indices and values\n",
    "    nonan_indices = findall(!isnan, df[:, :average_period])\n",
    "    # nonan_amplitudes = df[:, :average_amplitude][nonan_indices]\n",
    "    nonan_numpoints = df[:, :num_oscillatory_points][nonan_indices]\n",
    "\n",
    "    nonan_periods = df[:, :average_period][nonan_indices]\n",
    "\n",
    "    # Normalize sizes for non-NaN values\n",
    "    sizes = fill(0.1, size(df, 1))\n",
    "    # sizes[nonan_indices] = ((nonan_amplitudes .- minimum(nonan_amplitudes)) ./ (maximum(nonan_amplitudes) - minimum(nonan_amplitudes))) ./ 2 \n",
    "    sizes[nonan_indices] = ((nonan_numpoints .- minimum(nonan_numpoints)) ./ (maximum(nonan_numpoints) - minimum(nonan_numpoints))) ./ 2 \n",
    "\n",
    "\n",
    "    # Normalize periods for non-NaN values\n",
    "    norm_periods = fill(NaN, size(df, 1))\n",
    "\n",
    "    norm_periods[nonan_indices] = (nonan_periods .- minimum(nonan_periods)) ./ (maximum(nonan_periods) - minimum(nonan_periods)) \n",
    "\n",
    "    # Create the figure and axis\n",
    "    \n",
    "    ax = Axis3(fig[1:2,1]; aspect=:data, perspectiveness=0.5, title=\"3 Fixed Parameter Oscillatory Regions\", xlabel = pnames[1], ylabel = pnames[2], zlabel = pnames[3])\n",
    "\n",
    "    # Scatter plot for non-NaN values\n",
    "    hm = meshscatter!(ax, xlog, ylog, zlog; markersize=sizes, ssao=true, color=df.average_period, colormap=:thermal, transparency=false, nan_color=:gray,\n",
    "                        diffuse = Vec3f(0.5, 0.5, 0.5), specular = Vec3f(0.3, 0.3, 0.3), shininess = 100f0, ambient = Vec3f(0.1), shading=true)\n",
    "\n",
    "    # meshscatter!(ax, xlog, ylog; markersize=sizes, marker= Rect3f(Vec3f(0.,0.,0.1)), ssao=true, color=df.average_period, colormap=:thermal, transparency=false, nan_color=:gray,\n",
    "    #                     diffuse = Vec3f(0.0), specular = Vec3f(0.0), shininess = 0, ambient = Vec3f(0.0))\n",
    "\n",
    "    # Scatter plot for NaN values in gray\n",
    "    # nan_indices = findall(isnan, df[:, :average_period])\n",
    "    # meshscatter!(ax3, x[nan_indices], y[nan_indices], z[nan_indices]; markersize=sizes[nan_indices], color=:gray)\n",
    "\n",
    "    # Colorbar and labels\n",
    "    Colorbar(fig[2, 4], hm, label=\"Period (s)\", height=Relative(2.0))\n",
    "    colgap!(fig.layout, 5)\n",
    "    # xlabel!(ax3, \"log10(kb3)\")\n",
    "    # ylabel!(ax3, \"log10(kb4)\")\n",
    "    # zlabel!(ax3, \"log10(DF)\")\n",
    "\n",
    "    # Display plot\n",
    "    fig\n",
    "end"
   ]
  },
  {
   "cell_type": "code",
   "execution_count": 9,
   "metadata": {},
   "outputs": [],
   "source": [
    "fig = scatters_in_3D(df)\n",
    "\n",
    "# fig2 = scatters_in_3D(excessL_df; fig=fig)"
   ]
  },
  {
   "cell_type": "code",
   "execution_count": null,
   "metadata": {},
   "outputs": [],
   "source": []
  }
 ],
 "metadata": {
  "kernelspec": {
   "display_name": "Julia 1.9.2",
   "language": "julia",
   "name": "julia-1.9"
  },
  "language_info": {
   "file_extension": ".jl",
   "mimetype": "application/julia",
   "name": "julia",
   "version": "1.9.2"
  },
  "orig_nbformat": 4
 },
 "nbformat": 4,
 "nbformat_minor": 2
}
